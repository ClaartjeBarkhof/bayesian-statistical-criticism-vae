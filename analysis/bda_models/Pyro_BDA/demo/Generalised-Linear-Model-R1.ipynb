{
 "cells": [
  {
   "cell_type": "code",
   "execution_count": 1,
   "id": "8134a450",
   "metadata": {},
   "outputs": [],
   "source": [
    "%load_ext autoreload\n",
    "%autoreload 2"
   ]
  },
  {
   "cell_type": "code",
   "execution_count": 2,
   "id": "7b15ffe9",
   "metadata": {},
   "outputs": [],
   "source": [
    "import pyro\n",
    "assert pyro.__version__.startswith('1.6.0')\n",
    "\n",
    "import torch\n",
    "import torch.distributions as td\n",
    "\n",
    "import numpy as np\n",
    "from tqdm.auto import tqdm\n",
    "from tabulate import tabulate\n",
    "import matplotlib.pyplot as plt\n",
    "import arviz\n",
    "\n",
    "from collections import OrderedDict, namedtuple\n",
    "from pyro import poutine\n",
    "\n",
    "import matplotlib.pyplot as plt\n",
    "import numpy as np\n",
    "from tqdm.auto import tqdm\n",
    "\n",
    "import torch\n",
    "import torch.nn.functional as F\n",
    "from torch.distributions import constraints\n",
    "\n",
    "import torch.distributions  as td\n",
    "\n",
    "import pyro.distributions as pd\n",
    "from pyro.optim import ClippedAdam\n",
    "from pyro.infer import Predictive, SVI, Trace_ELBO, TraceEnum_ELBO\n",
    "from pyro.infer import config_enumerate, infer_discrete\n",
    "from pyro import poutine\n",
    "\n",
    "from tabulate import tabulate\n",
    "from collections import namedtuple, OrderedDict\n",
    "import random"
   ]
  },
  {
   "cell_type": "code",
   "execution_count": 3,
   "id": "e82e180e",
   "metadata": {},
   "outputs": [],
   "source": [
    "random.seed(0)\n",
    "np.random.seed(0)\n",
    "pyro.set_rng_seed(0)\n",
    "torch.manual_seed(0)\n",
    "rng = np.random.RandomState(0)"
   ]
  },
  {
   "cell_type": "code",
   "execution_count": 4,
   "id": "29d6d384",
   "metadata": {},
   "outputs": [],
   "source": [
    "import pickle\n",
    "import numpy as np"
   ]
  },
  {
   "cell_type": "markdown",
   "id": "4f92d4f5",
   "metadata": {},
   "source": [
    "Create some predictors"
   ]
  },
  {
   "cell_type": "code",
   "execution_count": 5,
   "id": "2e3f0a45",
   "metadata": {},
   "outputs": [
    {
     "data": {
      "text/plain": [
       "(1000, 4, 2)"
      ]
     },
     "execution_count": 5,
     "metadata": {},
     "output_type": "execute_result"
    }
   ],
   "source": [
    "# G, N, 3\n",
    "N = 1000\n",
    "inputs = np.stack(\n",
    "    [\n",
    "        rng.poisson(2., size=N),\n",
    "        rng.poisson(2., size=N),\n",
    "        rng.poisson(7., size=N),\n",
    "        np.where(rng.normal(0., 1., size=N) > 0., rng.poisson(10., size=N), rng.poisson(20., size=N))\n",
    "    ],\n",
    "    1\n",
    ")\n",
    "w1 = rng.normal(0., 0.5)\n",
    "b1 = rng.normal(0., 1.)\n",
    "inputs = np.stack([inputs, inputs * w1 + b1], -1)\n",
    "inputs.shape"
   ]
  },
  {
   "cell_type": "code",
   "execution_count": 6,
   "id": "7013f197",
   "metadata": {},
   "outputs": [
    {
     "data": {
      "text/plain": [
       "(1000, 4)"
      ]
     },
     "execution_count": 6,
     "metadata": {},
     "output_type": "execute_result"
    }
   ],
   "source": [
    "w2 = rng.normal(0., 1.0)\n",
    "b2 = rng.normal(0., 2.0)\n",
    "outputs = rng.poisson(1 + np.abs(np.where(rng.normal(0., 1.0, size=inputs.shape[:-1]) > -1, inputs[...,0] * w2 + b2, inputs[...,1] * w2 * 2 + b2 * 2)))\n",
    "outputs.shape"
   ]
  },
  {
   "cell_type": "code",
   "execution_count": 7,
   "id": "439fa7e6",
   "metadata": {},
   "outputs": [],
   "source": [
    "group_names = ('P2', 'P2', 'P7', 'P10P20')"
   ]
  },
  {
   "cell_type": "code",
   "execution_count": 8,
   "id": "d2c98cd5",
   "metadata": {},
   "outputs": [],
   "source": [
    "from probabll.bda.glm import Plotting"
   ]
  },
  {
   "cell_type": "code",
   "execution_count": 9,
   "id": "5f7f511f",
   "metadata": {},
   "outputs": [
    {
     "data": {
      "image/png": "[encoded data removed]",
      "text/plain": [
       "<Figure size 432x288 with 4 Axes>"
      ]
     },
     "metadata": {
      "needs_background": "light"
     },
     "output_type": "display_data"
    }
   ],
   "source": [
    "_ = Plotting.obs(inputs[...,0], xlabels=r'$x_1$', ylabels=group_names, bins=100)"
   ]
  },
  {
   "cell_type": "code",
   "execution_count": 10,
   "id": "4edc8baa",
   "metadata": {},
   "outputs": [
    {
     "data": {
      "image/png": "[encoded data removed]",
      "text/plain": [
       "<Figure size 432x288 with 4 Axes>"
      ]
     },
     "metadata": {
      "needs_background": "light"
     },
     "output_type": "display_data"
    }
   ],
   "source": [
    "_ = Plotting.obs(inputs[...,1], xlabels=r'$x_2$', ylabels=group_names, bins=100)"
   ]
  },
  {
   "cell_type": "code",
   "execution_count": 11,
   "id": "9e13340e",
   "metadata": {},
   "outputs": [
    {
     "data": {
      "image/png": "[encoded data removed]",
      "text/plain": [
       "<Figure size 432x288 with 4 Axes>"
      ]
     },
     "metadata": {
      "needs_background": "light"
     },
     "output_type": "display_data"
    }
   ],
   "source": [
    "_ = Plotting.obs(outputs, xlabels=r'$y$', ylabels=group_names, bins=100)"
   ]
  },
  {
   "cell_type": "markdown",
   "id": "5b910745",
   "metadata": {},
   "source": [
    "# Hierarchical Poisson Regression\n",
    "\n",
    "* Count data $y_n$\n",
    "* $I$-dimensional input predictors $\\mathbf x_n$\n",
    "\n",
    "\\begin{align}\n",
    "    \\mu &\\sim \\mathcal N(0, 100) \\\\\n",
    "    \\mathbf s &\\sim \\mathcal N(\\mathbf 0_I, 100 \\times \\mathbf 1_I) \\\\\n",
    "    \\text{For each group }g=1, \\ldots, G& \\\\\n",
    "    \\mathbf w_g &\\sim \\mathcal N(\\mathbf 0_I, \\mathbf 1_I)\\\\\n",
    "    b_g &\\sim \\mathcal N(0,1) \\\\\n",
    "    \\text{For each observation }n=1, \\ldots, N &\\\\\n",
    "    y_{n,g}|\\mathbf x_{n,g} &\\sim \\mathrm{Poisson(\\lambda_{n,g})}\\\\\n",
    "    \\lambda_{n,g} &= \\mathrm{softplus}(\\mu + (\\mathbf s + \\mathbf w_g)^\\top \\mathbf x_n + b_g) \n",
    "\\end{align}\n",
    "\n",
    "Alternatively, we can also use a GammaPoisson (a reparematerisation of the NegativeBinomial) likelihood:\n",
    "\n",
    "\\begin{align}\n",
    "    \\text{For each group }g=1, \\ldots, G& \\\\\n",
    "    \\beta_g &\\sim \\mathrm{Exp}(1) \\\\\n",
    "    \\text{For each observation }n=1, \\ldots, N &\\\\\n",
    "    y_{n,g}|\\mathbf x_{n,g} &\\sim \\mathrm{GammaPoisson(\\lambda_{n,g}, \\beta_g)}\\\\\n",
    "    \\lambda_{n,g} &= \\mathrm{softplus}(\\mu + (\\mathbf s + \\mathbf w_g)^\\top \\mathbf x_n + b_g) \n",
    "\\end{align}\n",
    "\n",
    "Note that $\\mathrm{GammaPoisson}(\\lambda, 1) \\sim \\mathrm{Poisson}(\\lambda)$."
   ]
  },
  {
   "cell_type": "code",
   "execution_count": 12,
   "id": "b962fcba",
   "metadata": {},
   "outputs": [],
   "source": [
    "from probabll.bda.glm import Family, GeneralisedLinearModelR1"
   ]
  },
  {
   "cell_type": "code",
   "execution_count": 13,
   "id": "b23c7f91",
   "metadata": {},
   "outputs": [],
   "source": [
    "model = GeneralisedLinearModelR1(\n",
    "    #Family.Poisson(),\n",
    "    Family.GammaPoisson(2., 2.), # You can support new families if needed\n",
    "    mu_scale=10., \n",
    "    s_scale=1.,\n",
    "    w_scale=1.,\n",
    "    b_scale=1.,\n",
    "    device=torch.device('cuda:0')\n",
    ")"
   ]
  },
  {
   "cell_type": "markdown",
   "id": "613d6e29",
   "metadata": {},
   "source": [
    "To use this class you need to \n",
    "* prepare data\n",
    "* fit model\n",
    "* sample from posterior\n",
    "\n",
    "You can find some ideas of plots relevant to this model family in `glm.Plotting`."
   ]
  },
  {
   "cell_type": "code",
   "execution_count": 14,
   "id": "4229eab9",
   "metadata": {},
   "outputs": [
    {
     "data": {
      "text/plain": [
       "(torch.Size([1000, 4, 2]),\n",
       " device(type='cuda', index=0),\n",
       " torch.float32,\n",
       " torch.Size([1000, 4]),\n",
       " device(type='cuda', index=0),\n",
       " torch.float32)"
      ]
     },
     "execution_count": 14,
     "metadata": {},
     "output_type": "execute_result"
    }
   ],
   "source": [
    "x, y = model.prepare(inputs, outputs)\n",
    "x.shape, x.device, x.dtype, y.shape, y.device, y.dtype"
   ]
  },
  {
   "cell_type": "markdown",
   "id": "bbce3eac",
   "metadata": {},
   "source": [
    "Let's inspect that the shapes are correct"
   ]
  },
  {
   "cell_type": "code",
   "execution_count": 15,
   "id": "e1954bc5",
   "metadata": {},
   "outputs": [
    {
     "name": "stdout",
     "output_type": "stream",
     "text": [
      "    Trace Shapes:              \n",
      "     Param Sites:              \n",
      "    Sample Sites:              \n",
      "          mu dist    1 |       \n",
      "            value    1 |       \n",
      "         log_prob    1 |       \n",
      "           s dist      |    2  \n",
      "            value      |    2  \n",
      "         log_prob      |       \n",
      "      groups dist      |       \n",
      "            value    4 |       \n",
      "         log_prob      |       \n",
      "           w dist    4 |    2  \n",
      "            value    4 |    2  \n",
      "         log_prob    4 |       \n",
      "           b dist    4 |       \n",
      "            value    4 |       \n",
      "         log_prob    4 |       \n",
      "        beta dist    4 |       \n",
      "            value    4 |       \n",
      "         log_prob    4 |       \n",
      "observations dist      |       \n",
      "            value 1000 |       \n",
      "         log_prob      |       \n",
      "         eta dist 1000 | 1000 4\n",
      "            value      | 1000 4\n",
      "         log_prob 1000 |       \n",
      "        link dist 1000 | 1000 4\n",
      "            value      | 1000 4\n",
      "         log_prob 1000 |       \n",
      "         obs dist 1000 |    4  \n",
      "            value 1000 |    4  \n",
      "         log_prob 1000 |       \n"
     ]
    }
   ],
   "source": [
    "model.print_model_shapes(x)"
   ]
  },
  {
   "cell_type": "code",
   "execution_count": 16,
   "id": "423fe245",
   "metadata": {},
   "outputs": [
    {
     "name": "stdout",
     "output_type": "stream",
     "text": [
      "Trace Shapes:      \n",
      " Param Sites:      \n",
      "       mu_loc   1  \n",
      "     mu_scale   1  \n",
      "        s_loc   2  \n",
      "      s_scale   2  \n",
      "        w_loc 4 2  \n",
      "      w_scale 4 2  \n",
      "        b_loc   4  \n",
      "      b_scale   4  \n",
      "     beta_loc   1  \n",
      "   beta_scale   1  \n",
      "Sample Sites:      \n",
      "      mu dist 1 |  \n",
      "        value 1 |  \n",
      "     log_prob 1 |  \n",
      "       s dist   | 2\n",
      "        value   | 2\n",
      "     log_prob   |  \n",
      "  groups dist   |  \n",
      "        value 4 |  \n",
      "     log_prob   |  \n",
      "       w dist 4 | 2\n",
      "        value 4 | 2\n",
      "     log_prob 4 |  \n",
      "       b dist 4 |  \n",
      "        value 4 |  \n",
      "     log_prob 4 |  \n",
      "    beta dist 4 |  \n",
      "        value 4 |  \n",
      "     log_prob 4 |  \n"
     ]
    }
   ],
   "source": [
    "model.print_guide_shapes(x)"
   ]
  },
  {
   "cell_type": "markdown",
   "id": "ebf3434b",
   "metadata": {},
   "source": [
    "It's good to sample from the *prior predictive* distribution to see if the observations are plausible under the given model."
   ]
  },
  {
   "cell_type": "code",
   "execution_count": 17,
   "id": "6463346d",
   "metadata": {},
   "outputs": [
    {
     "name": "stdout",
     "output_type": "stream",
     "text": [
      "----  --------------------------\n",
      "mu    torch.Size([100, 1])\n",
      "s     torch.Size([100, 1, 2])\n",
      "w     torch.Size([100, 4, 2])\n",
      "b     torch.Size([100, 4])\n",
      "beta  torch.Size([100, 4])\n",
      "obs   torch.Size([100, 1000, 4])\n",
      "eta   torch.Size([100, 1000, 4])\n",
      "link  torch.Size([100, 1000, 4])\n",
      "----  --------------------------\n"
     ]
    }
   ],
   "source": [
    "prior_pred = model.prior_predict(100, x)\n",
    "print(tabulate([(t_name, t.shape) for t_name, t in prior_pred.items()]))"
   ]
  },
  {
   "cell_type": "code",
   "execution_count": 18,
   "id": "aad497b0",
   "metadata": {},
   "outputs": [
    {
     "data": {
      "image/png": "[encoded data removed]",
      "text/plain": [
       "<Figure size 432x288 with 4 Axes>"
      ]
     },
     "metadata": {
      "needs_background": "light"
     },
     "output_type": "display_data"
    }
   ],
   "source": [
    "_ = Plotting.pred(prior_pred, obs=y, bins=100, xlabels=r'$y$', ylabels=group_names)"
   ]
  },
  {
   "cell_type": "code",
   "execution_count": 19,
   "id": "3e24f1b2",
   "metadata": {},
   "outputs": [
    {
     "data": {
      "text/plain": [
       "OrderedDict([('pvalue',\n",
       "              tensor([0.0000, 0.0680, 0.0000, 0.0000], device='cuda:0'))])"
      ]
     },
     "execution_count": 19,
     "metadata": {},
     "output_type": "execute_result"
    }
   ],
   "source": [
    "model.prior_checks(x, y)"
   ]
  },
  {
   "cell_type": "markdown",
   "id": "c895c297",
   "metadata": {},
   "source": [
    "Stochastic variatonal inference"
   ]
  },
  {
   "cell_type": "code",
   "execution_count": 20,
   "id": "5d9e69f3",
   "metadata": {},
   "outputs": [
    {
     "data": {
      "application/vnd.jupyter.widget-view+json": {
       "model_id": "90e4bf32dbf346e8b2b38271403da687",
       "version_major": 2,
       "version_minor": 0
      },
      "text/plain": [
       "  0%|          | 0/2000 [00:00<?, ?it/s]"
      ]
     },
     "metadata": {},
     "output_type": "display_data"
    }
   ],
   "source": [
    "model.fit(x, y, num_iterations=2000)"
   ]
  },
  {
   "cell_type": "markdown",
   "id": "92b6c1d3",
   "metadata": {},
   "source": [
    "Now we sample from the *posterior predictive* distribution. This will give us posterior samples for latent parameters, as well as posterior predictions for `obs'."
   ]
  },
  {
   "cell_type": "code",
   "execution_count": 21,
   "id": "f1c0de8a",
   "metadata": {},
   "outputs": [],
   "source": [
    "pred = model.posterior_predict(1000, x)"
   ]
  },
  {
   "cell_type": "code",
   "execution_count": 22,
   "id": "6b7a9107",
   "metadata": {},
   "outputs": [
    {
     "name": "stdout",
     "output_type": "stream",
     "text": [
      "----  ---------------------------\n",
      "mu    torch.Size([1000, 1])\n",
      "s     torch.Size([1000, 1, 2])\n",
      "w     torch.Size([1000, 4, 2])\n",
      "b     torch.Size([1000, 4])\n",
      "beta  torch.Size([1000, 4])\n",
      "obs   torch.Size([1000, 1000, 4])\n",
      "eta   torch.Size([1000, 1000, 4])\n",
      "link  torch.Size([1000, 1000, 4])\n",
      "----  ---------------------------\n"
     ]
    }
   ],
   "source": [
    "print(tabulate([[rv_name, rv_t.shape] for rv_name, rv_t in pred.items()]))"
   ]
  },
  {
   "cell_type": "markdown",
   "id": "a184085b",
   "metadata": {},
   "source": [
    "A simple predictive check is to verify that the observed data remains probable under the posterior predictive distribution. We can estimate the *posterior predictive p-value*\n",
    "\\begin{align}\n",
    "    \\Pr(Y > y|\\mathcal D)\n",
    "\\end{align}\n",
    "that is, the probability that a sample from the posterior predictive distribution is more extreme than the observation. \n",
    "\n",
    "Ideally, this *should not be close to extreme values*."
   ]
  },
  {
   "cell_type": "code",
   "execution_count": 23,
   "id": "af560c12",
   "metadata": {},
   "outputs": [
    {
     "name": "stdout",
     "output_type": "stream",
     "text": [
      "system      predictive p-value\n",
      "--------  --------------------\n",
      "P2                    0.411226\n",
      "P2                    0.415285\n",
      "P7                    0.426509\n",
      "P10P20                0.424456\n"
     ]
    }
   ],
   "source": [
    "print(tabulate(\n",
    "    zip(group_names, (pred['obs']  > y).float().mean((0,1))),\n",
    "    headers=['system', 'predictive p-value']))"
   ]
  },
  {
   "cell_type": "markdown",
   "id": "67f93534",
   "metadata": {},
   "source": [
    "First, let's inspect whether our **posterior predictions** resemble the observed data."
   ]
  },
  {
   "cell_type": "code",
   "execution_count": 24,
   "id": "a5847ecf",
   "metadata": {},
   "outputs": [
    {
     "data": {
      "image/png": "[encoded data removed]",
      "text/plain": [
       "<Figure size 432x288 with 4 Axes>"
      ]
     },
     "metadata": {
      "needs_background": "light"
     },
     "output_type": "display_data"
    }
   ],
   "source": [
    "_ = Plotting.pred(pred, obs=y, bins=100, xlabels=r'$y$', ylabels=group_names)"
   ]
  },
  {
   "cell_type": "markdown",
   "id": "04329bea",
   "metadata": {},
   "source": [
    "Assuming they do, we are good to **interpret the latent parameters** below."
   ]
  },
  {
   "cell_type": "markdown",
   "id": "6da8e2e8",
   "metadata": {},
   "source": [
    "**Global offset**"
   ]
  },
  {
   "cell_type": "code",
   "execution_count": 25,
   "id": "9b242cda",
   "metadata": {},
   "outputs": [
    {
     "data": {
      "image/png": "[encoded data removed]",
      "text/plain": [
       "<Figure size 432x288 with 1 Axes>"
      ]
     },
     "metadata": {
      "needs_background": "light"
     },
     "output_type": "display_data"
    }
   ],
   "source": [
    "_ = Plotting.mu(pred)"
   ]
  },
  {
   "cell_type": "markdown",
   "id": "b55644a5",
   "metadata": {},
   "source": [
    "**Feature-specific slopes**\n",
    "\n",
    "* $s$ is feature specific\n",
    "* $w$ is group-specific and feature-specific"
   ]
  },
  {
   "cell_type": "code",
   "execution_count": 26,
   "id": "eb47d692",
   "metadata": {},
   "outputs": [
    {
     "data": {
      "image/png": "[encoded data removed]",
      "text/plain": [
       "<Figure size 360x1080 with 3 Axes>"
      ]
     },
     "metadata": {
      "needs_background": "light"
     },
     "output_type": "display_data"
    }
   ],
   "source": [
    "_ = Plotting.slope(pred, figsize=(5, 15))"
   ]
  },
  {
   "cell_type": "markdown",
   "id": "d56b9af9",
   "metadata": {},
   "source": [
    "**Offset**\n",
    "\n",
    "* $\\mu$ is global\n",
    "* $b$ is group specific"
   ]
  },
  {
   "cell_type": "code",
   "execution_count": 27,
   "id": "7afa1bfc",
   "metadata": {},
   "outputs": [
    {
     "data": {
      "image/png": "[encoded data removed]",
      "text/plain": [
       "<Figure size 1008x288 with 2 Axes>"
      ]
     },
     "metadata": {
      "needs_background": "light"
     },
     "output_type": "display_data"
    }
   ],
   "source": [
    "_ = Plotting.bias(pred, figsize=(14,4))"
   ]
  },
  {
   "cell_type": "markdown",
   "id": "3e48d413",
   "metadata": {},
   "source": [
    "# Other Latent Quantities\n",
    "\n",
    "It's useful to appreciate properties of the posterior parameters of the sampling distribution"
   ]
  },
  {
   "cell_type": "code",
   "execution_count": 28,
   "id": "1ae4ce8e",
   "metadata": {},
   "outputs": [
    {
     "data": {
      "image/png": "[encoded data removed]",
      "text/plain": [
       "<Figure size 432x288 with 1 Axes>"
      ]
     },
     "metadata": {
      "needs_background": "light"
     },
     "output_type": "display_data"
    }
   ],
   "source": [
    "_ = arviz.plot_forest({r'$\\lambda_g$': (pred['link']).reshape(1, -1, y.shape[-1]).cpu().numpy()}, figsize=(6, 4))"
   ]
  },
  {
   "cell_type": "code",
   "execution_count": 29,
   "id": "37e25856",
   "metadata": {},
   "outputs": [
    {
     "data": {
      "image/png": "[encoded data removed]",
      "text/plain": [
       "<Figure size 432x288 with 1 Axes>"
      ]
     },
     "metadata": {
      "needs_background": "light"
     },
     "output_type": "display_data"
    }
   ],
   "source": [
    "if 'beta' in pred:\n",
    "    _ = arviz.plot_forest({r'$\\beta_g$': pred['beta'].unsqueeze(0).cpu().numpy()}, figsize=(6, 4))"
   ]
  },
  {
   "cell_type": "code",
   "execution_count": 30,
   "id": "8294242c",
   "metadata": {},
   "outputs": [
    {
     "data": {
      "image/png": "[encoded data removed]",
      "text/plain": [
       "<Figure size 1152x288 with 2 Axes>"
      ]
     },
     "metadata": {
      "needs_background": "light"
     },
     "output_type": "display_data"
    }
   ],
   "source": [
    "if 'beta' in pred:\n",
    "    fig, ax = plt.subplots(ncols=2, nrows=1, figsize=(16, 4))  \n",
    "    _ = arviz.plot_forest({r'$E[Y]$': (pred['link']/pred['beta'].unsqueeze(1)).reshape(1, -1, y.shape[-1]).cpu().numpy()}, ax=ax[0])\n",
    "    _ = arviz.plot_forest({r'$var(Y)$': (pred['link']/(pred['beta']**2).unsqueeze(1)).reshape(1, -1, y.shape[-1]).cpu().numpy()}, ax=ax[1])"
   ]
  },
  {
   "cell_type": "code",
   "execution_count": null,
   "id": "2535ec05",
   "metadata": {},
   "outputs": [],
   "source": []
  }
 ],
 "metadata": {
  "kernelspec": {
   "display_name": "Python 3 (ipykernel)",
   "language": "python",
   "name": "python3"
  },
  "language_info": {
   "codemirror_mode": {
    "name": "ipython",
    "version": 3
   },
   "file_extension": ".py",
   "mimetype": "text/x-python",
   "name": "python",
   "nbconvert_exporter": "python",
   "pygments_lexer": "ipython3",
   "version": "3.7.9"
  }
 },
 "nbformat": 4,
 "nbformat_minor": 5
}
