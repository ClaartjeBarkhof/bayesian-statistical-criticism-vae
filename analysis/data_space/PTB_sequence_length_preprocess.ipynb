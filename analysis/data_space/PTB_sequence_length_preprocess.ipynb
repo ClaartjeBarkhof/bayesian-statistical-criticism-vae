{
 "cells": [
  {
   "cell_type": "code",
   "execution_count": 1,
   "metadata": {},
   "outputs": [],
   "source": [
    "CODE_DIR = \"/home/cbarkhof/fall-2021\"\n",
    "ANALYSIS_DIR = f\"{CODE_DIR}/analysis/analysis-files\"\n",
    "CHECKPOINT_DIR = f\"{CODE_DIR}/run_files/checkpoints\"\n",
    "\n",
    "N_UNCONDITIONAL_SAMPLES = 2000\n",
    "N_VALID_CONDITIONAL_SAMPELS = 2000\n",
    "N_TRAIN_SAMPLES = 2000\n",
    "\n",
    "COND_SAMPLE_BATCH_SIZE = 200\n",
    "\n",
    "SAMPLE_FILE = f\"generative-samples.pt\"\n",
    "CONDITIONAL_SAMPLE_FILE = f\"generative-conditional-samples.pt\"\n",
    "\n",
    "DEVICE = \"cuda:0\"\n",
    "\n",
    "import sys; sys.path.append(CODE_DIR)\n",
    "\n",
    "import torch\n",
    "\n",
    "from analysis.language_analysis.analysis_steps import make_run_overview_df, get_test_validation_loader\n",
    "from analysis.MNIST_analysis.analysis_utils import get_n_data_samples_x_y\n",
    "from utils import load_checkpoint_model_for_eval"
   ]
  },
  {
   "cell_type": "code",
   "execution_count": 4,
   "metadata": {},
   "outputs": [
    {
     "name": "stdout",
     "output_type": "stream",
     "text": [
      "config_file None\n",
      "objective VAE\n",
      "beta_beta 1.0\n",
      "free_bits 5.0\n",
      "free_bits_per_dimension True\n",
      "mdr_value 16.0\n",
      "mdr_constraint_optim_lr 0.001\n",
      "info_lambda_1_rate 1.0\n",
      "info_lambda_2_mmd 100.0\n",
      "rate_constraint_val 16.0\n",
      "rate_constraint_rel eq\n",
      "rate_constraint_lr 0.001\n",
      "mmd_constraint_val 0.005\n",
      "mmd_constraint_rel le\n",
      "mmd_constraint_lr 0.001\n",
      "batch_size 32\n",
      "max_steps 1000000\n",
      "max_epochs 120\n",
      "eval_ll_every_n_epochs 1\n",
      "gen_opt adam\n",
      "gen_lr 1e-05\n",
      "gen_l2_weight 0.0001\n",
      "gen_momentum 0.0\n",
      "inf_opt adam\n",
      "inf_lr 1e-05\n",
      "inf_l2_weight 0.0001\n",
      "inf_momentum 0.0\n",
      "max_gradient_norm 1.0\n",
      "iw_n_samples 50\n",
      "latent_dim 32\n",
      "decoder_network_type strong_distil_roberta_decoder\n",
      "decoder_MADE_gating True\n",
      "decoder_MADE_gating_mechanism 0\n",
      "strong_roberta_decoder_embedding_dropout False\n",
      "strong_roberta_decoder_embedding_dropout_prob 0.2\n",
      "decoder_MADE_hidden_sizes 200-220\n",
      "encoder_network_type distil_roberta_encoder\n",
      "encoder_MADE_hidden_sizes 200-220\n",
      "q_z_x_type independent_gaussian\n",
      "p_z_type isotropic_gaussian\n",
      "mog_n_components 10\n",
      "data_dir /home/cbarkhof/fall-2021/data\n",
      "image_or_language language\n",
      "data_distribution categorical\n",
      "image_dataset_name bmnist\n",
      "image_w_h 28\n",
      "n_channels 1\n",
      "tokenizer_name roberta-base\n",
      "language_dataset_name ptb\n",
      "vocab_size 50265\n",
      "num_workers 2\n",
      "pin_memory True\n",
      "max_seq_len 64\n",
      "print_stats True\n",
      "print_every_n_steps 1\n",
      "logging False\n",
      "checkpointing False\n",
      "log_every_n_steps 1\n",
      "wandb_project fall-2021-VAE\n",
      "gpus 1\n",
      "ddp False\n",
      "code_dir /home/cbarkhof/fall-2021\n",
      "job_id \n",
      "short_dev_run False\n",
      "run_name_prefix \n",
      "run_name VAE | STRONG | Nz=32\n",
      "checkpoint_dir /home/cbarkhof/fall-2021/run_files/checkpoints/\n",
      "wandb_dir /home/cbarkhof/fall-2021/run_files/\n"
     ]
    }
   ],
   "source": [
    "from dataset_dataloader import LanguageDataset\n",
    "from arguments import prepare_parser\n",
    "\n",
    "config = prepare_parser(jupyter=True, print_settings=False)\n",
    "for k, v in vars(config).items():\n",
    "    print(k, v)"
   ]
  },
  {
   "cell_type": "code",
   "execution_count": 5,
   "metadata": {
    "scrolled": true
   },
   "outputs": [
    {
     "name": "stdout",
     "output_type": "stream",
     "text": [
      "New pre-processing\n"
     ]
    },
    {
     "name": "stderr",
     "output_type": "stream",
     "text": [
      "W1215 13:04:37.576871 23010757607168 builder.py:539] Reusing dataset yahoo_answers_topics (/home/cbarkhof/.cache/huggingface/datasets/yahoo_answers_topics/yahoo_answers_topics/1.0.0/b2712a72fde278f1d6e96cc4f485fd89ed2f79ecb231441e13645b53da021902)\n",
      "W1215 13:04:38.559062 23010757607168 builder.py:539] Reusing dataset yahoo_answers_topics (/home/cbarkhof/.cache/huggingface/datasets/yahoo_answers_topics/yahoo_answers_topics/1.0.0/b2712a72fde278f1d6e96cc4f485fd89ed2f79ecb231441e13645b53da021902)\n",
      "W1215 13:04:39.019777 23010757607168 builder.py:539] Reusing dataset yahoo_answers_topics (/home/cbarkhof/.cache/huggingface/datasets/yahoo_answers_topics/yahoo_answers_topics/1.0.0/b2712a72fde278f1d6e96cc4f485fd89ed2f79ecb231441e13645b53da021902)\n"
     ]
    },
    {
     "data": {
      "application/vnd.jupyter.widget-view+json": {
       "model_id": "945435a7de1a43cd86c052f1e4f1100e",
       "version_major": 2,
       "version_minor": 0
      },
      "text/plain": [
       "  0%|          | 0/140 [00:00<?, ?ba/s]"
      ]
     },
     "metadata": {},
     "output_type": "display_data"
    },
    {
     "name": "stdout",
     "output_type": "stream",
     "text": [
      "convert to features\n",
      "convert to features\n",
      "convert to features\n",
      "convert to features\n",
      "convert to features\n",
      "convert to features\n",
      "convert to features\n",
      "convert to features\n",
      "convert to features\n",
      "convert to features\n",
      "convert to features\n",
      "convert to features\n",
      "convert to features\n",
      "convert to features\n",
      "convert to features\n",
      "convert to features\n",
      "convert to features\n",
      "convert to features\n",
      "convert to features\n",
      "convert to features\n",
      "convert to features\n",
      "convert to features\n",
      "convert to features\n",
      "convert to features\n",
      "convert to features\n",
      "convert to features\n",
      "convert to features\n",
      "convert to features\n",
      "convert to features\n",
      "convert to features\n",
      "convert to features\n",
      "convert to features\n",
      "convert to features\n",
      "convert to features\n",
      "convert to features\n",
      "convert to features\n",
      "convert to features\n",
      "convert to features\n",
      "convert to features\n",
      "convert to features\n",
      "convert to features\n",
      "convert to features\n",
      "convert to features\n",
      "convert to features\n",
      "convert to features\n",
      "convert to features\n",
      "convert to features\n",
      "convert to features\n",
      "convert to features\n",
      "convert to features\n",
      "convert to features\n",
      "convert to features\n",
      "convert to features\n",
      "convert to features\n",
      "convert to features\n",
      "convert to features\n",
      "convert to features\n",
      "convert to features\n",
      "convert to features\n",
      "convert to features\n",
      "convert to features\n",
      "convert to features\n",
      "convert to features\n",
      "convert to features\n",
      "convert to features\n",
      "convert to features\n",
      "convert to features\n",
      "convert to features\n",
      "convert to features\n",
      "convert to features\n",
      "convert to features\n",
      "convert to features\n",
      "convert to features\n",
      "convert to features\n",
      "convert to features\n",
      "convert to features\n",
      "convert to features\n",
      "convert to features\n",
      "convert to features\n",
      "convert to features\n",
      "convert to features\n",
      "convert to features\n",
      "convert to features\n",
      "convert to features\n",
      "convert to features\n",
      "convert to features\n",
      "convert to features\n",
      "convert to features\n",
      "convert to features\n",
      "convert to features\n",
      "convert to features\n",
      "convert to features\n",
      "convert to features\n",
      "convert to features\n",
      "convert to features\n",
      "convert to features\n",
      "convert to features\n",
      "convert to features\n",
      "convert to features\n",
      "convert to features\n",
      "convert to features\n",
      "convert to features\n",
      "convert to features\n",
      "convert to features\n",
      "convert to features\n",
      "convert to features\n",
      "convert to features\n",
      "convert to features\n",
      "convert to features\n",
      "convert to features\n",
      "convert to features\n",
      "convert to features\n",
      "convert to features\n",
      "convert to features\n",
      "convert to features\n",
      "convert to features\n",
      "convert to features\n",
      "convert to features\n",
      "convert to features\n",
      "convert to features\n",
      "convert to features\n",
      "convert to features\n",
      "convert to features\n",
      "convert to features\n",
      "convert to features\n",
      "convert to features\n",
      "convert to features\n",
      "convert to features\n",
      "convert to features\n",
      "convert to features\n",
      "convert to features\n",
      "convert to features\n",
      "convert to features\n",
      "convert to features\n",
      "convert to features\n",
      "convert to features\n",
      "convert to features\n",
      "convert to features\n",
      "convert to features\n",
      "convert to features\n",
      "--> data_path /home/cbarkhof/fall-2021/data/yahoo_answer-roberta-base-seqlen-500\n",
      "Saved split train in /home/cbarkhof/fall-2021/data/yahoo_answer-roberta-base-seqlen-500/train\n"
     ]
    },
    {
     "data": {
      "application/vnd.jupyter.widget-view+json": {
       "model_id": "bbec8259b10d4ceca2f546f6609f21ce",
       "version_major": 2,
       "version_minor": 0
      },
      "text/plain": [
       "  0%|          | 0/6 [00:00<?, ?ba/s]"
      ]
     },
     "metadata": {},
     "output_type": "display_data"
    },
    {
     "name": "stdout",
     "output_type": "stream",
     "text": [
      "convert to features\n",
      "convert to features\n",
      "convert to features\n",
      "convert to features\n",
      "convert to features\n",
      "convert to features\n",
      "--> data_path /home/cbarkhof/fall-2021/data/yahoo_answer-roberta-base-seqlen-500\n",
      "Saved split validation in /home/cbarkhof/fall-2021/data/yahoo_answer-roberta-base-seqlen-500/validation\n"
     ]
    },
    {
     "data": {
      "application/vnd.jupyter.widget-view+json": {
       "model_id": "aba133c224c349d98c7d078ef001d080",
       "version_major": 2,
       "version_minor": 0
      },
      "text/plain": [
       "  0%|          | 0/6 [00:00<?, ?ba/s]"
      ]
     },
     "metadata": {},
     "output_type": "display_data"
    },
    {
     "name": "stdout",
     "output_type": "stream",
     "text": [
      "convert to features\n",
      "convert to features\n",
      "convert to features\n",
      "convert to features\n",
      "convert to features\n",
      "convert to features\n",
      "--> data_path /home/cbarkhof/fall-2021/data/yahoo_answer-roberta-base-seqlen-500\n",
      "Saved split test in /home/cbarkhof/fall-2021/data/yahoo_answer-roberta-base-seqlen-500/test\n"
     ]
    }
   ],
   "source": [
    "config.max_seq_len = 500\n",
    "config.batch_size = 10\n",
    "config.language_dataset_name = \"yahoo_answer\"\n",
    "\n",
    "dataset = LanguageDataset(args=config)"
   ]
  },
  {
   "cell_type": "code",
   "execution_count": 10,
   "metadata": {},
   "outputs": [
    {
     "name": "stdout",
     "output_type": "stream",
     "text": [
      "100/20\r"
     ]
    }
   ],
   "source": [
    "lengths = []\n",
    "for i, batch in enumerate(dataset.train_loader(batch_size=20)):\n",
    "    print(f\"{i:2d}/20\", end=\"\\r\")\n",
    "    lengths.append(batch[\"attention_mask\"].sum(dim=-1)-2)\n",
    "    if i == 100:\n",
    "        break\n",
    "lengths = torch.cat(lengths)"
   ]
  },
  {
   "cell_type": "code",
   "execution_count": 12,
   "metadata": {},
   "outputs": [
    {
     "data": {
      "text/plain": [
       "(array([1069.,  434.,  216.,   88.,   69.,   42.,   30.,   19.,    8.,\n",
       "          45.]),\n",
       " array([  0. ,  49.8,  99.6, 149.4, 199.2, 249. , 298.8, 348.6, 398.4,\n",
       "        448.2, 498. ]),\n",
       " <BarContainer object of 10 artists>)"
      ]
     },
     "execution_count": 12,
     "metadata": {},
     "output_type": "execute_result"
    },
    {
     "data": {
      "image/png": "[encoded data removed]",
      "text/plain": [
       "<Figure size 432x288 with 1 Axes>"
      ]
     },
     "metadata": {
      "needs_background": "light"
     },
     "output_type": "display_data"
    }
   ],
   "source": [
    "import matplotlib.pyplot as plt\n",
    "%matplotlib inline\n",
    "\n",
    "plt.hist(lengths.numpy())"
   ]
  },
  {
   "cell_type": "code",
   "execution_count": 2,
   "metadata": {},
   "outputs": [
    {
     "name": "stdout",
     "output_type": "stream",
     "text": [
      "Is file!\n",
      "train 140000\n",
      "validation 6000\n",
      "test 6000\n",
      "Returns concatted input_ids, attention_masks tensors\n",
      "Is file!\n",
      "train 140000\n",
      "validation 6000\n",
      "test 6000\n",
      "Returns concatted input_ids, attention_masks tensors\n",
      "Is file!\n",
      "train 42068\n",
      "validation 3370\n",
      "test 3761\n",
      "Returns concatted input_ids, attention_masks tensors\n",
      "Is file!\n",
      "train 42068\n",
      "validation 3370\n",
      "test 3761\n",
      "Returns concatted input_ids, attention_masks tensors\n"
     ]
    }
   ],
   "source": [
    "# ---------------------------------\n",
    "# YAHOO\n",
    "yahoo_train_inputs, yahoo_train_atts = get_n_data_samples_x_y(\n",
    "    language_dataset_name=\"yahoo_answer\",\n",
    "    image_or_language=\"language\", \n",
    "    shuffle=False,\n",
    "    N_samples=N_TRAIN_SAMPLES, \n",
    "    phase=\"train\")\n",
    "\n",
    "yahoo_valid_inputs, yahoo_valid_atts = get_n_data_samples_x_y(\n",
    "    language_dataset_name=\"yahoo_answer\",\n",
    "    image_or_language=\"language\", \n",
    "    shuffle=False,\n",
    "    N_samples=N_VALID_CONDITIONAL_SAMPELS, \n",
    "    phase=\"valid\")\n",
    "\n",
    "yahoo_valid_loader = torch.utils.data.DataLoader(torch.utils.data.TensorDataset(yahoo_valid_inputs, yahoo_valid_atts), \n",
    "                                batch_size=COND_SAMPLE_BATCH_SIZE, pin_memory=True)\n",
    "\n",
    "# ---------------------------------\n",
    "# PTB\n",
    "ptb_train_inputs, ptb_train_atts = get_n_data_samples_x_y(\n",
    "    language_dataset_name=\"ptb\",\n",
    "    image_or_language=\"language\", \n",
    "    shuffle=False,\n",
    "    N_samples=N_TRAIN_SAMPLES, \n",
    "    phase=\"train\")\n",
    "\n",
    "ptb_valid_inputs, ptb_valid_atts = get_n_data_samples_x_y(\n",
    "    language_dataset_name=\"ptb\",\n",
    "    image_or_language=\"language\", \n",
    "    shuffle=False,\n",
    "    N_samples=N_VALID_CONDITIONAL_SAMPELS, \n",
    "    phase=\"valid\")\n",
    "\n",
    "ptb_valid_loader = torch.utils.data.DataLoader(torch.utils.data.TensorDataset(ptb_valid_inputs, ptb_valid_atts), \n",
    "                                batch_size=COND_SAMPLE_BATCH_SIZE, pin_memory=True)\n",
    "\n",
    "# ---------------------------------\n",
    "# ALL TOGETHER\n",
    "all_loaders = dict(yahoo=yahoo_valid_loader, ptb=ptb_valid_loader)\n"
   ]
  },
  {
   "cell_type": "code",
   "execution_count": 3,
   "metadata": {},
   "outputs": [],
   "source": [
    "def get_length_of_chunk(chunk, eos_token_id=2, bos_token=0, remove_start=False):\n",
    "    lens = []\n",
    "    for s_i in chunk.tolist():\n",
    "        # if it is a weak decoder, the start token needs to be cut-off as well (if predicted)\n",
    "        if s_i[0] == bos_token and remove_start:\n",
    "            s_i = s_i[1:]\n",
    "        length = s_i.index(eos_token_id) if eos_token_id in s_i else len(s_i)\n",
    "        lens.append(length)\n",
    "    return lens"
   ]
  },
  {
   "cell_type": "code",
   "execution_count": 4,
   "metadata": {},
   "outputs": [],
   "source": [
    "ptb_valid_lens = get_length_of_chunk(ptb_valid_inputs, remove_start=True)\n",
    "ptb_train_lens = get_length_of_chunk(ptb_train_inputs, remove_start=True)\n",
    "yahoo_valid_lens = get_length_of_chunk(yahoo_valid_inputs, remove_start=True)\n",
    "yahoo_train_lens = get_length_of_chunk(yahoo_train_inputs, remove_start=True)"
   ]
  },
  {
   "cell_type": "code",
   "execution_count": 5,
   "metadata": {},
   "outputs": [
    {
     "name": "stdout",
     "output_type": "stream",
     "text": [
      "1 62\n",
      "1 62\n"
     ]
    },
    {
     "data": {
      "image/png": "[encoded data removed]",
      "text/plain": [
       "<Figure size 432x288 with 1 Axes>"
      ]
     },
     "metadata": {
      "needs_background": "light"
     },
     "output_type": "display_data"
    },
    {
     "name": "stdout",
     "output_type": "stream",
     "text": [
      "1 62\n",
      "1 62\n"
     ]
    },
    {
     "data": {
      "image/png": "[encoded data removed]",
      "text/plain": [
       "<Figure size 432x288 with 1 Axes>"
      ]
     },
     "metadata": {
      "needs_background": "light"
     },
     "output_type": "display_data"
    },
    {
     "name": "stdout",
     "output_type": "stream",
     "text": [
      "2000 2000\n",
      "2000 2000\n",
      "2000 2000\n",
      "2000 2000\n"
     ]
    }
   ],
   "source": [
    "import matplotlib.pyplot as plt\n",
    "%matplotlib inline\n",
    "\n",
    "print(min(ptb_valid_lens), max(ptb_valid_lens))\n",
    "print(min(ptb_train_lens), max(ptb_train_lens))\n",
    "plt.hist(ptb_valid_lens, bins=62)\n",
    "plt.hist(ptb_train_lens, bins=62)\n",
    "plt.show()\n",
    "\n",
    "print(min(yahoo_valid_lens), max(yahoo_valid_lens))\n",
    "print(min(yahoo_train_lens), max(yahoo_train_lens))\n",
    "plt.hist(yahoo_valid_lens, bins=62)\n",
    "plt.hist(yahoo_train_lens, bins=62)\n",
    "plt.show()\n",
    "\n",
    "print(len(ptb_valid_lens), len(ptb_valid_inputs))\n",
    "print(len(ptb_train_lens), len(ptb_train_inputs))\n",
    "print(len(yahoo_valid_lens), len(yahoo_valid_inputs))\n",
    "print(len(yahoo_train_lens), len(yahoo_train_inputs))"
   ]
  },
  {
   "cell_type": "code",
   "execution_count": 6,
   "metadata": {},
   "outputs": [
    {
     "data": {
      "text/html": [
       "<div>\n",
       "<style scoped>\n",
       "    .dataframe tbody tr th:only-of-type {\n",
       "        vertical-align: middle;\n",
       "    }\n",
       "\n",
       "    .dataframe tbody tr th {\n",
       "        vertical-align: top;\n",
       "    }\n",
       "\n",
       "    .dataframe thead th {\n",
       "        text-align: right;\n",
       "    }\n",
       "</style>\n",
       "<table border=\"1\" class=\"dataframe\">\n",
       "  <thead>\n",
       "    <tr style=\"text-align: right;\">\n",
       "      <th></th>\n",
       "      <th>objective</th>\n",
       "      <th>dataset</th>\n",
       "      <th>l_rate</th>\n",
       "      <th>dropout</th>\n",
       "      <th>beta_beta</th>\n",
       "      <th>free_bits</th>\n",
       "      <th>mdr_value</th>\n",
       "      <th>l_mmd</th>\n",
       "      <th>decoder</th>\n",
       "      <th>run_name</th>\n",
       "    </tr>\n",
       "  </thead>\n",
       "  <tbody>\n",
       "    <tr>\n",
       "      <th>yahoo_answer | drop-0.25 | BETA-VAE beta 0.5 dec: Strong roBERTa</th>\n",
       "      <td>BETA-VAE</td>\n",
       "      <td>yahoo_answer</td>\n",
       "      <td>0</td>\n",
       "      <td>0.250000</td>\n",
       "      <td>0.500000</td>\n",
       "      <td>0</td>\n",
       "      <td>0</td>\n",
       "      <td>0</td>\n",
       "      <td>strong_distil_roberta_decoder</td>\n",
       "      <td>(29-nov drop yahoo-beta-vae) B-VAE[b=0.5] | ST...</td>\n",
       "    </tr>\n",
       "    <tr>\n",
       "      <th>yahoo_answer | drop-1 | BETA-VAE beta 0.1 dec: Strong roBERTa</th>\n",
       "      <td>BETA-VAE</td>\n",
       "      <td>yahoo_answer</td>\n",
       "      <td>0</td>\n",
       "      <td>1</td>\n",
       "      <td>0.100000</td>\n",
       "      <td>0</td>\n",
       "      <td>0</td>\n",
       "      <td>0</td>\n",
       "      <td>strong_distil_roberta_decoder</td>\n",
       "      <td>(29-nov drop yahoo-beta-vae) B-VAE[b=0.1] | ST...</td>\n",
       "    </tr>\n",
       "    <tr>\n",
       "      <th>yahoo_answer | drop-0.75 | BETA-VAE beta 0.1 dec: Strong roBERTa</th>\n",
       "      <td>BETA-VAE</td>\n",
       "      <td>yahoo_answer</td>\n",
       "      <td>0</td>\n",
       "      <td>0.750000</td>\n",
       "      <td>0.100000</td>\n",
       "      <td>0</td>\n",
       "      <td>0</td>\n",
       "      <td>0</td>\n",
       "      <td>strong_distil_roberta_decoder</td>\n",
       "      <td>(29-nov drop yahoo-beta-vae) B-VAE[b=0.1] | ST...</td>\n",
       "    </tr>\n",
       "    <tr>\n",
       "      <th>yahoo_answer | drop-0.5 | BETA-VAE beta 0.1 dec: Strong roBERTa</th>\n",
       "      <td>BETA-VAE</td>\n",
       "      <td>yahoo_answer</td>\n",
       "      <td>0</td>\n",
       "      <td>0.500000</td>\n",
       "      <td>0.100000</td>\n",
       "      <td>0</td>\n",
       "      <td>0</td>\n",
       "      <td>0</td>\n",
       "      <td>strong_distil_roberta_decoder</td>\n",
       "      <td>(29-nov drop yahoo-beta-vae) B-VAE[b=0.1] | ST...</td>\n",
       "    </tr>\n",
       "    <tr>\n",
       "      <th>yahoo_answer | drop-0.25 | BETA-VAE beta 0.1 dec: Strong roBERTa</th>\n",
       "      <td>BETA-VAE</td>\n",
       "      <td>yahoo_answer</td>\n",
       "      <td>0</td>\n",
       "      <td>0.250000</td>\n",
       "      <td>0.100000</td>\n",
       "      <td>0</td>\n",
       "      <td>0</td>\n",
       "      <td>0</td>\n",
       "      <td>strong_distil_roberta_decoder</td>\n",
       "      <td>(29-nov drop yahoo-beta-vae) B-VAE[b=0.1] | ST...</td>\n",
       "    </tr>\n",
       "    <tr>\n",
       "      <th>yahoo_answer | drop-1 | BETA-VAE beta 0 dec: Strong roBERTa</th>\n",
       "      <td>BETA-VAE</td>\n",
       "      <td>yahoo_answer</td>\n",
       "      <td>0</td>\n",
       "      <td>1</td>\n",
       "      <td>0</td>\n",
       "      <td>0</td>\n",
       "      <td>0</td>\n",
       "      <td>0</td>\n",
       "      <td>strong_distil_roberta_decoder</td>\n",
       "      <td>(29-nov drop yahoo-beta-vae) B-VAE[b=0.0] | ST...</td>\n",
       "    </tr>\n",
       "    <tr>\n",
       "      <th>yahoo_answer | drop-0.75 | BETA-VAE beta 0 dec: Strong roBERTa</th>\n",
       "      <td>BETA-VAE</td>\n",
       "      <td>yahoo_answer</td>\n",
       "      <td>0</td>\n",
       "      <td>0.750000</td>\n",
       "      <td>0</td>\n",
       "      <td>0</td>\n",
       "      <td>0</td>\n",
       "      <td>0</td>\n",
       "      <td>strong_distil_roberta_decoder</td>\n",
       "      <td>(29-nov drop yahoo-beta-vae) B-VAE[b=0.0] | ST...</td>\n",
       "    </tr>\n",
       "    <tr>\n",
       "      <th>yahoo_answer | drop-0.5 | BETA-VAE beta 0 dec: Strong roBERTa</th>\n",
       "      <td>BETA-VAE</td>\n",
       "      <td>yahoo_answer</td>\n",
       "      <td>0</td>\n",
       "      <td>0.500000</td>\n",
       "      <td>0</td>\n",
       "      <td>0</td>\n",
       "      <td>0</td>\n",
       "      <td>0</td>\n",
       "      <td>strong_distil_roberta_decoder</td>\n",
       "      <td>(29-nov drop yahoo-beta-vae) B-VAE[b=0.0] | ST...</td>\n",
       "    </tr>\n",
       "    <tr>\n",
       "      <th>yahoo_answer | drop-0.25 | BETA-VAE beta 0 dec: Strong roBERTa</th>\n",
       "      <td>BETA-VAE</td>\n",
       "      <td>yahoo_answer</td>\n",
       "      <td>0</td>\n",
       "      <td>0.250000</td>\n",
       "      <td>0</td>\n",
       "      <td>0</td>\n",
       "      <td>0</td>\n",
       "      <td>0</td>\n",
       "      <td>strong_distil_roberta_decoder</td>\n",
       "      <td>(29-nov drop yahoo-beta-vae) B-VAE[b=0.0] | ST...</td>\n",
       "    </tr>\n",
       "    <tr>\n",
       "      <th>yahoo_answer | drop-1 | BETA-VAE beta 1 dec: Strong roBERTa</th>\n",
       "      <td>BETA-VAE</td>\n",
       "      <td>yahoo_answer</td>\n",
       "      <td>0</td>\n",
       "      <td>1</td>\n",
       "      <td>1</td>\n",
       "      <td>0</td>\n",
       "      <td>0</td>\n",
       "      <td>0</td>\n",
       "      <td>strong_distil_roberta_decoder</td>\n",
       "      <td>(29-nov drop yahoo-beta-vae) B-VAE[b=1.0] | ST...</td>\n",
       "    </tr>\n",
       "    <tr>\n",
       "      <th>yahoo_answer | drop-0.75 | BETA-VAE beta 1 dec: Strong roBERTa</th>\n",
       "      <td>BETA-VAE</td>\n",
       "      <td>yahoo_answer</td>\n",
       "      <td>0</td>\n",
       "      <td>0.750000</td>\n",
       "      <td>1</td>\n",
       "      <td>0</td>\n",
       "      <td>0</td>\n",
       "      <td>0</td>\n",
       "      <td>strong_distil_roberta_decoder</td>\n",
       "      <td>(29-nov drop yahoo-beta-vae) B-VAE[b=1.0] | ST...</td>\n",
       "    </tr>\n",
       "    <tr>\n",
       "      <th>yahoo_answer | drop-0.5 | BETA-VAE beta 1 dec: Strong roBERTa</th>\n",
       "      <td>BETA-VAE</td>\n",
       "      <td>yahoo_answer</td>\n",
       "      <td>0</td>\n",
       "      <td>0.500000</td>\n",
       "      <td>1</td>\n",
       "      <td>0</td>\n",
       "      <td>0</td>\n",
       "      <td>0</td>\n",
       "      <td>strong_distil_roberta_decoder</td>\n",
       "      <td>(29-nov drop yahoo-beta-vae) B-VAE[b=1.0] | ST...</td>\n",
       "    </tr>\n",
       "    <tr>\n",
       "      <th>yahoo_answer | drop-0.25 | BETA-VAE beta 1 dec: Strong roBERTa</th>\n",
       "      <td>BETA-VAE</td>\n",
       "      <td>yahoo_answer</td>\n",
       "      <td>0</td>\n",
       "      <td>0.250000</td>\n",
       "      <td>1</td>\n",
       "      <td>0</td>\n",
       "      <td>0</td>\n",
       "      <td>0</td>\n",
       "      <td>strong_distil_roberta_decoder</td>\n",
       "      <td>(29-nov drop yahoo-beta-vae) B-VAE[b=1.0] | ST...</td>\n",
       "    </tr>\n",
       "    <tr>\n",
       "      <th>yahoo_answer | drop-1 | BETA-VAE beta 0.5 dec: Strong roBERTa</th>\n",
       "      <td>BETA-VAE</td>\n",
       "      <td>yahoo_answer</td>\n",
       "      <td>0</td>\n",
       "      <td>1</td>\n",
       "      <td>0.500000</td>\n",
       "      <td>0</td>\n",
       "      <td>0</td>\n",
       "      <td>0</td>\n",
       "      <td>strong_distil_roberta_decoder</td>\n",
       "      <td>(29-nov drop yahoo-beta-vae) B-VAE[b=0.5] | ST...</td>\n",
       "    </tr>\n",
       "    <tr>\n",
       "      <th>yahoo_answer | drop-0.75 | BETA-VAE beta 0.5 dec: Strong roBERTa</th>\n",
       "      <td>BETA-VAE</td>\n",
       "      <td>yahoo_answer</td>\n",
       "      <td>0</td>\n",
       "      <td>0.750000</td>\n",
       "      <td>0.500000</td>\n",
       "      <td>0</td>\n",
       "      <td>0</td>\n",
       "      <td>0</td>\n",
       "      <td>strong_distil_roberta_decoder</td>\n",
       "      <td>(29-nov drop yahoo-beta-vae) B-VAE[b=0.5] | ST...</td>\n",
       "    </tr>\n",
       "    <tr>\n",
       "      <th>yahoo_answer | drop-0.5 | BETA-VAE beta 0.5 dec: Strong roBERTa</th>\n",
       "      <td>BETA-VAE</td>\n",
       "      <td>yahoo_answer</td>\n",
       "      <td>0</td>\n",
       "      <td>0.500000</td>\n",
       "      <td>0.500000</td>\n",
       "      <td>0</td>\n",
       "      <td>0</td>\n",
       "      <td>0</td>\n",
       "      <td>strong_distil_roberta_decoder</td>\n",
       "      <td>(29-nov drop yahoo-beta-vae) B-VAE[b=0.5] | ST...</td>\n",
       "    </tr>\n",
       "    <tr>\n",
       "      <th>yahoo_answer BETA-VAE beta 1.5 dec: Strong roBERTa</th>\n",
       "      <td>BETA-VAE</td>\n",
       "      <td>yahoo_answer</td>\n",
       "      <td>0</td>\n",
       "      <td>0.000000</td>\n",
       "      <td>1.500000</td>\n",
       "      <td>0</td>\n",
       "      <td>0</td>\n",
       "      <td>0</td>\n",
       "      <td>strong_distil_roberta_decoder</td>\n",
       "      <td>(29-nov yahoo-beta-vae) B-VAE[b=1.5] | STRONG ...</td>\n",
       "    </tr>\n",
       "    <tr>\n",
       "      <th>yahoo_answer BETA-VAE beta 1 dec: Strong roBERTa</th>\n",
       "      <td>BETA-VAE</td>\n",
       "      <td>yahoo_answer</td>\n",
       "      <td>0</td>\n",
       "      <td>0.000000</td>\n",
       "      <td>1</td>\n",
       "      <td>0</td>\n",
       "      <td>0</td>\n",
       "      <td>0</td>\n",
       "      <td>strong_distil_roberta_decoder</td>\n",
       "      <td>(29-nov yahoo-beta-vae) B-VAE[b=1.0] | STRONG ...</td>\n",
       "    </tr>\n",
       "    <tr>\n",
       "      <th>yahoo_answer BETA-VAE beta 1.5 dec: Weak-M roBERTa</th>\n",
       "      <td>BETA-VAE</td>\n",
       "      <td>yahoo_answer</td>\n",
       "      <td>0</td>\n",
       "      <td>0.000000</td>\n",
       "      <td>1.500000</td>\n",
       "      <td>0</td>\n",
       "      <td>0</td>\n",
       "      <td>0</td>\n",
       "      <td>weak_memory_distil_roberta_decoder</td>\n",
       "      <td>(29-nov yahoo-beta-vae) B-VAE[b=1.5] | WEAK | ...</td>\n",
       "    </tr>\n",
       "    <tr>\n",
       "      <th>yahoo_answer BETA-VAE beta 1 dec: Weak-M roBERTa</th>\n",
       "      <td>BETA-VAE</td>\n",
       "      <td>yahoo_answer</td>\n",
       "      <td>0</td>\n",
       "      <td>0.000000</td>\n",
       "      <td>1</td>\n",
       "      <td>0</td>\n",
       "      <td>0</td>\n",
       "      <td>0</td>\n",
       "      <td>weak_memory_distil_roberta_decoder</td>\n",
       "      <td>(29-nov yahoo-beta-vae) B-VAE[b=1.0] | WEAK | ...</td>\n",
       "    </tr>\n",
       "    <tr>\n",
       "      <th>yahoo_answer BETA-VAE beta 0.5 dec: Strong roBERTa</th>\n",
       "      <td>BETA-VAE</td>\n",
       "      <td>yahoo_answer</td>\n",
       "      <td>0</td>\n",
       "      <td>0.000000</td>\n",
       "      <td>0.500000</td>\n",
       "      <td>0</td>\n",
       "      <td>0</td>\n",
       "      <td>0</td>\n",
       "      <td>strong_distil_roberta_decoder</td>\n",
       "      <td>(29-nov yahoo-beta-vae) B-VAE[b=0.5] | STRONG ...</td>\n",
       "    </tr>\n",
       "    <tr>\n",
       "      <th>yahoo_answer BETA-VAE beta 0.5 dec: Weak-M roBERTa</th>\n",
       "      <td>BETA-VAE</td>\n",
       "      <td>yahoo_answer</td>\n",
       "      <td>0</td>\n",
       "      <td>0.000000</td>\n",
       "      <td>0.500000</td>\n",
       "      <td>0</td>\n",
       "      <td>0</td>\n",
       "      <td>0</td>\n",
       "      <td>weak_memory_distil_roberta_decoder</td>\n",
       "      <td>(29-nov yahoo-beta-vae) B-VAE[b=0.5] | WEAK | ...</td>\n",
       "    </tr>\n",
       "    <tr>\n",
       "      <th>yahoo_answer BETA-VAE beta 0.1 dec: Strong roBERTa</th>\n",
       "      <td>BETA-VAE</td>\n",
       "      <td>yahoo_answer</td>\n",
       "      <td>0</td>\n",
       "      <td>0.000000</td>\n",
       "      <td>0.100000</td>\n",
       "      <td>0</td>\n",
       "      <td>0</td>\n",
       "      <td>0</td>\n",
       "      <td>strong_distil_roberta_decoder</td>\n",
       "      <td>(29-nov yahoo-beta-vae) B-VAE[b=0.1] | STRONG ...</td>\n",
       "    </tr>\n",
       "    <tr>\n",
       "      <th>yahoo_answer BETA-VAE beta 0.1 dec: Weak-M roBERTa</th>\n",
       "      <td>BETA-VAE</td>\n",
       "      <td>yahoo_answer</td>\n",
       "      <td>0</td>\n",
       "      <td>0.000000</td>\n",
       "      <td>0.100000</td>\n",
       "      <td>0</td>\n",
       "      <td>0</td>\n",
       "      <td>0</td>\n",
       "      <td>weak_memory_distil_roberta_decoder</td>\n",
       "      <td>(29-nov yahoo-beta-vae) B-VAE[b=0.1] | WEAK | ...</td>\n",
       "    </tr>\n",
       "    <tr>\n",
       "      <th>yahoo_answer BETA-VAE beta 0 dec: Strong roBERTa</th>\n",
       "      <td>BETA-VAE</td>\n",
       "      <td>yahoo_answer</td>\n",
       "      <td>0</td>\n",
       "      <td>0.000000</td>\n",
       "      <td>0</td>\n",
       "      <td>0</td>\n",
       "      <td>0</td>\n",
       "      <td>0</td>\n",
       "      <td>strong_distil_roberta_decoder</td>\n",
       "      <td>(29-nov yahoo-beta-vae) B-VAE[b=0.0] | STRONG ...</td>\n",
       "    </tr>\n",
       "    <tr>\n",
       "      <th>yahoo_answer BETA-VAE beta 0 dec: Weak-M roBERTa</th>\n",
       "      <td>BETA-VAE</td>\n",
       "      <td>yahoo_answer</td>\n",
       "      <td>0</td>\n",
       "      <td>0.000000</td>\n",
       "      <td>0</td>\n",
       "      <td>0</td>\n",
       "      <td>0</td>\n",
       "      <td>0</td>\n",
       "      <td>weak_memory_distil_roberta_decoder</td>\n",
       "      <td>(29-nov yahoo-beta-vae) B-VAE[b=0.0] | WEAK | ...</td>\n",
       "    </tr>\n",
       "    <tr>\n",
       "      <th>ptb BETA-VAE beta 1.5 dec: Strong roBERTa</th>\n",
       "      <td>BETA-VAE</td>\n",
       "      <td>ptb</td>\n",
       "      <td>0</td>\n",
       "      <td>0.000000</td>\n",
       "      <td>1.500000</td>\n",
       "      <td>0</td>\n",
       "      <td>0</td>\n",
       "      <td>0</td>\n",
       "      <td>strong_distil_roberta_decoder</td>\n",
       "      <td>(29-nov ptb-beta-vae) B-VAE[b=1.5] | STRONG | ...</td>\n",
       "    </tr>\n",
       "    <tr>\n",
       "      <th>ptb BETA-VAE beta 1.5 dec: Weak-M roBERTa</th>\n",
       "      <td>BETA-VAE</td>\n",
       "      <td>ptb</td>\n",
       "      <td>0</td>\n",
       "      <td>0.000000</td>\n",
       "      <td>1.500000</td>\n",
       "      <td>0</td>\n",
       "      <td>0</td>\n",
       "      <td>0</td>\n",
       "      <td>weak_memory_distil_roberta_decoder</td>\n",
       "      <td>(29-nov ptb-beta-vae) B-VAE[b=1.5] | WEAK | Nz...</td>\n",
       "    </tr>\n",
       "    <tr>\n",
       "      <th>ptb BETA-VAE beta 1 dec: Strong roBERTa</th>\n",
       "      <td>BETA-VAE</td>\n",
       "      <td>ptb</td>\n",
       "      <td>0</td>\n",
       "      <td>0.000000</td>\n",
       "      <td>1</td>\n",
       "      <td>0</td>\n",
       "      <td>0</td>\n",
       "      <td>0</td>\n",
       "      <td>strong_distil_roberta_decoder</td>\n",
       "      <td>(29-nov ptb-beta-vae) B-VAE[b=1.0] | STRONG | ...</td>\n",
       "    </tr>\n",
       "    <tr>\n",
       "      <th>ptb BETA-VAE beta 1 dec: Weak-M roBERTa</th>\n",
       "      <td>BETA-VAE</td>\n",
       "      <td>ptb</td>\n",
       "      <td>0</td>\n",
       "      <td>0.000000</td>\n",
       "      <td>1</td>\n",
       "      <td>0</td>\n",
       "      <td>0</td>\n",
       "      <td>0</td>\n",
       "      <td>weak_memory_distil_roberta_decoder</td>\n",
       "      <td>(29-nov ptb-beta-vae) B-VAE[b=1.0] | WEAK | Nz...</td>\n",
       "    </tr>\n",
       "    <tr>\n",
       "      <th>ptb BETA-VAE beta 0.5 dec: Weak-M roBERTa</th>\n",
       "      <td>BETA-VAE</td>\n",
       "      <td>ptb</td>\n",
       "      <td>0</td>\n",
       "      <td>0.000000</td>\n",
       "      <td>0.500000</td>\n",
       "      <td>0</td>\n",
       "      <td>0</td>\n",
       "      <td>0</td>\n",
       "      <td>weak_memory_distil_roberta_decoder</td>\n",
       "      <td>(29-nov ptb-beta-vae) B-VAE[b=0.5] | WEAK | Nz...</td>\n",
       "    </tr>\n",
       "    <tr>\n",
       "      <th>ptb BETA-VAE beta 0.5 dec: Strong roBERTa</th>\n",
       "      <td>BETA-VAE</td>\n",
       "      <td>ptb</td>\n",
       "      <td>0</td>\n",
       "      <td>0.000000</td>\n",
       "      <td>0.500000</td>\n",
       "      <td>0</td>\n",
       "      <td>0</td>\n",
       "      <td>0</td>\n",
       "      <td>strong_distil_roberta_decoder</td>\n",
       "      <td>(29-nov ptb-beta-vae) B-VAE[b=0.5] | STRONG | ...</td>\n",
       "    </tr>\n",
       "    <tr>\n",
       "      <th>ptb BETA-VAE beta 0.1 dec: Strong roBERTa</th>\n",
       "      <td>BETA-VAE</td>\n",
       "      <td>ptb</td>\n",
       "      <td>0</td>\n",
       "      <td>0.000000</td>\n",
       "      <td>0.100000</td>\n",
       "      <td>0</td>\n",
       "      <td>0</td>\n",
       "      <td>0</td>\n",
       "      <td>strong_distil_roberta_decoder</td>\n",
       "      <td>(29-nov ptb-beta-vae) B-VAE[b=0.1] | STRONG | ...</td>\n",
       "    </tr>\n",
       "    <tr>\n",
       "      <th>ptb BETA-VAE beta 0 dec: Strong roBERTa</th>\n",
       "      <td>BETA-VAE</td>\n",
       "      <td>ptb</td>\n",
       "      <td>0</td>\n",
       "      <td>0.000000</td>\n",
       "      <td>0</td>\n",
       "      <td>0</td>\n",
       "      <td>0</td>\n",
       "      <td>0</td>\n",
       "      <td>strong_distil_roberta_decoder</td>\n",
       "      <td>(29-nov ptb-beta-vae) B-VAE[b=0.0] | STRONG | ...</td>\n",
       "    </tr>\n",
       "    <tr>\n",
       "      <th>ptb BETA-VAE beta 0 dec: Weak-M roBERTa</th>\n",
       "      <td>BETA-VAE</td>\n",
       "      <td>ptb</td>\n",
       "      <td>0</td>\n",
       "      <td>0.000000</td>\n",
       "      <td>0</td>\n",
       "      <td>0</td>\n",
       "      <td>0</td>\n",
       "      <td>0</td>\n",
       "      <td>weak_memory_distil_roberta_decoder</td>\n",
       "      <td>(29-nov ptb-beta-vae) B-VAE[b=0.0] | WEAK | Nz...</td>\n",
       "    </tr>\n",
       "    <tr>\n",
       "      <th>ptb BETA-VAE beta 0.1 dec: Weak-M roBERTa</th>\n",
       "      <td>BETA-VAE</td>\n",
       "      <td>ptb</td>\n",
       "      <td>0</td>\n",
       "      <td>0.000000</td>\n",
       "      <td>0.100000</td>\n",
       "      <td>0</td>\n",
       "      <td>0</td>\n",
       "      <td>0</td>\n",
       "      <td>weak_memory_distil_roberta_decoder</td>\n",
       "      <td>(29-nov ptb-beta-vae) B-VAE[b=0.1] | WEAK | Nz...</td>\n",
       "    </tr>\n",
       "  </tbody>\n",
       "</table>\n",
       "</div>"
      ],
      "text/plain": [
       "                                                   objective       dataset  \\\n",
       "yahoo_answer | drop-0.25 | BETA-VAE beta 0.5 de...  BETA-VAE  yahoo_answer   \n",
       "yahoo_answer | drop-1 | BETA-VAE beta 0.1 dec: ...  BETA-VAE  yahoo_answer   \n",
       "yahoo_answer | drop-0.75 | BETA-VAE beta 0.1 de...  BETA-VAE  yahoo_answer   \n",
       "yahoo_answer | drop-0.5 | BETA-VAE beta 0.1 dec...  BETA-VAE  yahoo_answer   \n",
       "yahoo_answer | drop-0.25 | BETA-VAE beta 0.1 de...  BETA-VAE  yahoo_answer   \n",
       "yahoo_answer | drop-1 | BETA-VAE beta 0 dec: St...  BETA-VAE  yahoo_answer   \n",
       "yahoo_answer | drop-0.75 | BETA-VAE beta 0 dec:...  BETA-VAE  yahoo_answer   \n",
       "yahoo_answer | drop-0.5 | BETA-VAE beta 0 dec: ...  BETA-VAE  yahoo_answer   \n",
       "yahoo_answer | drop-0.25 | BETA-VAE beta 0 dec:...  BETA-VAE  yahoo_answer   \n",
       "yahoo_answer | drop-1 | BETA-VAE beta 1 dec: St...  BETA-VAE  yahoo_answer   \n",
       "yahoo_answer | drop-0.75 | BETA-VAE beta 1 dec:...  BETA-VAE  yahoo_answer   \n",
       "yahoo_answer | drop-0.5 | BETA-VAE beta 1 dec: ...  BETA-VAE  yahoo_answer   \n",
       "yahoo_answer | drop-0.25 | BETA-VAE beta 1 dec:...  BETA-VAE  yahoo_answer   \n",
       "yahoo_answer | drop-1 | BETA-VAE beta 0.5 dec: ...  BETA-VAE  yahoo_answer   \n",
       "yahoo_answer | drop-0.75 | BETA-VAE beta 0.5 de...  BETA-VAE  yahoo_answer   \n",
       "yahoo_answer | drop-0.5 | BETA-VAE beta 0.5 dec...  BETA-VAE  yahoo_answer   \n",
       "yahoo_answer BETA-VAE beta 1.5 dec: Strong roBERTa  BETA-VAE  yahoo_answer   \n",
       "yahoo_answer BETA-VAE beta 1 dec: Strong roBERTa    BETA-VAE  yahoo_answer   \n",
       "yahoo_answer BETA-VAE beta 1.5 dec: Weak-M roBERTa  BETA-VAE  yahoo_answer   \n",
       "yahoo_answer BETA-VAE beta 1 dec: Weak-M roBERTa    BETA-VAE  yahoo_answer   \n",
       "yahoo_answer BETA-VAE beta 0.5 dec: Strong roBERTa  BETA-VAE  yahoo_answer   \n",
       "yahoo_answer BETA-VAE beta 0.5 dec: Weak-M roBERTa  BETA-VAE  yahoo_answer   \n",
       "yahoo_answer BETA-VAE beta 0.1 dec: Strong roBERTa  BETA-VAE  yahoo_answer   \n",
       "yahoo_answer BETA-VAE beta 0.1 dec: Weak-M roBERTa  BETA-VAE  yahoo_answer   \n",
       "yahoo_answer BETA-VAE beta 0 dec: Strong roBERTa    BETA-VAE  yahoo_answer   \n",
       "yahoo_answer BETA-VAE beta 0 dec: Weak-M roBERTa    BETA-VAE  yahoo_answer   \n",
       "ptb BETA-VAE beta 1.5 dec: Strong roBERTa           BETA-VAE           ptb   \n",
       "ptb BETA-VAE beta 1.5 dec: Weak-M roBERTa           BETA-VAE           ptb   \n",
       "ptb BETA-VAE beta 1 dec: Strong roBERTa             BETA-VAE           ptb   \n",
       "ptb BETA-VAE beta 1 dec: Weak-M roBERTa             BETA-VAE           ptb   \n",
       "ptb BETA-VAE beta 0.5 dec: Weak-M roBERTa           BETA-VAE           ptb   \n",
       "ptb BETA-VAE beta 0.5 dec: Strong roBERTa           BETA-VAE           ptb   \n",
       "ptb BETA-VAE beta 0.1 dec: Strong roBERTa           BETA-VAE           ptb   \n",
       "ptb BETA-VAE beta 0 dec: Strong roBERTa             BETA-VAE           ptb   \n",
       "ptb BETA-VAE beta 0 dec: Weak-M roBERTa             BETA-VAE           ptb   \n",
       "ptb BETA-VAE beta 0.1 dec: Weak-M roBERTa           BETA-VAE           ptb   \n",
       "\n",
       "                                                   l_rate  dropout beta_beta  \\\n",
       "yahoo_answer | drop-0.25 | BETA-VAE beta 0.5 de...      0 0.250000  0.500000   \n",
       "yahoo_answer | drop-1 | BETA-VAE beta 0.1 dec: ...      0        1  0.100000   \n",
       "yahoo_answer | drop-0.75 | BETA-VAE beta 0.1 de...      0 0.750000  0.100000   \n",
       "yahoo_answer | drop-0.5 | BETA-VAE beta 0.1 dec...      0 0.500000  0.100000   \n",
       "yahoo_answer | drop-0.25 | BETA-VAE beta 0.1 de...      0 0.250000  0.100000   \n",
       "yahoo_answer | drop-1 | BETA-VAE beta 0 dec: St...      0        1         0   \n",
       "yahoo_answer | drop-0.75 | BETA-VAE beta 0 dec:...      0 0.750000         0   \n",
       "yahoo_answer | drop-0.5 | BETA-VAE beta 0 dec: ...      0 0.500000         0   \n",
       "yahoo_answer | drop-0.25 | BETA-VAE beta 0 dec:...      0 0.250000         0   \n",
       "yahoo_answer | drop-1 | BETA-VAE beta 1 dec: St...      0        1         1   \n",
       "yahoo_answer | drop-0.75 | BETA-VAE beta 1 dec:...      0 0.750000         1   \n",
       "yahoo_answer | drop-0.5 | BETA-VAE beta 1 dec: ...      0 0.500000         1   \n",
       "yahoo_answer | drop-0.25 | BETA-VAE beta 1 dec:...      0 0.250000         1   \n",
       "yahoo_answer | drop-1 | BETA-VAE beta 0.5 dec: ...      0        1  0.500000   \n",
       "yahoo_answer | drop-0.75 | BETA-VAE beta 0.5 de...      0 0.750000  0.500000   \n",
       "yahoo_answer | drop-0.5 | BETA-VAE beta 0.5 dec...      0 0.500000  0.500000   \n",
       "yahoo_answer BETA-VAE beta 1.5 dec: Strong roBERTa      0 0.000000  1.500000   \n",
       "yahoo_answer BETA-VAE beta 1 dec: Strong roBERTa        0 0.000000         1   \n",
       "yahoo_answer BETA-VAE beta 1.5 dec: Weak-M roBERTa      0 0.000000  1.500000   \n",
       "yahoo_answer BETA-VAE beta 1 dec: Weak-M roBERTa        0 0.000000         1   \n",
       "yahoo_answer BETA-VAE beta 0.5 dec: Strong roBERTa      0 0.000000  0.500000   \n",
       "yahoo_answer BETA-VAE beta 0.5 dec: Weak-M roBERTa      0 0.000000  0.500000   \n",
       "yahoo_answer BETA-VAE beta 0.1 dec: Strong roBERTa      0 0.000000  0.100000   \n",
       "yahoo_answer BETA-VAE beta 0.1 dec: Weak-M roBERTa      0 0.000000  0.100000   \n",
       "yahoo_answer BETA-VAE beta 0 dec: Strong roBERTa        0 0.000000         0   \n",
       "yahoo_answer BETA-VAE beta 0 dec: Weak-M roBERTa        0 0.000000         0   \n",
       "ptb BETA-VAE beta 1.5 dec: Strong roBERTa               0 0.000000  1.500000   \n",
       "ptb BETA-VAE beta 1.5 dec: Weak-M roBERTa               0 0.000000  1.500000   \n",
       "ptb BETA-VAE beta 1 dec: Strong roBERTa                 0 0.000000         1   \n",
       "ptb BETA-VAE beta 1 dec: Weak-M roBERTa                 0 0.000000         1   \n",
       "ptb BETA-VAE beta 0.5 dec: Weak-M roBERTa               0 0.000000  0.500000   \n",
       "ptb BETA-VAE beta 0.5 dec: Strong roBERTa               0 0.000000  0.500000   \n",
       "ptb BETA-VAE beta 0.1 dec: Strong roBERTa               0 0.000000  0.100000   \n",
       "ptb BETA-VAE beta 0 dec: Strong roBERTa                 0 0.000000         0   \n",
       "ptb BETA-VAE beta 0 dec: Weak-M roBERTa                 0 0.000000         0   \n",
       "ptb BETA-VAE beta 0.1 dec: Weak-M roBERTa               0 0.000000  0.100000   \n",
       "\n",
       "                                                   free_bits mdr_value l_mmd  \\\n",
       "yahoo_answer | drop-0.25 | BETA-VAE beta 0.5 de...         0         0     0   \n",
       "yahoo_answer | drop-1 | BETA-VAE beta 0.1 dec: ...         0         0     0   \n",
       "yahoo_answer | drop-0.75 | BETA-VAE beta 0.1 de...         0         0     0   \n",
       "yahoo_answer | drop-0.5 | BETA-VAE beta 0.1 dec...         0         0     0   \n",
       "yahoo_answer | drop-0.25 | BETA-VAE beta 0.1 de...         0         0     0   \n",
       "yahoo_answer | drop-1 | BETA-VAE beta 0 dec: St...         0         0     0   \n",
       "yahoo_answer | drop-0.75 | BETA-VAE beta 0 dec:...         0         0     0   \n",
       "yahoo_answer | drop-0.5 | BETA-VAE beta 0 dec: ...         0         0     0   \n",
       "yahoo_answer | drop-0.25 | BETA-VAE beta 0 dec:...         0         0     0   \n",
       "yahoo_answer | drop-1 | BETA-VAE beta 1 dec: St...         0         0     0   \n",
       "yahoo_answer | drop-0.75 | BETA-VAE beta 1 dec:...         0         0     0   \n",
       "yahoo_answer | drop-0.5 | BETA-VAE beta 1 dec: ...         0         0     0   \n",
       "yahoo_answer | drop-0.25 | BETA-VAE beta 1 dec:...         0         0     0   \n",
       "yahoo_answer | drop-1 | BETA-VAE beta 0.5 dec: ...         0         0     0   \n",
       "yahoo_answer | drop-0.75 | BETA-VAE beta 0.5 de...         0         0     0   \n",
       "yahoo_answer | drop-0.5 | BETA-VAE beta 0.5 dec...         0         0     0   \n",
       "yahoo_answer BETA-VAE beta 1.5 dec: Strong roBERTa         0         0     0   \n",
       "yahoo_answer BETA-VAE beta 1 dec: Strong roBERTa           0         0     0   \n",
       "yahoo_answer BETA-VAE beta 1.5 dec: Weak-M roBERTa         0         0     0   \n",
       "yahoo_answer BETA-VAE beta 1 dec: Weak-M roBERTa           0         0     0   \n",
       "yahoo_answer BETA-VAE beta 0.5 dec: Strong roBERTa         0         0     0   \n",
       "yahoo_answer BETA-VAE beta 0.5 dec: Weak-M roBERTa         0         0     0   \n",
       "yahoo_answer BETA-VAE beta 0.1 dec: Strong roBERTa         0         0     0   \n",
       "yahoo_answer BETA-VAE beta 0.1 dec: Weak-M roBERTa         0         0     0   \n",
       "yahoo_answer BETA-VAE beta 0 dec: Strong roBERTa           0         0     0   \n",
       "yahoo_answer BETA-VAE beta 0 dec: Weak-M roBERTa           0         0     0   \n",
       "ptb BETA-VAE beta 1.5 dec: Strong roBERTa                  0         0     0   \n",
       "ptb BETA-VAE beta 1.5 dec: Weak-M roBERTa                  0         0     0   \n",
       "ptb BETA-VAE beta 1 dec: Strong roBERTa                    0         0     0   \n",
       "ptb BETA-VAE beta 1 dec: Weak-M roBERTa                    0         0     0   \n",
       "ptb BETA-VAE beta 0.5 dec: Weak-M roBERTa                  0         0     0   \n",
       "ptb BETA-VAE beta 0.5 dec: Strong roBERTa                  0         0     0   \n",
       "ptb BETA-VAE beta 0.1 dec: Strong roBERTa                  0         0     0   \n",
       "ptb BETA-VAE beta 0 dec: Strong roBERTa                    0         0     0   \n",
       "ptb BETA-VAE beta 0 dec: Weak-M roBERTa                    0         0     0   \n",
       "ptb BETA-VAE beta 0.1 dec: Weak-M roBERTa                  0         0     0   \n",
       "\n",
       "                                                                               decoder  \\\n",
       "yahoo_answer | drop-0.25 | BETA-VAE beta 0.5 de...       strong_distil_roberta_decoder   \n",
       "yahoo_answer | drop-1 | BETA-VAE beta 0.1 dec: ...       strong_distil_roberta_decoder   \n",
       "yahoo_answer | drop-0.75 | BETA-VAE beta 0.1 de...       strong_distil_roberta_decoder   \n",
       "yahoo_answer | drop-0.5 | BETA-VAE beta 0.1 dec...       strong_distil_roberta_decoder   \n",
       "yahoo_answer | drop-0.25 | BETA-VAE beta 0.1 de...       strong_distil_roberta_decoder   \n",
       "yahoo_answer | drop-1 | BETA-VAE beta 0 dec: St...       strong_distil_roberta_decoder   \n",
       "yahoo_answer | drop-0.75 | BETA-VAE beta 0 dec:...       strong_distil_roberta_decoder   \n",
       "yahoo_answer | drop-0.5 | BETA-VAE beta 0 dec: ...       strong_distil_roberta_decoder   \n",
       "yahoo_answer | drop-0.25 | BETA-VAE beta 0 dec:...       strong_distil_roberta_decoder   \n",
       "yahoo_answer | drop-1 | BETA-VAE beta 1 dec: St...       strong_distil_roberta_decoder   \n",
       "yahoo_answer | drop-0.75 | BETA-VAE beta 1 dec:...       strong_distil_roberta_decoder   \n",
       "yahoo_answer | drop-0.5 | BETA-VAE beta 1 dec: ...       strong_distil_roberta_decoder   \n",
       "yahoo_answer | drop-0.25 | BETA-VAE beta 1 dec:...       strong_distil_roberta_decoder   \n",
       "yahoo_answer | drop-1 | BETA-VAE beta 0.5 dec: ...       strong_distil_roberta_decoder   \n",
       "yahoo_answer | drop-0.75 | BETA-VAE beta 0.5 de...       strong_distil_roberta_decoder   \n",
       "yahoo_answer | drop-0.5 | BETA-VAE beta 0.5 dec...       strong_distil_roberta_decoder   \n",
       "yahoo_answer BETA-VAE beta 1.5 dec: Strong roBERTa       strong_distil_roberta_decoder   \n",
       "yahoo_answer BETA-VAE beta 1 dec: Strong roBERTa         strong_distil_roberta_decoder   \n",
       "yahoo_answer BETA-VAE beta 1.5 dec: Weak-M roBERTa  weak_memory_distil_roberta_decoder   \n",
       "yahoo_answer BETA-VAE beta 1 dec: Weak-M roBERTa    weak_memory_distil_roberta_decoder   \n",
       "yahoo_answer BETA-VAE beta 0.5 dec: Strong roBERTa       strong_distil_roberta_decoder   \n",
       "yahoo_answer BETA-VAE beta 0.5 dec: Weak-M roBERTa  weak_memory_distil_roberta_decoder   \n",
       "yahoo_answer BETA-VAE beta 0.1 dec: Strong roBERTa       strong_distil_roberta_decoder   \n",
       "yahoo_answer BETA-VAE beta 0.1 dec: Weak-M roBERTa  weak_memory_distil_roberta_decoder   \n",
       "yahoo_answer BETA-VAE beta 0 dec: Strong roBERTa         strong_distil_roberta_decoder   \n",
       "yahoo_answer BETA-VAE beta 0 dec: Weak-M roBERTa    weak_memory_distil_roberta_decoder   \n",
       "ptb BETA-VAE beta 1.5 dec: Strong roBERTa                strong_distil_roberta_decoder   \n",
       "ptb BETA-VAE beta 1.5 dec: Weak-M roBERTa           weak_memory_distil_roberta_decoder   \n",
       "ptb BETA-VAE beta 1 dec: Strong roBERTa                  strong_distil_roberta_decoder   \n",
       "ptb BETA-VAE beta 1 dec: Weak-M roBERTa             weak_memory_distil_roberta_decoder   \n",
       "ptb BETA-VAE beta 0.5 dec: Weak-M roBERTa           weak_memory_distil_roberta_decoder   \n",
       "ptb BETA-VAE beta 0.5 dec: Strong roBERTa                strong_distil_roberta_decoder   \n",
       "ptb BETA-VAE beta 0.1 dec: Strong roBERTa                strong_distil_roberta_decoder   \n",
       "ptb BETA-VAE beta 0 dec: Strong roBERTa                  strong_distil_roberta_decoder   \n",
       "ptb BETA-VAE beta 0 dec: Weak-M roBERTa             weak_memory_distil_roberta_decoder   \n",
       "ptb BETA-VAE beta 0.1 dec: Weak-M roBERTa           weak_memory_distil_roberta_decoder   \n",
       "\n",
       "                                                                                             run_name  \n",
       "yahoo_answer | drop-0.25 | BETA-VAE beta 0.5 de...  (29-nov drop yahoo-beta-vae) B-VAE[b=0.5] | ST...  \n",
       "yahoo_answer | drop-1 | BETA-VAE beta 0.1 dec: ...  (29-nov drop yahoo-beta-vae) B-VAE[b=0.1] | ST...  \n",
       "yahoo_answer | drop-0.75 | BETA-VAE beta 0.1 de...  (29-nov drop yahoo-beta-vae) B-VAE[b=0.1] | ST...  \n",
       "yahoo_answer | drop-0.5 | BETA-VAE beta 0.1 dec...  (29-nov drop yahoo-beta-vae) B-VAE[b=0.1] | ST...  \n",
       "yahoo_answer | drop-0.25 | BETA-VAE beta 0.1 de...  (29-nov drop yahoo-beta-vae) B-VAE[b=0.1] | ST...  \n",
       "yahoo_answer | drop-1 | BETA-VAE beta 0 dec: St...  (29-nov drop yahoo-beta-vae) B-VAE[b=0.0] | ST...  \n",
       "yahoo_answer | drop-0.75 | BETA-VAE beta 0 dec:...  (29-nov drop yahoo-beta-vae) B-VAE[b=0.0] | ST...  \n",
       "yahoo_answer | drop-0.5 | BETA-VAE beta 0 dec: ...  (29-nov drop yahoo-beta-vae) B-VAE[b=0.0] | ST...  \n",
       "yahoo_answer | drop-0.25 | BETA-VAE beta 0 dec:...  (29-nov drop yahoo-beta-vae) B-VAE[b=0.0] | ST...  \n",
       "yahoo_answer | drop-1 | BETA-VAE beta 1 dec: St...  (29-nov drop yahoo-beta-vae) B-VAE[b=1.0] | ST...  \n",
       "yahoo_answer | drop-0.75 | BETA-VAE beta 1 dec:...  (29-nov drop yahoo-beta-vae) B-VAE[b=1.0] | ST...  \n",
       "yahoo_answer | drop-0.5 | BETA-VAE beta 1 dec: ...  (29-nov drop yahoo-beta-vae) B-VAE[b=1.0] | ST...  \n",
       "yahoo_answer | drop-0.25 | BETA-VAE beta 1 dec:...  (29-nov drop yahoo-beta-vae) B-VAE[b=1.0] | ST...  \n",
       "yahoo_answer | drop-1 | BETA-VAE beta 0.5 dec: ...  (29-nov drop yahoo-beta-vae) B-VAE[b=0.5] | ST...  \n",
       "yahoo_answer | drop-0.75 | BETA-VAE beta 0.5 de...  (29-nov drop yahoo-beta-vae) B-VAE[b=0.5] | ST...  \n",
       "yahoo_answer | drop-0.5 | BETA-VAE beta 0.5 dec...  (29-nov drop yahoo-beta-vae) B-VAE[b=0.5] | ST...  \n",
       "yahoo_answer BETA-VAE beta 1.5 dec: Strong roBERTa  (29-nov yahoo-beta-vae) B-VAE[b=1.5] | STRONG ...  \n",
       "yahoo_answer BETA-VAE beta 1 dec: Strong roBERTa    (29-nov yahoo-beta-vae) B-VAE[b=1.0] | STRONG ...  \n",
       "yahoo_answer BETA-VAE beta 1.5 dec: Weak-M roBERTa  (29-nov yahoo-beta-vae) B-VAE[b=1.5] | WEAK | ...  \n",
       "yahoo_answer BETA-VAE beta 1 dec: Weak-M roBERTa    (29-nov yahoo-beta-vae) B-VAE[b=1.0] | WEAK | ...  \n",
       "yahoo_answer BETA-VAE beta 0.5 dec: Strong roBERTa  (29-nov yahoo-beta-vae) B-VAE[b=0.5] | STRONG ...  \n",
       "yahoo_answer BETA-VAE beta 0.5 dec: Weak-M roBERTa  (29-nov yahoo-beta-vae) B-VAE[b=0.5] | WEAK | ...  \n",
       "yahoo_answer BETA-VAE beta 0.1 dec: Strong roBERTa  (29-nov yahoo-beta-vae) B-VAE[b=0.1] | STRONG ...  \n",
       "yahoo_answer BETA-VAE beta 0.1 dec: Weak-M roBERTa  (29-nov yahoo-beta-vae) B-VAE[b=0.1] | WEAK | ...  \n",
       "yahoo_answer BETA-VAE beta 0 dec: Strong roBERTa    (29-nov yahoo-beta-vae) B-VAE[b=0.0] | STRONG ...  \n",
       "yahoo_answer BETA-VAE beta 0 dec: Weak-M roBERTa    (29-nov yahoo-beta-vae) B-VAE[b=0.0] | WEAK | ...  \n",
       "ptb BETA-VAE beta 1.5 dec: Strong roBERTa           (29-nov ptb-beta-vae) B-VAE[b=1.5] | STRONG | ...  \n",
       "ptb BETA-VAE beta 1.5 dec: Weak-M roBERTa           (29-nov ptb-beta-vae) B-VAE[b=1.5] | WEAK | Nz...  \n",
       "ptb BETA-VAE beta 1 dec: Strong roBERTa             (29-nov ptb-beta-vae) B-VAE[b=1.0] | STRONG | ...  \n",
       "ptb BETA-VAE beta 1 dec: Weak-M roBERTa             (29-nov ptb-beta-vae) B-VAE[b=1.0] | WEAK | Nz...  \n",
       "ptb BETA-VAE beta 0.5 dec: Weak-M roBERTa           (29-nov ptb-beta-vae) B-VAE[b=0.5] | WEAK | Nz...  \n",
       "ptb BETA-VAE beta 0.5 dec: Strong roBERTa           (29-nov ptb-beta-vae) B-VAE[b=0.5] | STRONG | ...  \n",
       "ptb BETA-VAE beta 0.1 dec: Strong roBERTa           (29-nov ptb-beta-vae) B-VAE[b=0.1] | STRONG | ...  \n",
       "ptb BETA-VAE beta 0 dec: Strong roBERTa             (29-nov ptb-beta-vae) B-VAE[b=0.0] | STRONG | ...  \n",
       "ptb BETA-VAE beta 0 dec: Weak-M roBERTa             (29-nov ptb-beta-vae) B-VAE[b=0.0] | WEAK | Nz...  \n",
       "ptb BETA-VAE beta 0.1 dec: Weak-M roBERTa           (29-nov ptb-beta-vae) B-VAE[b=0.1] | WEAK | Nz...  "
      ]
     },
     "execution_count": 6,
     "metadata": {},
     "output_type": "execute_result"
    }
   ],
   "source": [
    "prefixes = [\"(29-nov ptb-beta-vae)\", \"(29-nov yahoo-beta-vae)\", \"(29-nov drop yahoo-beta-vae)\"]\n",
    "overview_df = make_run_overview_df(prefixes, add_data_group=False)\n",
    "overview_df"
   ]
  },
  {
   "cell_type": "code",
   "execution_count": 7,
   "metadata": {
    "scrolled": true
   },
   "outputs": [
    {
     "name": "stdout",
     "output_type": "stream",
     "text": [
      "yahoo_answer | drop-0.25 | BETA-VAE beta 0.5 dec: Strong roBERTa\n"
     ]
    },
    {
     "name": "stderr",
     "output_type": "stream",
     "text": [
      "Some weights of the model checkpoint at distilroberta-base were not used when initializing RobertaModel: ['lm_head.layer_norm.weight', 'lm_head.layer_norm.bias', 'lm_head.dense.bias', 'lm_head.dense.weight', 'lm_head.decoder.weight', 'lm_head.bias']\n",
      "- This IS expected if you are initializing RobertaModel from the checkpoint of a model trained on another task or with another architecture (e.g. initializing a BertForSequenceClassification model from a BertForPreTraining model).\n",
      "- This IS NOT expected if you are initializing RobertaModel from the checkpoint of a model that you expect to be exactly identical (initializing a BertForSequenceClassification model from a BertForSequenceClassification model).\n",
      "Some weights of the model checkpoint at distilroberta-base were not used when initializing RobertaModel: ['lm_head.layer_norm.weight', 'lm_head.layer_norm.bias', 'lm_head.dense.bias', 'lm_head.dense.weight', 'lm_head.decoder.weight', 'lm_head.bias']\n",
      "- This IS expected if you are initializing RobertaModel from the checkpoint of a model trained on another task or with another architecture (e.g. initializing a BertForSequenceClassification model from a BertForPreTraining model).\n",
      "- This IS NOT expected if you are initializing RobertaModel from the checkpoint of a model that you expect to be exactly identical (initializing a BertForSequenceClassification model from a BertForSequenceClassification model).\n"
     ]
    },
    {
     "name": "stdout",
     "output_type": "stream",
     "text": [
      "beta_kl: 5.34 | total_loss: 161.39 | mmd: 0.00 | elbo: -166.73 | distortion: 156.05 | kl_prior_post: 10.69 | mean_mean: -0.00 | std_across_x_mean: 0.31 | std_across_z_mean: 0.35 | mean_scale: 0.92 | std_across_x_scale: 0.04 | std_across_z_scale: 0.10 | \n",
      "yahoo_answer | drop-1 | BETA-VAE beta 0.1 dec: Strong roBERTa\n"
     ]
    },
    {
     "name": "stderr",
     "output_type": "stream",
     "text": [
      "Some weights of the model checkpoint at distilroberta-base were not used when initializing RobertaModel: ['lm_head.layer_norm.weight', 'lm_head.layer_norm.bias', 'lm_head.dense.bias', 'lm_head.dense.weight', 'lm_head.decoder.weight', 'lm_head.bias']\n",
      "- This IS expected if you are initializing RobertaModel from the checkpoint of a model trained on another task or with another architecture (e.g. initializing a BertForSequenceClassification model from a BertForPreTraining model).\n",
      "- This IS NOT expected if you are initializing RobertaModel from the checkpoint of a model that you expect to be exactly identical (initializing a BertForSequenceClassification model from a BertForSequenceClassification model).\n",
      "Some weights of the model checkpoint at distilroberta-base were not used when initializing RobertaModel: ['lm_head.layer_norm.weight', 'lm_head.layer_norm.bias', 'lm_head.dense.bias', 'lm_head.dense.weight', 'lm_head.decoder.weight', 'lm_head.bias']\n",
      "- This IS expected if you are initializing RobertaModel from the checkpoint of a model trained on another task or with another architecture (e.g. initializing a BertForSequenceClassification model from a BertForPreTraining model).\n",
      "- This IS NOT expected if you are initializing RobertaModel from the checkpoint of a model that you expect to be exactly identical (initializing a BertForSequenceClassification model from a BertForSequenceClassification model).\n"
     ]
    },
    {
     "name": "stdout",
     "output_type": "stream",
     "text": [
      "beta_kl: 5.07 | total_loss: 271.08 | mmd: 0.00 | elbo: -316.72 | distortion: 266.01 | kl_prior_post: 50.71 | mean_mean: -0.00 | std_across_x_mean: 0.49 | std_across_z_mean: 0.58 | mean_scale: 0.77 | std_across_x_scale: 0.05 | std_across_z_scale: 0.26 | \n",
      "yahoo_answer | drop-0.75 | BETA-VAE beta 0.1 dec: Strong roBERTa\n"
     ]
    },
    {
     "name": "stderr",
     "output_type": "stream",
     "text": [
      "Some weights of the model checkpoint at distilroberta-base were not used when initializing RobertaModel: ['lm_head.layer_norm.weight', 'lm_head.layer_norm.bias', 'lm_head.dense.bias', 'lm_head.dense.weight', 'lm_head.decoder.weight', 'lm_head.bias']\n",
      "- This IS expected if you are initializing RobertaModel from the checkpoint of a model trained on another task or with another architecture (e.g. initializing a BertForSequenceClassification model from a BertForPreTraining model).\n",
      "- This IS NOT expected if you are initializing RobertaModel from the checkpoint of a model that you expect to be exactly identical (initializing a BertForSequenceClassification model from a BertForSequenceClassification model).\n",
      "Some weights of the model checkpoint at distilroberta-base were not used when initializing RobertaModel: ['lm_head.layer_norm.weight', 'lm_head.layer_norm.bias', 'lm_head.dense.bias', 'lm_head.dense.weight', 'lm_head.decoder.weight', 'lm_head.bias']\n",
      "- This IS expected if you are initializing RobertaModel from the checkpoint of a model trained on another task or with another architecture (e.g. initializing a BertForSequenceClassification model from a BertForPreTraining model).\n",
      "- This IS NOT expected if you are initializing RobertaModel from the checkpoint of a model that you expect to be exactly identical (initializing a BertForSequenceClassification model from a BertForSequenceClassification model).\n"
     ]
    },
    {
     "name": "stdout",
     "output_type": "stream",
     "text": [
      "beta_kl: 8.82 | total_loss: 162.54 | mmd: 0.00 | elbo: -241.88 | distortion: 153.73 | kl_prior_post: 88.15 | mean_mean: -0.01 | std_across_x_mean: 0.75 | std_across_z_mean: 0.78 | mean_scale: 0.56 | std_across_x_scale: 0.10 | std_across_z_scale: 0.21 | \n",
      "yahoo_answer | drop-0.5 | BETA-VAE beta 0.1 dec: Strong roBERTa\n"
     ]
    },
    {
     "name": "stderr",
     "output_type": "stream",
     "text": [
      "Some weights of the model checkpoint at distilroberta-base were not used when initializing RobertaModel: ['lm_head.layer_norm.weight', 'lm_head.layer_norm.bias', 'lm_head.dense.bias', 'lm_head.dense.weight', 'lm_head.decoder.weight', 'lm_head.bias']\n",
      "- This IS expected if you are initializing RobertaModel from the checkpoint of a model trained on another task or with another architecture (e.g. initializing a BertForSequenceClassification model from a BertForPreTraining model).\n",
      "- This IS NOT expected if you are initializing RobertaModel from the checkpoint of a model that you expect to be exactly identical (initializing a BertForSequenceClassification model from a BertForSequenceClassification model).\n",
      "Some weights of the model checkpoint at distilroberta-base were not used when initializing RobertaModel: ['lm_head.layer_norm.weight', 'lm_head.layer_norm.bias', 'lm_head.dense.bias', 'lm_head.dense.weight', 'lm_head.decoder.weight', 'lm_head.bias']\n",
      "- This IS expected if you are initializing RobertaModel from the checkpoint of a model trained on another task or with another architecture (e.g. initializing a BertForSequenceClassification model from a BertForPreTraining model).\n",
      "- This IS NOT expected if you are initializing RobertaModel from the checkpoint of a model that you expect to be exactly identical (initializing a BertForSequenceClassification model from a BertForSequenceClassification model).\n"
     ]
    },
    {
     "name": "stdout",
     "output_type": "stream",
     "text": [
      "beta_kl: 9.53 | total_loss: 150.79 | mmd: 0.00 | elbo: -236.51 | distortion: 141.26 | kl_prior_post: 95.25 | mean_mean: 0.02 | std_across_x_mean: 0.77 | std_across_z_mean: 0.79 | mean_scale: 0.51 | std_across_x_scale: 0.12 | std_across_z_scale: 0.18 | \n",
      "yahoo_answer | drop-0.25 | BETA-VAE beta 0.1 dec: Strong roBERTa\n"
     ]
    },
    {
     "name": "stderr",
     "output_type": "stream",
     "text": [
      "Some weights of the model checkpoint at distilroberta-base were not used when initializing RobertaModel: ['lm_head.layer_norm.weight', 'lm_head.layer_norm.bias', 'lm_head.dense.bias', 'lm_head.dense.weight', 'lm_head.decoder.weight', 'lm_head.bias']\n",
      "- This IS expected if you are initializing RobertaModel from the checkpoint of a model trained on another task or with another architecture (e.g. initializing a BertForSequenceClassification model from a BertForPreTraining model).\n",
      "- This IS NOT expected if you are initializing RobertaModel from the checkpoint of a model that you expect to be exactly identical (initializing a BertForSequenceClassification model from a BertForSequenceClassification model).\n",
      "Some weights of the model checkpoint at distilroberta-base were not used when initializing RobertaModel: ['lm_head.layer_norm.weight', 'lm_head.layer_norm.bias', 'lm_head.dense.bias', 'lm_head.dense.weight', 'lm_head.decoder.weight', 'lm_head.bias']\n",
      "- This IS expected if you are initializing RobertaModel from the checkpoint of a model trained on another task or with another architecture (e.g. initializing a BertForSequenceClassification model from a BertForPreTraining model).\n",
      "- This IS NOT expected if you are initializing RobertaModel from the checkpoint of a model that you expect to be exactly identical (initializing a BertForSequenceClassification model from a BertForSequenceClassification model).\n"
     ]
    },
    {
     "name": "stdout",
     "output_type": "stream",
     "text": [
      "beta_kl: 9.43 | total_loss: 143.58 | mmd: 0.00 | elbo: -228.47 | distortion: 134.15 | kl_prior_post: 94.31 | mean_mean: -0.00 | std_across_x_mean: 0.78 | std_across_z_mean: 0.80 | mean_scale: 0.51 | std_across_x_scale: 0.12 | std_across_z_scale: 0.16 | \n",
      "yahoo_answer | drop-1 | BETA-VAE beta 0 dec: Strong roBERTa\n"
     ]
    },
    {
     "name": "stderr",
     "output_type": "stream",
     "text": [
      "Some weights of the model checkpoint at distilroberta-base were not used when initializing RobertaModel: ['lm_head.layer_norm.weight', 'lm_head.layer_norm.bias', 'lm_head.dense.bias', 'lm_head.dense.weight', 'lm_head.decoder.weight', 'lm_head.bias']\n",
      "- This IS expected if you are initializing RobertaModel from the checkpoint of a model trained on another task or with another architecture (e.g. initializing a BertForSequenceClassification model from a BertForPreTraining model).\n",
      "- This IS NOT expected if you are initializing RobertaModel from the checkpoint of a model that you expect to be exactly identical (initializing a BertForSequenceClassification model from a BertForSequenceClassification model).\n",
      "Some weights of the model checkpoint at distilroberta-base were not used when initializing RobertaModel: ['lm_head.layer_norm.weight', 'lm_head.layer_norm.bias', 'lm_head.dense.bias', 'lm_head.dense.weight', 'lm_head.decoder.weight', 'lm_head.bias']\n",
      "- This IS expected if you are initializing RobertaModel from the checkpoint of a model trained on another task or with another architecture (e.g. initializing a BertForSequenceClassification model from a BertForPreTraining model).\n",
      "- This IS NOT expected if you are initializing RobertaModel from the checkpoint of a model that you expect to be exactly identical (initializing a BertForSequenceClassification model from a BertForSequenceClassification model).\n"
     ]
    },
    {
     "name": "stdout",
     "output_type": "stream",
     "text": [
      "beta_kl: 0.00 | total_loss: 278.56 | mmd: 0.00 | elbo: -694.66 | distortion: 278.56 | kl_prior_post: 416.10 | mean_mean: 0.02 | std_across_x_mean: 0.71 | std_across_z_mean: 1.13 | mean_scale: 0.06 | std_across_x_scale: 0.04 | std_across_z_scale: 0.03 | \n",
      "yahoo_answer | drop-0.75 | BETA-VAE beta 0 dec: Strong roBERTa\n"
     ]
    },
    {
     "name": "stderr",
     "output_type": "stream",
     "text": [
      "Some weights of the model checkpoint at distilroberta-base were not used when initializing RobertaModel: ['lm_head.layer_norm.weight', 'lm_head.layer_norm.bias', 'lm_head.dense.bias', 'lm_head.dense.weight', 'lm_head.decoder.weight', 'lm_head.bias']\n",
      "- This IS expected if you are initializing RobertaModel from the checkpoint of a model trained on another task or with another architecture (e.g. initializing a BertForSequenceClassification model from a BertForPreTraining model).\n",
      "- This IS NOT expected if you are initializing RobertaModel from the checkpoint of a model that you expect to be exactly identical (initializing a BertForSequenceClassification model from a BertForSequenceClassification model).\n",
      "Some weights of the model checkpoint at distilroberta-base were not used when initializing RobertaModel: ['lm_head.layer_norm.weight', 'lm_head.layer_norm.bias', 'lm_head.dense.bias', 'lm_head.dense.weight', 'lm_head.decoder.weight', 'lm_head.bias']\n",
      "- This IS expected if you are initializing RobertaModel from the checkpoint of a model trained on another task or with another architecture (e.g. initializing a BertForSequenceClassification model from a BertForPreTraining model).\n",
      "- This IS NOT expected if you are initializing RobertaModel from the checkpoint of a model that you expect to be exactly identical (initializing a BertForSequenceClassification model from a BertForSequenceClassification model).\n"
     ]
    },
    {
     "name": "stdout",
     "output_type": "stream",
     "text": [
      "beta_kl: 0.00 | total_loss: 147.74 | mmd: 0.00 | elbo: -858.23 | distortion: 147.74 | kl_prior_post: 710.49 | mean_mean: -0.01 | std_across_x_mean: 0.64 | std_across_z_mean: 0.76 | mean_scale: 0.01 | std_across_x_scale: 0.01 | std_across_z_scale: 0.00 | \n",
      "yahoo_answer | drop-0.5 | BETA-VAE beta 0 dec: Strong roBERTa\n"
     ]
    },
    {
     "name": "stderr",
     "output_type": "stream",
     "text": [
      "Some weights of the model checkpoint at distilroberta-base were not used when initializing RobertaModel: ['lm_head.layer_norm.weight', 'lm_head.layer_norm.bias', 'lm_head.dense.bias', 'lm_head.dense.weight', 'lm_head.decoder.weight', 'lm_head.bias']\n",
      "- This IS expected if you are initializing RobertaModel from the checkpoint of a model trained on another task or with another architecture (e.g. initializing a BertForSequenceClassification model from a BertForPreTraining model).\n",
      "- This IS NOT expected if you are initializing RobertaModel from the checkpoint of a model that you expect to be exactly identical (initializing a BertForSequenceClassification model from a BertForSequenceClassification model).\n",
      "Some weights of the model checkpoint at distilroberta-base were not used when initializing RobertaModel: ['lm_head.layer_norm.weight', 'lm_head.layer_norm.bias', 'lm_head.dense.bias', 'lm_head.dense.weight', 'lm_head.decoder.weight', 'lm_head.bias']\n",
      "- This IS expected if you are initializing RobertaModel from the checkpoint of a model trained on another task or with another architecture (e.g. initializing a BertForSequenceClassification model from a BertForPreTraining model).\n",
      "- This IS NOT expected if you are initializing RobertaModel from the checkpoint of a model that you expect to be exactly identical (initializing a BertForSequenceClassification model from a BertForSequenceClassification model).\n"
     ]
    },
    {
     "name": "stdout",
     "output_type": "stream",
     "text": [
      "beta_kl: 0.00 | total_loss: 132.45 | mmd: 0.00 | elbo: -844.83 | distortion: 132.45 | kl_prior_post: 712.38 | mean_mean: -0.03 | std_across_x_mean: 0.59 | std_across_z_mean: 0.70 | mean_scale: 0.01 | std_across_x_scale: 0.01 | std_across_z_scale: 0.00 | \n",
      "yahoo_answer | drop-0.25 | BETA-VAE beta 0 dec: Strong roBERTa\n"
     ]
    },
    {
     "name": "stderr",
     "output_type": "stream",
     "text": [
      "Some weights of the model checkpoint at distilroberta-base were not used when initializing RobertaModel: ['lm_head.layer_norm.weight', 'lm_head.layer_norm.bias', 'lm_head.dense.bias', 'lm_head.dense.weight', 'lm_head.decoder.weight', 'lm_head.bias']\n",
      "- This IS expected if you are initializing RobertaModel from the checkpoint of a model trained on another task or with another architecture (e.g. initializing a BertForSequenceClassification model from a BertForPreTraining model).\n",
      "- This IS NOT expected if you are initializing RobertaModel from the checkpoint of a model that you expect to be exactly identical (initializing a BertForSequenceClassification model from a BertForSequenceClassification model).\n",
      "Some weights of the model checkpoint at distilroberta-base were not used when initializing RobertaModel: ['lm_head.layer_norm.weight', 'lm_head.layer_norm.bias', 'lm_head.dense.bias', 'lm_head.dense.weight', 'lm_head.decoder.weight', 'lm_head.bias']\n",
      "- This IS expected if you are initializing RobertaModel from the checkpoint of a model trained on another task or with another architecture (e.g. initializing a BertForSequenceClassification model from a BertForPreTraining model).\n",
      "- This IS NOT expected if you are initializing RobertaModel from the checkpoint of a model that you expect to be exactly identical (initializing a BertForSequenceClassification model from a BertForSequenceClassification model).\n"
     ]
    },
    {
     "name": "stdout",
     "output_type": "stream",
     "text": [
      "beta_kl: 0.00 | total_loss: 121.73 | mmd: 0.00 | elbo: -803.50 | distortion: 121.73 | kl_prior_post: 681.76 | mean_mean: -0.02 | std_across_x_mean: 0.58 | std_across_z_mean: 0.71 | mean_scale: 0.01 | std_across_x_scale: 0.01 | std_across_z_scale: 0.00 | \n",
      "yahoo_answer | drop-1 | BETA-VAE beta 1 dec: Strong roBERTa\n"
     ]
    },
    {
     "name": "stderr",
     "output_type": "stream",
     "text": [
      "Some weights of the model checkpoint at distilroberta-base were not used when initializing RobertaModel: ['lm_head.layer_norm.weight', 'lm_head.layer_norm.bias', 'lm_head.dense.bias', 'lm_head.dense.weight', 'lm_head.decoder.weight', 'lm_head.bias']\n",
      "- This IS expected if you are initializing RobertaModel from the checkpoint of a model trained on another task or with another architecture (e.g. initializing a BertForSequenceClassification model from a BertForPreTraining model).\n",
      "- This IS NOT expected if you are initializing RobertaModel from the checkpoint of a model that you expect to be exactly identical (initializing a BertForSequenceClassification model from a BertForSequenceClassification model).\n",
      "Some weights of the model checkpoint at distilroberta-base were not used when initializing RobertaModel: ['lm_head.layer_norm.weight', 'lm_head.layer_norm.bias', 'lm_head.dense.bias', 'lm_head.dense.weight', 'lm_head.decoder.weight', 'lm_head.bias']\n",
      "- This IS expected if you are initializing RobertaModel from the checkpoint of a model trained on another task or with another architecture (e.g. initializing a BertForSequenceClassification model from a BertForPreTraining model).\n",
      "- This IS NOT expected if you are initializing RobertaModel from the checkpoint of a model that you expect to be exactly identical (initializing a BertForSequenceClassification model from a BertForSequenceClassification model).\n"
     ]
    },
    {
     "name": "stdout",
     "output_type": "stream",
     "text": [
      "beta_kl: 3.16 | total_loss: 285.03 | mmd: 0.00 | elbo: -285.03 | distortion: 281.87 | kl_prior_post: 3.16 | mean_mean: 0.00 | std_across_x_mean: 0.04 | std_across_z_mean: 0.12 | mean_scale: 0.99 | std_across_x_scale: 0.02 | std_across_z_scale: 0.09 | \n",
      "yahoo_answer | drop-0.75 | BETA-VAE beta 1 dec: Strong roBERTa\n"
     ]
    },
    {
     "name": "stderr",
     "output_type": "stream",
     "text": [
      "Some weights of the model checkpoint at distilroberta-base were not used when initializing RobertaModel: ['lm_head.layer_norm.weight', 'lm_head.layer_norm.bias', 'lm_head.dense.bias', 'lm_head.dense.weight', 'lm_head.decoder.weight', 'lm_head.bias']\n",
      "- This IS expected if you are initializing RobertaModel from the checkpoint of a model trained on another task or with another architecture (e.g. initializing a BertForSequenceClassification model from a BertForPreTraining model).\n",
      "- This IS NOT expected if you are initializing RobertaModel from the checkpoint of a model that you expect to be exactly identical (initializing a BertForSequenceClassification model from a BertForSequenceClassification model).\n",
      "Some weights of the model checkpoint at distilroberta-base were not used when initializing RobertaModel: ['lm_head.layer_norm.weight', 'lm_head.layer_norm.bias', 'lm_head.dense.bias', 'lm_head.dense.weight', 'lm_head.decoder.weight', 'lm_head.bias']\n",
      "- This IS expected if you are initializing RobertaModel from the checkpoint of a model trained on another task or with another architecture (e.g. initializing a BertForSequenceClassification model from a BertForPreTraining model).\n",
      "- This IS NOT expected if you are initializing RobertaModel from the checkpoint of a model that you expect to be exactly identical (initializing a BertForSequenceClassification model from a BertForSequenceClassification model).\n"
     ]
    },
    {
     "name": "stdout",
     "output_type": "stream",
     "text": [
      "beta_kl: 7.35 | total_loss: 178.73 | mmd: 0.00 | elbo: -178.73 | distortion: 171.38 | kl_prior_post: 7.35 | mean_mean: -0.00 | std_across_x_mean: 0.22 | std_across_z_mean: 0.26 | mean_scale: 0.96 | std_across_x_scale: 0.02 | std_across_z_scale: 0.11 | \n",
      "yahoo_answer | drop-0.5 | BETA-VAE beta 1 dec: Strong roBERTa\n"
     ]
    },
    {
     "name": "stderr",
     "output_type": "stream",
     "text": [
      "Some weights of the model checkpoint at distilroberta-base were not used when initializing RobertaModel: ['lm_head.layer_norm.weight', 'lm_head.layer_norm.bias', 'lm_head.dense.bias', 'lm_head.dense.weight', 'lm_head.decoder.weight', 'lm_head.bias']\n",
      "- This IS expected if you are initializing RobertaModel from the checkpoint of a model trained on another task or with another architecture (e.g. initializing a BertForSequenceClassification model from a BertForPreTraining model).\n",
      "- This IS NOT expected if you are initializing RobertaModel from the checkpoint of a model that you expect to be exactly identical (initializing a BertForSequenceClassification model from a BertForSequenceClassification model).\n",
      "Some weights of the model checkpoint at distilroberta-base were not used when initializing RobertaModel: ['lm_head.layer_norm.weight', 'lm_head.layer_norm.bias', 'lm_head.dense.bias', 'lm_head.dense.weight', 'lm_head.decoder.weight', 'lm_head.bias']\n",
      "- This IS expected if you are initializing RobertaModel from the checkpoint of a model trained on another task or with another architecture (e.g. initializing a BertForSequenceClassification model from a BertForPreTraining model).\n",
      "- This IS NOT expected if you are initializing RobertaModel from the checkpoint of a model that you expect to be exactly identical (initializing a BertForSequenceClassification model from a BertForSequenceClassification model).\n"
     ]
    },
    {
     "name": "stdout",
     "output_type": "stream",
     "text": [
      "beta_kl: 3.23 | total_loss: 168.55 | mmd: 0.00 | elbo: -168.55 | distortion: 165.32 | kl_prior_post: 3.23 | mean_mean: -0.00 | std_across_x_mean: 0.19 | std_across_z_mean: 0.20 | mean_scale: 0.97 | std_across_x_scale: 0.02 | std_across_z_scale: 0.04 | \n",
      "yahoo_answer | drop-0.25 | BETA-VAE beta 1 dec: Strong roBERTa\n"
     ]
    },
    {
     "name": "stderr",
     "output_type": "stream",
     "text": [
      "Some weights of the model checkpoint at distilroberta-base were not used when initializing RobertaModel: ['lm_head.layer_norm.weight', 'lm_head.layer_norm.bias', 'lm_head.dense.bias', 'lm_head.dense.weight', 'lm_head.decoder.weight', 'lm_head.bias']\n",
      "- This IS expected if you are initializing RobertaModel from the checkpoint of a model trained on another task or with another architecture (e.g. initializing a BertForSequenceClassification model from a BertForPreTraining model).\n",
      "- This IS NOT expected if you are initializing RobertaModel from the checkpoint of a model that you expect to be exactly identical (initializing a BertForSequenceClassification model from a BertForSequenceClassification model).\n",
      "Some weights of the model checkpoint at distilroberta-base were not used when initializing RobertaModel: ['lm_head.layer_norm.weight', 'lm_head.layer_norm.bias', 'lm_head.dense.bias', 'lm_head.dense.weight', 'lm_head.decoder.weight', 'lm_head.bias']\n",
      "- This IS expected if you are initializing RobertaModel from the checkpoint of a model trained on another task or with another architecture (e.g. initializing a BertForSequenceClassification model from a BertForPreTraining model).\n",
      "- This IS NOT expected if you are initializing RobertaModel from the checkpoint of a model that you expect to be exactly identical (initializing a BertForSequenceClassification model from a BertForSequenceClassification model).\n"
     ]
    },
    {
     "name": "stdout",
     "output_type": "stream",
     "text": [
      "beta_kl: 0.50 | total_loss: 163.70 | mmd: 0.00 | elbo: -163.70 | distortion: 163.20 | kl_prior_post: 0.50 | mean_mean: 0.00 | std_across_x_mean: 0.08 | std_across_z_mean: 0.08 | mean_scale: 0.99 | std_across_x_scale: 0.01 | std_across_z_scale: 0.01 | \n",
      "yahoo_answer | drop-1 | BETA-VAE beta 0.5 dec: Strong roBERTa\n"
     ]
    },
    {
     "name": "stderr",
     "output_type": "stream",
     "text": [
      "Some weights of the model checkpoint at distilroberta-base were not used when initializing RobertaModel: ['lm_head.layer_norm.weight', 'lm_head.layer_norm.bias', 'lm_head.dense.bias', 'lm_head.dense.weight', 'lm_head.decoder.weight', 'lm_head.bias']\n",
      "- This IS expected if you are initializing RobertaModel from the checkpoint of a model trained on another task or with another architecture (e.g. initializing a BertForSequenceClassification model from a BertForPreTraining model).\n",
      "- This IS NOT expected if you are initializing RobertaModel from the checkpoint of a model that you expect to be exactly identical (initializing a BertForSequenceClassification model from a BertForSequenceClassification model).\n",
      "Some weights of the model checkpoint at distilroberta-base were not used when initializing RobertaModel: ['lm_head.layer_norm.weight', 'lm_head.layer_norm.bias', 'lm_head.dense.bias', 'lm_head.dense.weight', 'lm_head.decoder.weight', 'lm_head.bias']\n",
      "- This IS expected if you are initializing RobertaModel from the checkpoint of a model trained on another task or with another architecture (e.g. initializing a BertForSequenceClassification model from a BertForPreTraining model).\n",
      "- This IS NOT expected if you are initializing RobertaModel from the checkpoint of a model that you expect to be exactly identical (initializing a BertForSequenceClassification model from a BertForSequenceClassification model).\n"
     ]
    },
    {
     "name": "stdout",
     "output_type": "stream",
     "text": [
      "beta_kl: 4.44 | total_loss: 280.92 | mmd: 0.00 | elbo: -285.36 | distortion: 276.48 | kl_prior_post: 8.88 | mean_mean: 0.00 | std_across_x_mean: 0.18 | std_across_z_mean: 0.26 | mean_scale: 0.96 | std_across_x_scale: 0.02 | std_across_z_scale: 0.13 | \n",
      "yahoo_answer | drop-0.75 | BETA-VAE beta 0.5 dec: Strong roBERTa\n"
     ]
    },
    {
     "name": "stderr",
     "output_type": "stream",
     "text": [
      "Some weights of the model checkpoint at distilroberta-base were not used when initializing RobertaModel: ['lm_head.layer_norm.weight', 'lm_head.layer_norm.bias', 'lm_head.dense.bias', 'lm_head.dense.weight', 'lm_head.decoder.weight', 'lm_head.bias']\n",
      "- This IS expected if you are initializing RobertaModel from the checkpoint of a model trained on another task or with another architecture (e.g. initializing a BertForSequenceClassification model from a BertForPreTraining model).\n",
      "- This IS NOT expected if you are initializing RobertaModel from the checkpoint of a model that you expect to be exactly identical (initializing a BertForSequenceClassification model from a BertForSequenceClassification model).\n",
      "Some weights of the model checkpoint at distilroberta-base were not used when initializing RobertaModel: ['lm_head.layer_norm.weight', 'lm_head.layer_norm.bias', 'lm_head.dense.bias', 'lm_head.dense.weight', 'lm_head.decoder.weight', 'lm_head.bias']\n",
      "- This IS expected if you are initializing RobertaModel from the checkpoint of a model trained on another task or with another architecture (e.g. initializing a BertForSequenceClassification model from a BertForPreTraining model).\n",
      "- This IS NOT expected if you are initializing RobertaModel from the checkpoint of a model that you expect to be exactly identical (initializing a BertForSequenceClassification model from a BertForSequenceClassification model).\n"
     ]
    },
    {
     "name": "stdout",
     "output_type": "stream",
     "text": [
      "beta_kl: 9.59 | total_loss: 175.84 | mmd: 0.00 | elbo: -185.44 | distortion: 166.25 | kl_prior_post: 19.19 | mean_mean: -0.00 | std_across_x_mean: 0.34 | std_across_z_mean: 0.41 | mean_scale: 0.89 | std_across_x_scale: 0.04 | std_across_z_scale: 0.17 | \n",
      "yahoo_answer | drop-0.5 | BETA-VAE beta 0.5 dec: Strong roBERTa\n"
     ]
    },
    {
     "name": "stderr",
     "output_type": "stream",
     "text": [
      "Some weights of the model checkpoint at distilroberta-base were not used when initializing RobertaModel: ['lm_head.layer_norm.weight', 'lm_head.layer_norm.bias', 'lm_head.dense.bias', 'lm_head.dense.weight', 'lm_head.decoder.weight', 'lm_head.bias']\n",
      "- This IS expected if you are initializing RobertaModel from the checkpoint of a model trained on another task or with another architecture (e.g. initializing a BertForSequenceClassification model from a BertForPreTraining model).\n",
      "- This IS NOT expected if you are initializing RobertaModel from the checkpoint of a model that you expect to be exactly identical (initializing a BertForSequenceClassification model from a BertForSequenceClassification model).\n",
      "Some weights of the model checkpoint at distilroberta-base were not used when initializing RobertaModel: ['lm_head.layer_norm.weight', 'lm_head.layer_norm.bias', 'lm_head.dense.bias', 'lm_head.dense.weight', 'lm_head.decoder.weight', 'lm_head.bias']\n",
      "- This IS expected if you are initializing RobertaModel from the checkpoint of a model trained on another task or with another architecture (e.g. initializing a BertForSequenceClassification model from a BertForPreTraining model).\n",
      "- This IS NOT expected if you are initializing RobertaModel from the checkpoint of a model that you expect to be exactly identical (initializing a BertForSequenceClassification model from a BertForSequenceClassification model).\n"
     ]
    },
    {
     "name": "stdout",
     "output_type": "stream",
     "text": [
      "beta_kl: 7.99 | total_loss: 166.17 | mmd: 0.00 | elbo: -174.16 | distortion: 158.18 | kl_prior_post: 15.98 | mean_mean: 0.00 | std_across_x_mean: 0.36 | std_across_z_mean: 0.40 | mean_scale: 0.90 | std_across_x_scale: 0.05 | std_across_z_scale: 0.13 | \n",
      "yahoo_answer BETA-VAE beta 1.5 dec: Strong roBERTa\n"
     ]
    },
    {
     "name": "stderr",
     "output_type": "stream",
     "text": [
      "Some weights of the model checkpoint at distilroberta-base were not used when initializing RobertaModel: ['lm_head.layer_norm.weight', 'lm_head.layer_norm.bias', 'lm_head.dense.bias', 'lm_head.dense.weight', 'lm_head.decoder.weight', 'lm_head.bias']\n",
      "- This IS expected if you are initializing RobertaModel from the checkpoint of a model trained on another task or with another architecture (e.g. initializing a BertForSequenceClassification model from a BertForPreTraining model).\n",
      "- This IS NOT expected if you are initializing RobertaModel from the checkpoint of a model that you expect to be exactly identical (initializing a BertForSequenceClassification model from a BertForSequenceClassification model).\n",
      "Some weights of the model checkpoint at distilroberta-base were not used when initializing RobertaModel: ['lm_head.layer_norm.weight', 'lm_head.layer_norm.bias', 'lm_head.dense.bias', 'lm_head.dense.weight', 'lm_head.decoder.weight', 'lm_head.bias']\n",
      "- This IS expected if you are initializing RobertaModel from the checkpoint of a model trained on another task or with another architecture (e.g. initializing a BertForSequenceClassification model from a BertForPreTraining model).\n",
      "- This IS NOT expected if you are initializing RobertaModel from the checkpoint of a model that you expect to be exactly identical (initializing a BertForSequenceClassification model from a BertForSequenceClassification model).\n"
     ]
    },
    {
     "name": "stdout",
     "output_type": "stream",
     "text": [
      "beta_kl: 0.02 | total_loss: 159.71 | mmd: 0.00 | elbo: -159.71 | distortion: 159.69 | kl_prior_post: 0.01 | mean_mean: -0.00 | std_across_x_mean: 0.01 | std_across_z_mean: 0.01 | mean_scale: 0.99 | std_across_x_scale: 0.00 | std_across_z_scale: 0.00 | \n",
      "yahoo_answer BETA-VAE beta 1 dec: Strong roBERTa\n"
     ]
    },
    {
     "name": "stderr",
     "output_type": "stream",
     "text": [
      "Some weights of the model checkpoint at distilroberta-base were not used when initializing RobertaModel: ['lm_head.layer_norm.weight', 'lm_head.layer_norm.bias', 'lm_head.dense.bias', 'lm_head.dense.weight', 'lm_head.decoder.weight', 'lm_head.bias']\n",
      "- This IS expected if you are initializing RobertaModel from the checkpoint of a model trained on another task or with another architecture (e.g. initializing a BertForSequenceClassification model from a BertForPreTraining model).\n",
      "- This IS NOT expected if you are initializing RobertaModel from the checkpoint of a model that you expect to be exactly identical (initializing a BertForSequenceClassification model from a BertForSequenceClassification model).\n",
      "Some weights of the model checkpoint at distilroberta-base were not used when initializing RobertaModel: ['lm_head.layer_norm.weight', 'lm_head.layer_norm.bias', 'lm_head.dense.bias', 'lm_head.dense.weight', 'lm_head.decoder.weight', 'lm_head.bias']\n",
      "- This IS expected if you are initializing RobertaModel from the checkpoint of a model trained on another task or with another architecture (e.g. initializing a BertForSequenceClassification model from a BertForPreTraining model).\n",
      "- This IS NOT expected if you are initializing RobertaModel from the checkpoint of a model that you expect to be exactly identical (initializing a BertForSequenceClassification model from a BertForSequenceClassification model).\n"
     ]
    },
    {
     "name": "stdout",
     "output_type": "stream",
     "text": [
      "beta_kl: 0.05 | total_loss: 159.73 | mmd: 0.00 | elbo: -159.73 | distortion: 159.68 | kl_prior_post: 0.05 | mean_mean: 0.00 | std_across_x_mean: 0.02 | std_across_z_mean: 0.02 | mean_scale: 0.99 | std_across_x_scale: 0.01 | std_across_z_scale: 0.00 | \n",
      "yahoo_answer BETA-VAE beta 1.5 dec: Weak-M roBERTa\n"
     ]
    },
    {
     "name": "stderr",
     "output_type": "stream",
     "text": [
      "Some weights of the model checkpoint at distilroberta-base were not used when initializing RobertaModel: ['lm_head.layer_norm.weight', 'lm_head.layer_norm.bias', 'lm_head.dense.bias', 'lm_head.dense.weight', 'lm_head.decoder.weight', 'lm_head.bias']\n",
      "- This IS expected if you are initializing RobertaModel from the checkpoint of a model trained on another task or with another architecture (e.g. initializing a BertForSequenceClassification model from a BertForPreTraining model).\n",
      "- This IS NOT expected if you are initializing RobertaModel from the checkpoint of a model that you expect to be exactly identical (initializing a BertForSequenceClassification model from a BertForSequenceClassification model).\n",
      "Some weights of the model checkpoint at distilroberta-base were not used when initializing RobertaModel: ['lm_head.layer_norm.weight', 'lm_head.layer_norm.bias', 'lm_head.dense.bias', 'lm_head.dense.weight', 'lm_head.decoder.weight', 'lm_head.bias']\n",
      "- This IS expected if you are initializing RobertaModel from the checkpoint of a model trained on another task or with another architecture (e.g. initializing a BertForSequenceClassification model from a BertForPreTraining model).\n",
      "- This IS NOT expected if you are initializing RobertaModel from the checkpoint of a model that you expect to be exactly identical (initializing a BertForSequenceClassification model from a BertForSequenceClassification model).\n"
     ]
    },
    {
     "name": "stdout",
     "output_type": "stream",
     "text": [
      "log_p_l_z: -4.01 | log_p_x_z (without l): -266.66 | beta_kl: 5.30 | total_loss: 275.97 | mmd: 0.00 | elbo: -274.20 | distortion: 270.67 | kl_prior_post: 3.53 | mean_mean: 0.00 | std_across_x_mean: 0.04 | std_across_z_mean: 0.11 | mean_scale: 0.99 | std_across_x_scale: 0.01 | std_across_z_scale: 0.10 | \n",
      "yahoo_answer BETA-VAE beta 1 dec: Weak-M roBERTa\n"
     ]
    },
    {
     "name": "stderr",
     "output_type": "stream",
     "text": [
      "Some weights of the model checkpoint at distilroberta-base were not used when initializing RobertaModel: ['lm_head.layer_norm.weight', 'lm_head.layer_norm.bias', 'lm_head.dense.bias', 'lm_head.dense.weight', 'lm_head.decoder.weight', 'lm_head.bias']\n",
      "- This IS expected if you are initializing RobertaModel from the checkpoint of a model trained on another task or with another architecture (e.g. initializing a BertForSequenceClassification model from a BertForPreTraining model).\n",
      "- This IS NOT expected if you are initializing RobertaModel from the checkpoint of a model that you expect to be exactly identical (initializing a BertForSequenceClassification model from a BertForSequenceClassification model).\n",
      "Some weights of the model checkpoint at distilroberta-base were not used when initializing RobertaModel: ['lm_head.layer_norm.weight', 'lm_head.layer_norm.bias', 'lm_head.dense.bias', 'lm_head.dense.weight', 'lm_head.decoder.weight', 'lm_head.bias']\n",
      "- This IS expected if you are initializing RobertaModel from the checkpoint of a model trained on another task or with another architecture (e.g. initializing a BertForSequenceClassification model from a BertForPreTraining model).\n",
      "- This IS NOT expected if you are initializing RobertaModel from the checkpoint of a model that you expect to be exactly identical (initializing a BertForSequenceClassification model from a BertForSequenceClassification model).\n"
     ]
    },
    {
     "name": "stdout",
     "output_type": "stream",
     "text": [
      "log_p_l_z: -3.74 | log_p_x_z (without l): -259.89 | beta_kl: 6.37 | total_loss: 270.01 | mmd: 0.00 | elbo: -270.01 | distortion: 263.63 | kl_prior_post: 6.37 | mean_mean: 0.00 | std_across_x_mean: 0.08 | std_across_z_mean: 0.19 | mean_scale: 0.98 | std_across_x_scale: 0.01 | std_across_z_scale: 0.13 | \n",
      "yahoo_answer BETA-VAE beta 0.5 dec: Strong roBERTa\n"
     ]
    },
    {
     "name": "stderr",
     "output_type": "stream",
     "text": [
      "Some weights of the model checkpoint at distilroberta-base were not used when initializing RobertaModel: ['lm_head.layer_norm.weight', 'lm_head.layer_norm.bias', 'lm_head.dense.bias', 'lm_head.dense.weight', 'lm_head.decoder.weight', 'lm_head.bias']\n",
      "- This IS expected if you are initializing RobertaModel from the checkpoint of a model trained on another task or with another architecture (e.g. initializing a BertForSequenceClassification model from a BertForPreTraining model).\n",
      "- This IS NOT expected if you are initializing RobertaModel from the checkpoint of a model that you expect to be exactly identical (initializing a BertForSequenceClassification model from a BertForSequenceClassification model).\n",
      "Some weights of the model checkpoint at distilroberta-base were not used when initializing RobertaModel: ['lm_head.layer_norm.weight', 'lm_head.layer_norm.bias', 'lm_head.dense.bias', 'lm_head.dense.weight', 'lm_head.decoder.weight', 'lm_head.bias']\n",
      "- This IS expected if you are initializing RobertaModel from the checkpoint of a model trained on another task or with another architecture (e.g. initializing a BertForSequenceClassification model from a BertForPreTraining model).\n",
      "- This IS NOT expected if you are initializing RobertaModel from the checkpoint of a model that you expect to be exactly identical (initializing a BertForSequenceClassification model from a BertForSequenceClassification model).\n"
     ]
    },
    {
     "name": "stdout",
     "output_type": "stream",
     "text": [
      "beta_kl: 1.95 | total_loss: 159.14 | mmd: 0.00 | elbo: -161.09 | distortion: 157.19 | kl_prior_post: 3.90 | mean_mean: 0.00 | std_across_x_mean: 0.22 | std_across_z_mean: 0.23 | mean_scale: 0.96 | std_across_x_scale: 0.03 | std_across_z_scale: 0.03 | \n",
      "yahoo_answer BETA-VAE beta 0.5 dec: Weak-M roBERTa\n"
     ]
    },
    {
     "name": "stderr",
     "output_type": "stream",
     "text": [
      "Some weights of the model checkpoint at distilroberta-base were not used when initializing RobertaModel: ['lm_head.layer_norm.weight', 'lm_head.layer_norm.bias', 'lm_head.dense.bias', 'lm_head.dense.weight', 'lm_head.decoder.weight', 'lm_head.bias']\n",
      "- This IS expected if you are initializing RobertaModel from the checkpoint of a model trained on another task or with another architecture (e.g. initializing a BertForSequenceClassification model from a BertForPreTraining model).\n",
      "- This IS NOT expected if you are initializing RobertaModel from the checkpoint of a model that you expect to be exactly identical (initializing a BertForSequenceClassification model from a BertForSequenceClassification model).\n",
      "Some weights of the model checkpoint at distilroberta-base were not used when initializing RobertaModel: ['lm_head.layer_norm.weight', 'lm_head.layer_norm.bias', 'lm_head.dense.bias', 'lm_head.dense.weight', 'lm_head.decoder.weight', 'lm_head.bias']\n",
      "- This IS expected if you are initializing RobertaModel from the checkpoint of a model trained on another task or with another architecture (e.g. initializing a BertForSequenceClassification model from a BertForPreTraining model).\n",
      "- This IS NOT expected if you are initializing RobertaModel from the checkpoint of a model that you expect to be exactly identical (initializing a BertForSequenceClassification model from a BertForSequenceClassification model).\n"
     ]
    },
    {
     "name": "stdout",
     "output_type": "stream",
     "text": [
      "log_p_l_z: -3.11 | log_p_x_z (without l): -250.36 | beta_kl: 7.02 | total_loss: 260.49 | mmd: 0.00 | elbo: -267.50 | distortion: 253.47 | kl_prior_post: 14.03 | mean_mean: 0.00 | std_across_x_mean: 0.23 | std_across_z_mean: 0.31 | mean_scale: 0.94 | std_across_x_scale: 0.03 | std_across_z_scale: 0.17 | \n",
      "yahoo_answer BETA-VAE beta 0.1 dec: Strong roBERTa\n"
     ]
    },
    {
     "name": "stderr",
     "output_type": "stream",
     "text": [
      "Some weights of the model checkpoint at distilroberta-base were not used when initializing RobertaModel: ['lm_head.layer_norm.weight', 'lm_head.layer_norm.bias', 'lm_head.dense.bias', 'lm_head.dense.weight', 'lm_head.decoder.weight', 'lm_head.bias']\n",
      "- This IS expected if you are initializing RobertaModel from the checkpoint of a model trained on another task or with another architecture (e.g. initializing a BertForSequenceClassification model from a BertForPreTraining model).\n",
      "- This IS NOT expected if you are initializing RobertaModel from the checkpoint of a model that you expect to be exactly identical (initializing a BertForSequenceClassification model from a BertForSequenceClassification model).\n",
      "Some weights of the model checkpoint at distilroberta-base were not used when initializing RobertaModel: ['lm_head.layer_norm.weight', 'lm_head.layer_norm.bias', 'lm_head.dense.bias', 'lm_head.dense.weight', 'lm_head.decoder.weight', 'lm_head.bias']\n",
      "- This IS expected if you are initializing RobertaModel from the checkpoint of a model trained on another task or with another architecture (e.g. initializing a BertForSequenceClassification model from a BertForPreTraining model).\n",
      "- This IS NOT expected if you are initializing RobertaModel from the checkpoint of a model that you expect to be exactly identical (initializing a BertForSequenceClassification model from a BertForSequenceClassification model).\n"
     ]
    },
    {
     "name": "stdout",
     "output_type": "stream",
     "text": [
      "beta_kl: 8.54 | total_loss: 139.85 | mmd: 0.00 | elbo: -216.72 | distortion: 131.30 | kl_prior_post: 85.42 | mean_mean: -0.01 | std_across_x_mean: 0.76 | std_across_z_mean: 0.78 | mean_scale: 0.53 | std_across_x_scale: 0.12 | std_across_z_scale: 0.15 | \n",
      "yahoo_answer BETA-VAE beta 0.1 dec: Weak-M roBERTa\n"
     ]
    },
    {
     "name": "stderr",
     "output_type": "stream",
     "text": [
      "Some weights of the model checkpoint at distilroberta-base were not used when initializing RobertaModel: ['lm_head.layer_norm.weight', 'lm_head.layer_norm.bias', 'lm_head.dense.bias', 'lm_head.dense.weight', 'lm_head.decoder.weight', 'lm_head.bias']\n",
      "- This IS expected if you are initializing RobertaModel from the checkpoint of a model trained on another task or with another architecture (e.g. initializing a BertForSequenceClassification model from a BertForPreTraining model).\n",
      "- This IS NOT expected if you are initializing RobertaModel from the checkpoint of a model that you expect to be exactly identical (initializing a BertForSequenceClassification model from a BertForSequenceClassification model).\n",
      "Some weights of the model checkpoint at distilroberta-base were not used when initializing RobertaModel: ['lm_head.layer_norm.weight', 'lm_head.layer_norm.bias', 'lm_head.dense.bias', 'lm_head.dense.weight', 'lm_head.decoder.weight', 'lm_head.bias']\n",
      "- This IS expected if you are initializing RobertaModel from the checkpoint of a model trained on another task or with another architecture (e.g. initializing a BertForSequenceClassification model from a BertForPreTraining model).\n",
      "- This IS NOT expected if you are initializing RobertaModel from the checkpoint of a model that you expect to be exactly identical (initializing a BertForSequenceClassification model from a BertForSequenceClassification model).\n"
     ]
    },
    {
     "name": "stdout",
     "output_type": "stream",
     "text": [
      "log_p_l_z: -2.56 | log_p_x_z (without l): -225.18 | beta_kl: 6.38 | total_loss: 234.12 | mmd: 0.00 | elbo: -291.55 | distortion: 227.74 | kl_prior_post: 63.80 | mean_mean: 0.01 | std_across_x_mean: 0.58 | std_across_z_mean: 0.65 | mean_scale: 0.72 | std_across_x_scale: 0.06 | std_across_z_scale: 0.28 | \n",
      "yahoo_answer BETA-VAE beta 0 dec: Strong roBERTa\n"
     ]
    },
    {
     "name": "stderr",
     "output_type": "stream",
     "text": [
      "Some weights of the model checkpoint at distilroberta-base were not used when initializing RobertaModel: ['lm_head.layer_norm.weight', 'lm_head.layer_norm.bias', 'lm_head.dense.bias', 'lm_head.dense.weight', 'lm_head.decoder.weight', 'lm_head.bias']\n",
      "- This IS expected if you are initializing RobertaModel from the checkpoint of a model trained on another task or with another architecture (e.g. initializing a BertForSequenceClassification model from a BertForPreTraining model).\n",
      "- This IS NOT expected if you are initializing RobertaModel from the checkpoint of a model that you expect to be exactly identical (initializing a BertForSequenceClassification model from a BertForSequenceClassification model).\n",
      "Some weights of the model checkpoint at distilroberta-base were not used when initializing RobertaModel: ['lm_head.layer_norm.weight', 'lm_head.layer_norm.bias', 'lm_head.dense.bias', 'lm_head.dense.weight', 'lm_head.decoder.weight', 'lm_head.bias']\n",
      "- This IS expected if you are initializing RobertaModel from the checkpoint of a model trained on another task or with another architecture (e.g. initializing a BertForSequenceClassification model from a BertForPreTraining model).\n",
      "- This IS NOT expected if you are initializing RobertaModel from the checkpoint of a model that you expect to be exactly identical (initializing a BertForSequenceClassification model from a BertForSequenceClassification model).\n"
     ]
    },
    {
     "name": "stdout",
     "output_type": "stream",
     "text": [
      "beta_kl: 0.00 | total_loss: 115.74 | mmd: 0.00 | elbo: -815.19 | distortion: 115.74 | kl_prior_post: 699.45 | mean_mean: -0.01 | std_across_x_mean: 0.54 | std_across_z_mean: 0.62 | mean_scale: 0.00 | std_across_x_scale: 0.01 | std_across_z_scale: 0.00 | \n",
      "yahoo_answer BETA-VAE beta 0 dec: Weak-M roBERTa\n"
     ]
    },
    {
     "name": "stderr",
     "output_type": "stream",
     "text": [
      "Some weights of the model checkpoint at distilroberta-base were not used when initializing RobertaModel: ['lm_head.layer_norm.weight', 'lm_head.layer_norm.bias', 'lm_head.dense.bias', 'lm_head.dense.weight', 'lm_head.decoder.weight', 'lm_head.bias']\n",
      "- This IS expected if you are initializing RobertaModel from the checkpoint of a model trained on another task or with another architecture (e.g. initializing a BertForSequenceClassification model from a BertForPreTraining model).\n",
      "- This IS NOT expected if you are initializing RobertaModel from the checkpoint of a model that you expect to be exactly identical (initializing a BertForSequenceClassification model from a BertForSequenceClassification model).\n",
      "Some weights of the model checkpoint at distilroberta-base were not used when initializing RobertaModel: ['lm_head.layer_norm.weight', 'lm_head.layer_norm.bias', 'lm_head.dense.bias', 'lm_head.dense.weight', 'lm_head.decoder.weight', 'lm_head.bias']\n",
      "- This IS expected if you are initializing RobertaModel from the checkpoint of a model trained on another task or with another architecture (e.g. initializing a BertForSequenceClassification model from a BertForPreTraining model).\n",
      "- This IS NOT expected if you are initializing RobertaModel from the checkpoint of a model that you expect to be exactly identical (initializing a BertForSequenceClassification model from a BertForSequenceClassification model).\n"
     ]
    },
    {
     "name": "stdout",
     "output_type": "stream",
     "text": [
      "log_p_l_z: -2.18 | log_p_x_z (without l): -192.11 | beta_kl: 0.00 | total_loss: 194.29 | mmd: 0.00 | elbo: -963.95 | distortion: 194.29 | kl_prior_post: 769.66 | mean_mean: -0.00 | std_across_x_mean: 0.69 | std_across_z_mean: 0.85 | mean_scale: 0.00 | std_across_x_scale: 0.01 | std_across_z_scale: 0.00 | \n",
      "ptb BETA-VAE beta 1.5 dec: Strong roBERTa\n"
     ]
    },
    {
     "name": "stderr",
     "output_type": "stream",
     "text": [
      "Some weights of the model checkpoint at distilroberta-base were not used when initializing RobertaModel: ['lm_head.layer_norm.weight', 'lm_head.layer_norm.bias', 'lm_head.dense.bias', 'lm_head.dense.weight', 'lm_head.decoder.weight', 'lm_head.bias']\n",
      "- This IS expected if you are initializing RobertaModel from the checkpoint of a model trained on another task or with another architecture (e.g. initializing a BertForSequenceClassification model from a BertForPreTraining model).\n",
      "- This IS NOT expected if you are initializing RobertaModel from the checkpoint of a model that you expect to be exactly identical (initializing a BertForSequenceClassification model from a BertForSequenceClassification model).\n",
      "Some weights of the model checkpoint at distilroberta-base were not used when initializing RobertaModel: ['lm_head.layer_norm.weight', 'lm_head.layer_norm.bias', 'lm_head.dense.bias', 'lm_head.dense.weight', 'lm_head.decoder.weight', 'lm_head.bias']\n",
      "- This IS expected if you are initializing RobertaModel from the checkpoint of a model trained on another task or with another architecture (e.g. initializing a BertForSequenceClassification model from a BertForPreTraining model).\n",
      "- This IS NOT expected if you are initializing RobertaModel from the checkpoint of a model that you expect to be exactly identical (initializing a BertForSequenceClassification model from a BertForSequenceClassification model).\n"
     ]
    },
    {
     "name": "stdout",
     "output_type": "stream",
     "text": [
      "beta_kl: 0.01 | total_loss: 90.78 | mmd: 0.00 | elbo: -90.78 | distortion: 90.78 | kl_prior_post: 0.00 | mean_mean: -0.00 | std_across_x_mean: 0.00 | std_across_z_mean: 0.00 | mean_scale: 1.00 | std_across_x_scale: 0.00 | std_across_z_scale: 0.00 | \n",
      "ptb BETA-VAE beta 1.5 dec: Weak-M roBERTa\n"
     ]
    },
    {
     "name": "stderr",
     "output_type": "stream",
     "text": [
      "Some weights of the model checkpoint at distilroberta-base were not used when initializing RobertaModel: ['lm_head.layer_norm.weight', 'lm_head.layer_norm.bias', 'lm_head.dense.bias', 'lm_head.dense.weight', 'lm_head.decoder.weight', 'lm_head.bias']\n",
      "- This IS expected if you are initializing RobertaModel from the checkpoint of a model trained on another task or with another architecture (e.g. initializing a BertForSequenceClassification model from a BertForPreTraining model).\n",
      "- This IS NOT expected if you are initializing RobertaModel from the checkpoint of a model that you expect to be exactly identical (initializing a BertForSequenceClassification model from a BertForSequenceClassification model).\n",
      "Some weights of the model checkpoint at distilroberta-base were not used when initializing RobertaModel: ['lm_head.layer_norm.weight', 'lm_head.layer_norm.bias', 'lm_head.dense.bias', 'lm_head.dense.weight', 'lm_head.decoder.weight', 'lm_head.bias']\n",
      "- This IS expected if you are initializing RobertaModel from the checkpoint of a model trained on another task or with another architecture (e.g. initializing a BertForSequenceClassification model from a BertForPreTraining model).\n",
      "- This IS NOT expected if you are initializing RobertaModel from the checkpoint of a model that you expect to be exactly identical (initializing a BertForSequenceClassification model from a BertForSequenceClassification model).\n"
     ]
    },
    {
     "name": "stdout",
     "output_type": "stream",
     "text": [
      "log_p_l_z: -4.20 | log_p_x_z (without l): -152.04 | beta_kl: 3.12 | total_loss: 159.36 | mmd: 0.00 | elbo: -158.32 | distortion: 156.24 | kl_prior_post: 2.08 | mean_mean: -0.00 | std_across_x_mean: 0.06 | std_across_z_mean: 0.11 | mean_scale: 0.99 | std_across_x_scale: 0.00 | std_across_z_scale: 0.07 | \n",
      "ptb BETA-VAE beta 1 dec: Strong roBERTa\n"
     ]
    },
    {
     "name": "stderr",
     "output_type": "stream",
     "text": [
      "Some weights of the model checkpoint at distilroberta-base were not used when initializing RobertaModel: ['lm_head.layer_norm.weight', 'lm_head.layer_norm.bias', 'lm_head.dense.bias', 'lm_head.dense.weight', 'lm_head.decoder.weight', 'lm_head.bias']\n",
      "- This IS expected if you are initializing RobertaModel from the checkpoint of a model trained on another task or with another architecture (e.g. initializing a BertForSequenceClassification model from a BertForPreTraining model).\n",
      "- This IS NOT expected if you are initializing RobertaModel from the checkpoint of a model that you expect to be exactly identical (initializing a BertForSequenceClassification model from a BertForSequenceClassification model).\n",
      "Some weights of the model checkpoint at distilroberta-base were not used when initializing RobertaModel: ['lm_head.layer_norm.weight', 'lm_head.layer_norm.bias', 'lm_head.dense.bias', 'lm_head.dense.weight', 'lm_head.decoder.weight', 'lm_head.bias']\n",
      "- This IS expected if you are initializing RobertaModel from the checkpoint of a model trained on another task or with another architecture (e.g. initializing a BertForSequenceClassification model from a BertForPreTraining model).\n",
      "- This IS NOT expected if you are initializing RobertaModel from the checkpoint of a model that you expect to be exactly identical (initializing a BertForSequenceClassification model from a BertForSequenceClassification model).\n"
     ]
    },
    {
     "name": "stdout",
     "output_type": "stream",
     "text": [
      "beta_kl: 0.02 | total_loss: 90.71 | mmd: 0.00 | elbo: -90.71 | distortion: 90.70 | kl_prior_post: 0.02 | mean_mean: 0.00 | std_across_x_mean: 0.01 | std_across_z_mean: 0.01 | mean_scale: 0.99 | std_across_x_scale: 0.00 | std_across_z_scale: 0.00 | \n",
      "ptb BETA-VAE beta 1 dec: Weak-M roBERTa\n"
     ]
    },
    {
     "name": "stderr",
     "output_type": "stream",
     "text": [
      "Some weights of the model checkpoint at distilroberta-base were not used when initializing RobertaModel: ['lm_head.layer_norm.weight', 'lm_head.layer_norm.bias', 'lm_head.dense.bias', 'lm_head.dense.weight', 'lm_head.decoder.weight', 'lm_head.bias']\n",
      "- This IS expected if you are initializing RobertaModel from the checkpoint of a model trained on another task or with another architecture (e.g. initializing a BertForSequenceClassification model from a BertForPreTraining model).\n",
      "- This IS NOT expected if you are initializing RobertaModel from the checkpoint of a model that you expect to be exactly identical (initializing a BertForSequenceClassification model from a BertForSequenceClassification model).\n",
      "Some weights of the model checkpoint at distilroberta-base were not used when initializing RobertaModel: ['lm_head.layer_norm.weight', 'lm_head.layer_norm.bias', 'lm_head.dense.bias', 'lm_head.dense.weight', 'lm_head.decoder.weight', 'lm_head.bias']\n",
      "- This IS expected if you are initializing RobertaModel from the checkpoint of a model trained on another task or with another architecture (e.g. initializing a BertForSequenceClassification model from a BertForPreTraining model).\n",
      "- This IS NOT expected if you are initializing RobertaModel from the checkpoint of a model that you expect to be exactly identical (initializing a BertForSequenceClassification model from a BertForSequenceClassification model).\n"
     ]
    },
    {
     "name": "stdout",
     "output_type": "stream",
     "text": [
      "log_p_l_z: -4.21 | log_p_x_z (without l): -147.61 | beta_kl: 3.90 | total_loss: 155.72 | mmd: 0.00 | elbo: -155.72 | distortion: 151.82 | kl_prior_post: 3.90 | mean_mean: -0.00 | std_across_x_mean: 0.07 | std_across_z_mean: 0.15 | mean_scale: 0.98 | std_across_x_scale: 0.01 | std_across_z_scale: 0.10 | \n",
      "ptb BETA-VAE beta 0.5 dec: Weak-M roBERTa\n"
     ]
    },
    {
     "name": "stderr",
     "output_type": "stream",
     "text": [
      "Some weights of the model checkpoint at distilroberta-base were not used when initializing RobertaModel: ['lm_head.layer_norm.weight', 'lm_head.layer_norm.bias', 'lm_head.dense.bias', 'lm_head.dense.weight', 'lm_head.decoder.weight', 'lm_head.bias']\n",
      "- This IS expected if you are initializing RobertaModel from the checkpoint of a model trained on another task or with another architecture (e.g. initializing a BertForSequenceClassification model from a BertForPreTraining model).\n",
      "- This IS NOT expected if you are initializing RobertaModel from the checkpoint of a model that you expect to be exactly identical (initializing a BertForSequenceClassification model from a BertForSequenceClassification model).\n",
      "Some weights of the model checkpoint at distilroberta-base were not used when initializing RobertaModel: ['lm_head.layer_norm.weight', 'lm_head.layer_norm.bias', 'lm_head.dense.bias', 'lm_head.dense.weight', 'lm_head.decoder.weight', 'lm_head.bias']\n",
      "- This IS expected if you are initializing RobertaModel from the checkpoint of a model trained on another task or with another architecture (e.g. initializing a BertForSequenceClassification model from a BertForPreTraining model).\n",
      "- This IS NOT expected if you are initializing RobertaModel from the checkpoint of a model that you expect to be exactly identical (initializing a BertForSequenceClassification model from a BertForSequenceClassification model).\n"
     ]
    },
    {
     "name": "stdout",
     "output_type": "stream",
     "text": [
      "log_p_l_z: -4.18 | log_p_x_z (without l): -140.51 | beta_kl: 4.49 | total_loss: 149.18 | mmd: 0.00 | elbo: -153.67 | distortion: 144.69 | kl_prior_post: 8.98 | mean_mean: -0.01 | std_across_x_mean: 0.06 | std_across_z_mean: 0.20 | mean_scale: 0.97 | std_across_x_scale: 0.01 | std_across_z_scale: 0.16 | \n",
      "ptb BETA-VAE beta 0.5 dec: Strong roBERTa\n"
     ]
    },
    {
     "name": "stderr",
     "output_type": "stream",
     "text": [
      "Some weights of the model checkpoint at distilroberta-base were not used when initializing RobertaModel: ['lm_head.layer_norm.weight', 'lm_head.layer_norm.bias', 'lm_head.dense.bias', 'lm_head.dense.weight', 'lm_head.decoder.weight', 'lm_head.bias']\n",
      "- This IS expected if you are initializing RobertaModel from the checkpoint of a model trained on another task or with another architecture (e.g. initializing a BertForSequenceClassification model from a BertForPreTraining model).\n",
      "- This IS NOT expected if you are initializing RobertaModel from the checkpoint of a model that you expect to be exactly identical (initializing a BertForSequenceClassification model from a BertForSequenceClassification model).\n",
      "Some weights of the model checkpoint at distilroberta-base were not used when initializing RobertaModel: ['lm_head.layer_norm.weight', 'lm_head.layer_norm.bias', 'lm_head.dense.bias', 'lm_head.dense.weight', 'lm_head.decoder.weight', 'lm_head.bias']\n",
      "- This IS expected if you are initializing RobertaModel from the checkpoint of a model trained on another task or with another architecture (e.g. initializing a BertForSequenceClassification model from a BertForPreTraining model).\n",
      "- This IS NOT expected if you are initializing RobertaModel from the checkpoint of a model that you expect to be exactly identical (initializing a BertForSequenceClassification model from a BertForSequenceClassification model).\n"
     ]
    },
    {
     "name": "stdout",
     "output_type": "stream",
     "text": [
      "beta_kl: 1.06 | total_loss: 90.38 | mmd: 0.00 | elbo: -91.44 | distortion: 89.32 | kl_prior_post: 2.12 | mean_mean: -0.00 | std_across_x_mean: 0.13 | std_across_z_mean: 0.16 | mean_scale: 0.98 | std_across_x_scale: 0.02 | std_across_z_scale: 0.04 | \n",
      "ptb BETA-VAE beta 0.1 dec: Strong roBERTa\n"
     ]
    },
    {
     "name": "stderr",
     "output_type": "stream",
     "text": [
      "Some weights of the model checkpoint at distilroberta-base were not used when initializing RobertaModel: ['lm_head.layer_norm.weight', 'lm_head.layer_norm.bias', 'lm_head.dense.bias', 'lm_head.dense.weight', 'lm_head.decoder.weight', 'lm_head.bias']\n",
      "- This IS expected if you are initializing RobertaModel from the checkpoint of a model trained on another task or with another architecture (e.g. initializing a BertForSequenceClassification model from a BertForPreTraining model).\n",
      "- This IS NOT expected if you are initializing RobertaModel from the checkpoint of a model that you expect to be exactly identical (initializing a BertForSequenceClassification model from a BertForSequenceClassification model).\n",
      "Some weights of the model checkpoint at distilroberta-base were not used when initializing RobertaModel: ['lm_head.layer_norm.weight', 'lm_head.layer_norm.bias', 'lm_head.dense.bias', 'lm_head.dense.weight', 'lm_head.decoder.weight', 'lm_head.bias']\n",
      "- This IS expected if you are initializing RobertaModel from the checkpoint of a model trained on another task or with another architecture (e.g. initializing a BertForSequenceClassification model from a BertForPreTraining model).\n",
      "- This IS NOT expected if you are initializing RobertaModel from the checkpoint of a model that you expect to be exactly identical (initializing a BertForSequenceClassification model from a BertForSequenceClassification model).\n"
     ]
    },
    {
     "name": "stdout",
     "output_type": "stream",
     "text": [
      "beta_kl: 6.91 | total_loss: 74.56 | mmd: 0.00 | elbo: -136.76 | distortion: 67.65 | kl_prior_post: 69.11 | mean_mean: 0.00 | std_across_x_mean: 0.67 | std_across_z_mean: 0.73 | mean_scale: 0.62 | std_across_x_scale: 0.08 | std_across_z_scale: 0.19 | \n",
      "ptb BETA-VAE beta 0 dec: Strong roBERTa\n"
     ]
    },
    {
     "name": "stderr",
     "output_type": "stream",
     "text": [
      "Some weights of the model checkpoint at distilroberta-base were not used when initializing RobertaModel: ['lm_head.layer_norm.weight', 'lm_head.layer_norm.bias', 'lm_head.dense.bias', 'lm_head.dense.weight', 'lm_head.decoder.weight', 'lm_head.bias']\n",
      "- This IS expected if you are initializing RobertaModel from the checkpoint of a model trained on another task or with another architecture (e.g. initializing a BertForSequenceClassification model from a BertForPreTraining model).\n",
      "- This IS NOT expected if you are initializing RobertaModel from the checkpoint of a model that you expect to be exactly identical (initializing a BertForSequenceClassification model from a BertForSequenceClassification model).\n",
      "Some weights of the model checkpoint at distilroberta-base were not used when initializing RobertaModel: ['lm_head.layer_norm.weight', 'lm_head.layer_norm.bias', 'lm_head.dense.bias', 'lm_head.dense.weight', 'lm_head.decoder.weight', 'lm_head.bias']\n",
      "- This IS expected if you are initializing RobertaModel from the checkpoint of a model trained on another task or with another architecture (e.g. initializing a BertForSequenceClassification model from a BertForPreTraining model).\n",
      "- This IS NOT expected if you are initializing RobertaModel from the checkpoint of a model that you expect to be exactly identical (initializing a BertForSequenceClassification model from a BertForSequenceClassification model).\n"
     ]
    },
    {
     "name": "stdout",
     "output_type": "stream",
     "text": [
      "beta_kl: 0.00 | total_loss: 53.51 | mmd: 0.00 | elbo: -735.47 | distortion: 53.51 | kl_prior_post: 681.95 | mean_mean: -0.03 | std_across_x_mean: 0.58 | std_across_z_mean: 0.69 | mean_scale: 0.01 | std_across_x_scale: 0.01 | std_across_z_scale: 0.00 | \n",
      "ptb BETA-VAE beta 0 dec: Weak-M roBERTa\n"
     ]
    },
    {
     "name": "stderr",
     "output_type": "stream",
     "text": [
      "Some weights of the model checkpoint at distilroberta-base were not used when initializing RobertaModel: ['lm_head.layer_norm.weight', 'lm_head.layer_norm.bias', 'lm_head.dense.bias', 'lm_head.dense.weight', 'lm_head.decoder.weight', 'lm_head.bias']\n",
      "- This IS expected if you are initializing RobertaModel from the checkpoint of a model trained on another task or with another architecture (e.g. initializing a BertForSequenceClassification model from a BertForPreTraining model).\n",
      "- This IS NOT expected if you are initializing RobertaModel from the checkpoint of a model that you expect to be exactly identical (initializing a BertForSequenceClassification model from a BertForSequenceClassification model).\n",
      "Some weights of the model checkpoint at distilroberta-base were not used when initializing RobertaModel: ['lm_head.layer_norm.weight', 'lm_head.layer_norm.bias', 'lm_head.dense.bias', 'lm_head.dense.weight', 'lm_head.decoder.weight', 'lm_head.bias']\n",
      "- This IS expected if you are initializing RobertaModel from the checkpoint of a model trained on another task or with another architecture (e.g. initializing a BertForSequenceClassification model from a BertForPreTraining model).\n",
      "- This IS NOT expected if you are initializing RobertaModel from the checkpoint of a model that you expect to be exactly identical (initializing a BertForSequenceClassification model from a BertForSequenceClassification model).\n"
     ]
    },
    {
     "name": "stdout",
     "output_type": "stream",
     "text": [
      "log_p_l_z: -3.17 | log_p_x_z (without l): -84.56 | beta_kl: 0.00 | total_loss: 87.73 | mmd: 0.00 | elbo: -919.74 | distortion: 87.73 | kl_prior_post: 832.01 | mean_mean: -0.00 | std_across_x_mean: 0.63 | std_across_z_mean: 0.84 | mean_scale: 0.00 | std_across_x_scale: 0.01 | std_across_z_scale: 0.00 | \n",
      "ptb BETA-VAE beta 0.1 dec: Weak-M roBERTa\n"
     ]
    },
    {
     "name": "stderr",
     "output_type": "stream",
     "text": [
      "Some weights of the model checkpoint at distilroberta-base were not used when initializing RobertaModel: ['lm_head.layer_norm.weight', 'lm_head.layer_norm.bias', 'lm_head.dense.bias', 'lm_head.dense.weight', 'lm_head.decoder.weight', 'lm_head.bias']\n",
      "- This IS expected if you are initializing RobertaModel from the checkpoint of a model trained on another task or with another architecture (e.g. initializing a BertForSequenceClassification model from a BertForPreTraining model).\n",
      "- This IS NOT expected if you are initializing RobertaModel from the checkpoint of a model that you expect to be exactly identical (initializing a BertForSequenceClassification model from a BertForSequenceClassification model).\n",
      "Some weights of the model checkpoint at distilroberta-base were not used when initializing RobertaModel: ['lm_head.layer_norm.weight', 'lm_head.layer_norm.bias', 'lm_head.dense.bias', 'lm_head.dense.weight', 'lm_head.decoder.weight', 'lm_head.bias']\n",
      "- This IS expected if you are initializing RobertaModel from the checkpoint of a model trained on another task or with another architecture (e.g. initializing a BertForSequenceClassification model from a BertForPreTraining model).\n",
      "- This IS NOT expected if you are initializing RobertaModel from the checkpoint of a model that you expect to be exactly identical (initializing a BertForSequenceClassification model from a BertForSequenceClassification model).\n"
     ]
    },
    {
     "name": "stdout",
     "output_type": "stream",
     "text": [
      "log_p_l_z: -3.96 | log_p_x_z (without l): -116.16 | beta_kl: 4.90 | total_loss: 125.02 | mmd: 0.00 | elbo: -169.15 | distortion: 120.12 | kl_prior_post: 49.03 | mean_mean: 0.01 | std_across_x_mean: 0.38 | std_across_z_mean: 0.51 | mean_scale: 0.80 | std_across_x_scale: 0.04 | std_across_z_scale: 0.29 | \n",
      " 9/10\r"
     ]
    }
   ],
   "source": [
    "all_conditional_samples = dict()\n",
    "# all_conditional_samples = torch.load(\"all_conditional_samples_so_far.pt\")\n",
    "\n",
    "for clean_name, row in overview_df.iterrows():\n",
    "    print(clean_name)\n",
    "    \n",
    "    if clean_name in all_conditional_samples:\n",
    "        continue\n",
    "    \n",
    "    checkpoint_path = f\"{CHECKPOINT_DIR}/{row.run_name}.pt\"\n",
    "    \n",
    "    vae_model = load_checkpoint_model_for_eval(checkpoint_path, \n",
    "                                               map_location=DEVICE, \n",
    "                                               return_args=False).to(DEVICE)\n",
    "    \n",
    "    if \"ptb\" in clean_name:\n",
    "        data_loader = all_loaders[\"ptb\"]\n",
    "    else:\n",
    "        data_loader = all_loaders[\"yahoo\"]\n",
    "    \n",
    "    all_conditional_samples[clean_name] = []\n",
    "        \n",
    "    for i, (input_ids, attention_mask) in enumerate(data_loader):\n",
    "        print(f\"{i:2d}/{len(data_loader)}\", end=\"\\r\")\n",
    "\n",
    "        x_in = (input_ids.to(DEVICE), attention_mask.to(DEVICE))\n",
    "        \n",
    "        with torch.no_grad():\n",
    "            _, z_post = vae_model.inf_model(x_in=x_in, n_samples=1)\n",
    "\n",
    "            # Conditional sampling\n",
    "            # [Sx, Sz, B, L] -> [B, L]\n",
    "            conditional_sample_x = vae_model.gen_model.sample_generative_model(z=z_post,\n",
    "                                                                               Sx=1, Sz=1, return_z=False,\n",
    "                                                                               device=DEVICE).squeeze(0).squeeze(0)\n",
    "\n",
    "        all_conditional_samples[clean_name].append(conditional_sample_x)\n",
    "\n",
    "    all_conditional_samples[clean_name] = torch.cat(all_conditional_samples[clean_name]).cpu()\n",
    "        \n",
    "        \n"
   ]
  },
  {
   "cell_type": "code",
   "execution_count": 9,
   "metadata": {},
   "outputs": [],
   "source": [
    "torch.save(all_conditional_samples, \"all_conditional_samples_so_far.pt\")       "
   ]
  },
  {
   "cell_type": "code",
   "execution_count": 12,
   "metadata": {},
   "outputs": [
    {
     "name": "stdout",
     "output_type": "stream",
     "text": [
      "0 yahoo_answer | drop-0.25 | BETA-VAE beta 0.5 dec: Strong roBERTa\n",
      "1 yahoo_answer | drop-1 | BETA-VAE beta 0.1 dec: Strong roBERTa\n",
      "2 yahoo_answer | drop-0.75 | BETA-VAE beta 0.1 dec: Strong roBERTa\n",
      "3 yahoo_answer | drop-0.5 | BETA-VAE beta 0.1 dec: Strong roBERTa\n",
      "4 yahoo_answer | drop-0.25 | BETA-VAE beta 0.1 dec: Strong roBERTa\n",
      "5 yahoo_answer | drop-1 | BETA-VAE beta 0 dec: Strong roBERTa\n",
      "6 yahoo_answer | drop-0.75 | BETA-VAE beta 0 dec: Strong roBERTa\n",
      "7 yahoo_answer | drop-0.5 | BETA-VAE beta 0 dec: Strong roBERTa\n",
      "8 yahoo_answer | drop-0.25 | BETA-VAE beta 0 dec: Strong roBERTa\n",
      "9 yahoo_answer | drop-1 | BETA-VAE beta 1 dec: Strong roBERTa\n",
      "10 yahoo_answer | drop-0.75 | BETA-VAE beta 1 dec: Strong roBERTa\n",
      "11 yahoo_answer | drop-0.5 | BETA-VAE beta 1 dec: Strong roBERTa\n",
      "12 yahoo_answer | drop-0.25 | BETA-VAE beta 1 dec: Strong roBERTa\n",
      "13 yahoo_answer | drop-1 | BETA-VAE beta 0.5 dec: Strong roBERTa\n",
      "14 yahoo_answer | drop-0.75 | BETA-VAE beta 0.5 dec: Strong roBERTa\n",
      "15 yahoo_answer | drop-0.5 | BETA-VAE beta 0.5 dec: Strong roBERTa\n",
      "16 yahoo_answer BETA-VAE beta 1.5 dec: Strong roBERTa\n",
      "17 yahoo_answer BETA-VAE beta 1 dec: Strong roBERTa\n",
      "18 yahoo_answer BETA-VAE beta 1.5 dec: Weak-M roBERTa\n",
      "19 yahoo_answer BETA-VAE beta 1 dec: Weak-M roBERTa\n",
      "20 yahoo_answer BETA-VAE beta 0.5 dec: Strong roBERTa\n",
      "21 yahoo_answer BETA-VAE beta 0.5 dec: Weak-M roBERTa\n",
      "22 yahoo_answer BETA-VAE beta 0.1 dec: Strong roBERTa\n",
      "23 yahoo_answer BETA-VAE beta 0.1 dec: Weak-M roBERTa\n",
      "24 yahoo_answer BETA-VAE beta 0 dec: Strong roBERTa\n",
      "25 yahoo_answer BETA-VAE beta 0 dec: Weak-M roBERTa\n",
      "26 ptb BETA-VAE beta 1.5 dec: Strong roBERTa\n",
      "27 ptb BETA-VAE beta 1.5 dec: Weak-M roBERTa\n",
      "28 ptb BETA-VAE beta 1 dec: Strong roBERTa\n",
      "29 ptb BETA-VAE beta 1 dec: Weak-M roBERTa\n",
      "30 ptb BETA-VAE beta 0.5 dec: Weak-M roBERTa\n",
      "31 ptb BETA-VAE beta 0.5 dec: Strong roBERTa\n",
      "32 ptb BETA-VAE beta 0.1 dec: Strong roBERTa\n",
      "33 ptb BETA-VAE beta 0 dec: Strong roBERTa\n",
      "34 ptb BETA-VAE beta 0 dec: Weak-M roBERTa\n",
      "35 ptb BETA-VAE beta 0.1 dec: Weak-M roBERTa\n"
     ]
    }
   ],
   "source": [
    "import os\n",
    "import torch\n",
    "\n",
    "max_samples = -1\n",
    "\n",
    "all_unconditional_samples = dict()\n",
    "\n",
    "for i, (clean_name, row) in enumerate(overview_df.iterrows()):\n",
    "    print(i, clean_name)\n",
    "    \n",
    "    save_dir = f\"{ANALYSIS_DIR}/{row.run_name}\"\n",
    "    sample_file = f\"{save_dir}/{SAMPLE_FILE}\"\n",
    "    \n",
    "    if os.path.exists(sample_file):\n",
    "        samples = torch.load(sample_file)\n",
    "        all_unconditional_samples[clean_name] = samples[\"x\"]"
   ]
  },
  {
   "cell_type": "code",
   "execution_count": null,
   "metadata": {},
   "outputs": [],
   "source": []
  },
  {
   "cell_type": "code",
   "execution_count": 17,
   "metadata": {},
   "outputs": [
    {
     "name": "stdout",
     "output_type": "stream",
     "text": [
      "yahoo_answer | drop-0.25 | BETA-VAE beta 0.5 dec: Strong roBERTa\n",
      "torch.Size([2000, 62]) torch.Size([2000, 62])\n",
      "2000 2000\n",
      "yahoo_answer | drop-1 | BETA-VAE beta 0.1 dec: Strong roBERTa\n",
      "torch.Size([2000, 62]) torch.Size([2000, 62])\n",
      "2000 2000\n",
      "yahoo_answer | drop-0.75 | BETA-VAE beta 0.1 dec: Strong roBERTa\n",
      "torch.Size([2000, 62]) torch.Size([2000, 62])\n",
      "2000 2000\n",
      "yahoo_answer | drop-0.5 | BETA-VAE beta 0.1 dec: Strong roBERTa\n",
      "torch.Size([2000, 62]) torch.Size([2000, 62])\n",
      "2000 2000\n",
      "yahoo_answer | drop-0.25 | BETA-VAE beta 0.1 dec: Strong roBERTa\n",
      "torch.Size([2000, 62]) torch.Size([2000, 62])\n",
      "2000 2000\n",
      "yahoo_answer | drop-1 | BETA-VAE beta 0 dec: Strong roBERTa\n",
      "torch.Size([2000, 62]) torch.Size([2000, 62])\n",
      "2000 2000\n",
      "yahoo_answer | drop-0.75 | BETA-VAE beta 0 dec: Strong roBERTa\n",
      "torch.Size([2000, 62]) torch.Size([2000, 62])\n",
      "2000 2000\n",
      "yahoo_answer | drop-0.5 | BETA-VAE beta 0 dec: Strong roBERTa\n",
      "torch.Size([2000, 62]) torch.Size([2000, 62])\n",
      "2000 2000\n",
      "yahoo_answer | drop-0.25 | BETA-VAE beta 0 dec: Strong roBERTa\n",
      "torch.Size([2000, 62]) torch.Size([2000, 62])\n",
      "2000 2000\n",
      "yahoo_answer | drop-1 | BETA-VAE beta 1 dec: Strong roBERTa\n",
      "torch.Size([2000, 62]) torch.Size([2000, 62])\n",
      "2000 2000\n",
      "yahoo_answer | drop-0.75 | BETA-VAE beta 1 dec: Strong roBERTa\n",
      "torch.Size([2000, 62]) torch.Size([2000, 62])\n",
      "2000 2000\n",
      "yahoo_answer | drop-0.5 | BETA-VAE beta 1 dec: Strong roBERTa\n",
      "torch.Size([2000, 62]) torch.Size([2000, 62])\n",
      "2000 2000\n",
      "yahoo_answer | drop-0.25 | BETA-VAE beta 1 dec: Strong roBERTa\n",
      "torch.Size([2000, 62]) torch.Size([2000, 62])\n",
      "2000 2000\n",
      "yahoo_answer | drop-1 | BETA-VAE beta 0.5 dec: Strong roBERTa\n",
      "torch.Size([2000, 62]) torch.Size([2000, 62])\n",
      "2000 2000\n",
      "yahoo_answer | drop-0.75 | BETA-VAE beta 0.5 dec: Strong roBERTa\n",
      "torch.Size([2000, 62]) torch.Size([2000, 62])\n",
      "2000 2000\n",
      "yahoo_answer | drop-0.5 | BETA-VAE beta 0.5 dec: Strong roBERTa\n",
      "torch.Size([2000, 62]) torch.Size([2000, 62])\n",
      "2000 2000\n",
      "yahoo_answer BETA-VAE beta 1.5 dec: Strong roBERTa\n",
      "torch.Size([2000, 62]) torch.Size([2000, 62])\n",
      "2000 2000\n",
      "yahoo_answer BETA-VAE beta 1 dec: Strong roBERTa\n",
      "torch.Size([2000, 62]) torch.Size([2000, 62])\n",
      "2000 2000\n",
      "yahoo_answer BETA-VAE beta 1.5 dec: Weak-M roBERTa\n",
      "torch.Size([2000, 62]) torch.Size([2000, 62])\n",
      "2000 2000\n",
      "yahoo_answer BETA-VAE beta 1 dec: Weak-M roBERTa\n",
      "torch.Size([2000, 62]) torch.Size([2000, 62])\n",
      "2000 2000\n",
      "yahoo_answer BETA-VAE beta 0.5 dec: Strong roBERTa\n",
      "torch.Size([2000, 62]) torch.Size([2000, 62])\n",
      "2000 2000\n",
      "yahoo_answer BETA-VAE beta 0.5 dec: Weak-M roBERTa\n",
      "torch.Size([2000, 62]) torch.Size([2000, 62])\n",
      "2000 2000\n",
      "yahoo_answer BETA-VAE beta 0.1 dec: Strong roBERTa\n",
      "torch.Size([2000, 62]) torch.Size([2000, 62])\n",
      "2000 2000\n",
      "yahoo_answer BETA-VAE beta 0.1 dec: Weak-M roBERTa\n",
      "torch.Size([2000, 62]) torch.Size([2000, 62])\n",
      "2000 2000\n",
      "yahoo_answer BETA-VAE beta 0 dec: Strong roBERTa\n",
      "torch.Size([2000, 62]) torch.Size([2000, 62])\n",
      "2000 2000\n",
      "yahoo_answer BETA-VAE beta 0 dec: Weak-M roBERTa\n",
      "torch.Size([2000, 62]) torch.Size([2000, 62])\n",
      "2000 2000\n",
      "ptb BETA-VAE beta 1.5 dec: Strong roBERTa\n",
      "torch.Size([2000, 62]) torch.Size([2000, 62])\n",
      "2000 2000\n",
      "ptb BETA-VAE beta 1.5 dec: Weak-M roBERTa\n",
      "torch.Size([2000, 62]) torch.Size([2000, 62])\n",
      "2000 2000\n",
      "ptb BETA-VAE beta 1 dec: Strong roBERTa\n",
      "torch.Size([2000, 62]) torch.Size([2000, 62])\n",
      "2000 2000\n",
      "ptb BETA-VAE beta 1 dec: Weak-M roBERTa\n",
      "torch.Size([2000, 62]) torch.Size([2000, 62])\n",
      "2000 2000\n",
      "ptb BETA-VAE beta 0.5 dec: Weak-M roBERTa\n",
      "torch.Size([2000, 62]) torch.Size([2000, 62])\n",
      "2000 2000\n",
      "ptb BETA-VAE beta 0.5 dec: Strong roBERTa\n",
      "torch.Size([2000, 62]) torch.Size([2000, 62])\n",
      "2000 2000\n",
      "ptb BETA-VAE beta 0.1 dec: Strong roBERTa\n",
      "torch.Size([2000, 62]) torch.Size([2000, 62])\n",
      "2000 2000\n",
      "ptb BETA-VAE beta 0 dec: Strong roBERTa\n",
      "torch.Size([2000, 62]) torch.Size([2000, 62])\n",
      "2000 2000\n",
      "ptb BETA-VAE beta 0 dec: Weak-M roBERTa\n",
      "torch.Size([2000, 62]) torch.Size([2000, 62])\n",
      "2000 2000\n",
      "ptb BETA-VAE beta 0.1 dec: Weak-M roBERTa\n",
      "torch.Size([2000, 62]) torch.Size([2000, 62])\n",
      "2000 2000\n"
     ]
    }
   ],
   "source": [
    "all_model_sample_lens = dict(ptb=dict(), yahoo_answer=dict())\n",
    "\n",
    "model_names = list(all_conditional_samples.keys())\n",
    "\n",
    "for model_name in model_names:\n",
    "    print(model_name)\n",
    "    \n",
    "    unconditional_samples = all_unconditional_samples[model_name][:N_UNCONDITIONAL_SAMPLES]\n",
    "    conditional_samples = all_conditional_samples[model_name]\n",
    "    \n",
    "    # to avoid lens > 62 only get the reasonable predictions\n",
    "    if \"weak\" in model_name.lower():\n",
    "        unconditional_samples = unconditional_samples[:, 1:-1]\n",
    "        conditional_samples = conditional_samples[:, 1:-1]\n",
    "    else:\n",
    "        unconditional_samples = unconditional_samples[:, :-1]\n",
    "        conditional_samples = conditional_samples[:, :-1]\n",
    "    \n",
    "    print(conditional_samples.shape, unconditional_samples.shape)\n",
    "    \n",
    "    unconditional_lens = get_length_of_chunk(unconditional_samples, remove_start=False)\n",
    "    conditional_lens = get_length_of_chunk(conditional_samples, remove_start=True)\n",
    "    \n",
    "    print(len(conditional_lens), len(unconditional_lens))\n",
    "    \n",
    "    if \"ptb\" in model_name.lower():\n",
    "        all_model_sample_lens[\"ptb\"][model_name] = dict(valid_conditional=conditional_lens, unconditional=unconditional_lens)\n",
    "    else:\n",
    "        all_model_sample_lens[\"yahoo_answer\"][model_name] = dict(valid_conditional=conditional_lens, unconditional=unconditional_lens)"
   ]
  },
  {
   "cell_type": "code",
   "execution_count": 23,
   "metadata": {},
   "outputs": [],
   "source": [
    "all_lens = {\n",
    "    \"ptb\": {\n",
    "        \"data_group\": dict(train=ptb_train_lens, valid=ptb_valid_lens),\n",
    "        \"model_groups\": all_model_sample_lens[\"ptb\"]},\n",
    "    \"yahoo_answer\": {\n",
    "        \"data_group\": dict(train=yahoo_train_lens, valid=yahoo_valid_lens),\n",
    "        \"model_groups\": all_model_sample_lens[\"yahoo_answer\"]}\n",
    "}\n",
    "torch.save(all_lens, \"length_analysis_data.pt\")"
   ]
  }
 ],
 "metadata": {
  "kernelspec": {
   "display_name": "thesisenv",
   "language": "python",
   "name": "thesisenv"
  },
  "language_info": {
   "codemirror_mode": {
    "name": "ipython",
    "version": 3
   },
   "file_extension": ".py",
   "mimetype": "text/x-python",
   "name": "python",
   "nbconvert_exporter": "python",
   "pygments_lexer": "ipython3",
   "version": "3.6.12"
  }
 },
 "nbformat": 4,
 "nbformat_minor": 2
}
