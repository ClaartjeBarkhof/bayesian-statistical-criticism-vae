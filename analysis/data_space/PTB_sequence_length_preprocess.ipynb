{
 "cells": [
  {
   "cell_type": "code",
   "execution_count": 1,
   "metadata": {},
   "outputs": [],
   "source": [
    "CODE_DIR = \"/home/cbarkhof/fall-2021\"\n",
    "import sys\n",
    "sys.path.append(CODE_DIR)"
   ]
  },
  {
   "cell_type": "code",
   "execution_count": 9,
   "metadata": {},
   "outputs": [],
   "source": [
    "import os\n",
    "import torch\n",
    "import pandas as pd\n",
    "\n",
    "from dataset_dataloader import get_n_data_samples_x_y\n",
    "from analysis_run_postprocessing.general_postprocessing_steps import make_run_overview_df"
   ]
  },
  {
   "cell_type": "code",
   "execution_count": 3,
   "metadata": {},
   "outputs": [],
   "source": [
    "N_LENGTHS = 2000\n",
    "\n",
    "EXPORT_DIR = f\"{CODE_DIR}/analysis_run_postprocessing/run_postprocess_files\"\n",
    "CHECKPOINT_DIR = f\"{CODE_DIR}/run_files/checkpoints\"\n",
    "\n",
    "SAMPLE_FILE = f\"generative-samples.pt\"\n",
    "CONDITIONAL_SAMPLE_FILE = f\"generative-conditional-samples.pt\"\n",
    "ENCODING_FILE = \"encodings.pt\"\n",
    "\n",
    "EVALUATION_RESULT_FILE = \"evaluation-results.pt\"\n",
    "SURPRISAL_DATA_FILE = \"surprisal_data.pt\"\n",
    "\n",
    "DEVICE = \"cuda:0\""
   ]
  },
  {
   "cell_type": "code",
   "execution_count": 4,
   "metadata": {},
   "outputs": [
    {
     "name": "stdout",
     "output_type": "stream",
     "text": [
      "Is file!\n",
      "train 42068\n",
      "validation 3370\n",
      "test 3761\n",
      "Returns concatted input_ids, attention_masks tensors\n",
      "Is file!\n",
      "train 42068\n",
      "validation 3370\n",
      "test 3761\n",
      "Returns concatted input_ids, attention_masks tensors\n"
     ]
    }
   ],
   "source": [
    "# ---------------------------------\n",
    "# PTB\n",
    "ptb_train_inputs, ptb_train_atts = get_n_data_samples_x_y(\n",
    "    language_dataset_name=\"ptb\",\n",
    "    image_or_language=\"language\", \n",
    "    shuffle=False,\n",
    "    N_samples=N_LENGTHS, \n",
    "    phase=\"train\")\n",
    "\n",
    "ptb_valid_inputs, ptb_valid_atts = get_n_data_samples_x_y(\n",
    "    language_dataset_name=\"ptb\",\n",
    "    image_or_language=\"language\", \n",
    "    shuffle=False,\n",
    "    N_samples=2560, #  <-- SET TO 2560\n",
    "    phase=\"valid\")"
   ]
  },
  {
   "cell_type": "code",
   "execution_count": 5,
   "metadata": {},
   "outputs": [],
   "source": [
    "def get_length_of_chunk(chunk, eos_token_id=2, bos_token=0, remove_start=False):\n",
    "    # Get length without start and end token (so index(eos) = length)\n",
    "    \n",
    "    lens = []\n",
    "    for s_i in chunk.tolist():\n",
    "        # if it is a weak decoder, the start token needs to be cut-off as well (if predicted)\n",
    "        if s_i[0] == bos_token and remove_start:\n",
    "            s_i = s_i[1:]\n",
    "        length = s_i.index(eos_token_id) if eos_token_id in s_i else len(s_i)\n",
    "        lens.append(length)\n",
    "    return lens"
   ]
  },
  {
   "cell_type": "code",
   "execution_count": 6,
   "metadata": {},
   "outputs": [],
   "source": [
    "ptb_valid_lens = get_length_of_chunk(ptb_valid_inputs, remove_start=True)\n",
    "ptb_train_lens = get_length_of_chunk(ptb_train_inputs, remove_start=True)"
   ]
  },
  {
   "cell_type": "code",
   "execution_count": 7,
   "metadata": {},
   "outputs": [
    {
     "name": "stdout",
     "output_type": "stream",
     "text": [
      "1 62\n",
      "1 62\n"
     ]
    },
    {
     "data": {
      "image/png": "[encoded data removed]",
      "text/plain": [
       "<Figure size 432x288 with 1 Axes>"
      ]
     },
     "metadata": {
      "needs_background": "light"
     },
     "output_type": "display_data"
    },
    {
     "name": "stdout",
     "output_type": "stream",
     "text": [
      "2560 2560\n",
      "2000 2000\n"
     ]
    }
   ],
   "source": [
    "import matplotlib.pyplot as plt\n",
    "%matplotlib inline\n",
    "\n",
    "print(min(ptb_valid_lens), max(ptb_valid_lens))\n",
    "print(min(ptb_train_lens), max(ptb_train_lens))\n",
    "plt.hist(ptb_valid_lens, bins=62, alpha=0.6, label=\"valid\", density=True)\n",
    "plt.hist(ptb_train_lens, bins=62, alpha=0.6, label=\"train\", density=True)\n",
    "plt.legend()\n",
    "plt.show()\n",
    "\n",
    "print(len(ptb_valid_lens), len(ptb_valid_inputs))\n",
    "print(len(ptb_train_lens), len(ptb_train_inputs))"
   ]
  },
  {
   "cell_type": "code",
   "execution_count": 11,
   "metadata": {},
   "outputs": [
    {
     "data": {
      "text/html": [
       "<div>\n",
       "<style scoped>\n",
       "    .dataframe tbody tr th:only-of-type {\n",
       "        vertical-align: middle;\n",
       "    }\n",
       "\n",
       "    .dataframe tbody tr th {\n",
       "        vertical-align: top;\n",
       "    }\n",
       "\n",
       "    .dataframe thead th {\n",
       "        text-align: right;\n",
       "    }\n",
       "</style>\n",
       "<table border=\"1\" class=\"dataframe\">\n",
       "  <thead>\n",
       "    <tr style=\"text-align: right;\">\n",
       "      <th></th>\n",
       "      <th>objective</th>\n",
       "      <th>l_rate</th>\n",
       "      <th>dataset</th>\n",
       "      <th>image_or_language</th>\n",
       "      <th>beta_beta</th>\n",
       "      <th>free_bits</th>\n",
       "      <th>mdr_value</th>\n",
       "      <th>l_mmd</th>\n",
       "      <th>decoder</th>\n",
       "      <th>run_name</th>\n",
       "    </tr>\n",
       "  </thead>\n",
       "  <tbody>\n",
       "    <tr>\n",
       "      <th>INFO-VAE l_Rate 0.1 l_MMD 1 dec: Strong roBERTa</th>\n",
       "      <td>INFO-VAE</td>\n",
       "      <td>0.1</td>\n",
       "      <td>ptb</td>\n",
       "      <td>language</td>\n",
       "      <td>0.0</td>\n",
       "      <td>0</td>\n",
       "      <td>0</td>\n",
       "      <td>1</td>\n",
       "      <td>strong_distil_roberta_decoder</td>\n",
       "      <td>(5-jan ptb-test) INFO-VAE[l_1_rate=0.1, l_2_mm...</td>\n",
       "    </tr>\n",
       "    <tr>\n",
       "      <th>INFO-VAE l_Rate 0.1 l_MMD 10 dec: Strong roBERTa</th>\n",
       "      <td>INFO-VAE</td>\n",
       "      <td>0.1</td>\n",
       "      <td>ptb</td>\n",
       "      <td>language</td>\n",
       "      <td>0.0</td>\n",
       "      <td>0</td>\n",
       "      <td>0</td>\n",
       "      <td>10</td>\n",
       "      <td>strong_distil_roberta_decoder</td>\n",
       "      <td>(5-jan ptb-test) INFO-VAE[l_1_rate=0.1, l_2_mm...</td>\n",
       "    </tr>\n",
       "    <tr>\n",
       "      <th>INFO-VAE l_Rate 0.1 l_MMD 100 dec: Strong roBERTa</th>\n",
       "      <td>INFO-VAE</td>\n",
       "      <td>0.1</td>\n",
       "      <td>ptb</td>\n",
       "      <td>language</td>\n",
       "      <td>0.0</td>\n",
       "      <td>0</td>\n",
       "      <td>0</td>\n",
       "      <td>100</td>\n",
       "      <td>strong_distil_roberta_decoder</td>\n",
       "      <td>(5-jan ptb-test) INFO-VAE[l_1_rate=0.1, l_2_mm...</td>\n",
       "    </tr>\n",
       "    <tr>\n",
       "      <th>INFO-VAE l_Rate 0.5 l_MMD 1 dec: Strong roBERTa</th>\n",
       "      <td>INFO-VAE</td>\n",
       "      <td>0.5</td>\n",
       "      <td>ptb</td>\n",
       "      <td>language</td>\n",
       "      <td>0.0</td>\n",
       "      <td>0</td>\n",
       "      <td>0</td>\n",
       "      <td>1</td>\n",
       "      <td>strong_distil_roberta_decoder</td>\n",
       "      <td>(11-jan ptb) INFO-VAE[l_1_rate=0.5, l_2_mmd=1....</td>\n",
       "    </tr>\n",
       "    <tr>\n",
       "      <th>INFO-VAE l_Rate 0.5 l_MMD 10 dec: Strong roBERTa</th>\n",
       "      <td>INFO-VAE</td>\n",
       "      <td>0.5</td>\n",
       "      <td>ptb</td>\n",
       "      <td>language</td>\n",
       "      <td>0.0</td>\n",
       "      <td>0</td>\n",
       "      <td>0</td>\n",
       "      <td>10</td>\n",
       "      <td>strong_distil_roberta_decoder</td>\n",
       "      <td>(11-jan ptb) INFO-VAE[l_1_rate=0.5, l_2_mmd=10...</td>\n",
       "    </tr>\n",
       "  </tbody>\n",
       "</table>\n",
       "</div>"
      ],
      "text/plain": [
       "                                                  objective  l_rate dataset  \\\n",
       "INFO-VAE l_Rate 0.1 l_MMD 1 dec: Strong roBERTa    INFO-VAE     0.1     ptb   \n",
       "INFO-VAE l_Rate 0.1 l_MMD 10 dec: Strong roBERTa   INFO-VAE     0.1     ptb   \n",
       "INFO-VAE l_Rate 0.1 l_MMD 100 dec: Strong roBERTa  INFO-VAE     0.1     ptb   \n",
       "INFO-VAE l_Rate 0.5 l_MMD 1 dec: Strong roBERTa    INFO-VAE     0.5     ptb   \n",
       "INFO-VAE l_Rate 0.5 l_MMD 10 dec: Strong roBERTa   INFO-VAE     0.5     ptb   \n",
       "\n",
       "                                                  image_or_language  \\\n",
       "INFO-VAE l_Rate 0.1 l_MMD 1 dec: Strong roBERTa            language   \n",
       "INFO-VAE l_Rate 0.1 l_MMD 10 dec: Strong roBERTa           language   \n",
       "INFO-VAE l_Rate 0.1 l_MMD 100 dec: Strong roBERTa          language   \n",
       "INFO-VAE l_Rate 0.5 l_MMD 1 dec: Strong roBERTa            language   \n",
       "INFO-VAE l_Rate 0.5 l_MMD 10 dec: Strong roBERTa           language   \n",
       "\n",
       "                                                   beta_beta  free_bits  \\\n",
       "INFO-VAE l_Rate 0.1 l_MMD 1 dec: Strong roBERTa          0.0          0   \n",
       "INFO-VAE l_Rate 0.1 l_MMD 10 dec: Strong roBERTa         0.0          0   \n",
       "INFO-VAE l_Rate 0.1 l_MMD 100 dec: Strong roBERTa        0.0          0   \n",
       "INFO-VAE l_Rate 0.5 l_MMD 1 dec: Strong roBERTa          0.0          0   \n",
       "INFO-VAE l_Rate 0.5 l_MMD 10 dec: Strong roBERTa         0.0          0   \n",
       "\n",
       "                                                   mdr_value  l_mmd  \\\n",
       "INFO-VAE l_Rate 0.1 l_MMD 1 dec: Strong roBERTa            0      1   \n",
       "INFO-VAE l_Rate 0.1 l_MMD 10 dec: Strong roBERTa           0     10   \n",
       "INFO-VAE l_Rate 0.1 l_MMD 100 dec: Strong roBERTa          0    100   \n",
       "INFO-VAE l_Rate 0.5 l_MMD 1 dec: Strong roBERTa            0      1   \n",
       "INFO-VAE l_Rate 0.5 l_MMD 10 dec: Strong roBERTa           0     10   \n",
       "\n",
       "                                                                         decoder  \\\n",
       "INFO-VAE l_Rate 0.1 l_MMD 1 dec: Strong roBERTa    strong_distil_roberta_decoder   \n",
       "INFO-VAE l_Rate 0.1 l_MMD 10 dec: Strong roBERTa   strong_distil_roberta_decoder   \n",
       "INFO-VAE l_Rate 0.1 l_MMD 100 dec: Strong roBERTa  strong_distil_roberta_decoder   \n",
       "INFO-VAE l_Rate 0.5 l_MMD 1 dec: Strong roBERTa    strong_distil_roberta_decoder   \n",
       "INFO-VAE l_Rate 0.5 l_MMD 10 dec: Strong roBERTa   strong_distil_roberta_decoder   \n",
       "\n",
       "                                                                                            run_name  \n",
       "INFO-VAE l_Rate 0.1 l_MMD 1 dec: Strong roBERTa    (5-jan ptb-test) INFO-VAE[l_1_rate=0.1, l_2_mm...  \n",
       "INFO-VAE l_Rate 0.1 l_MMD 10 dec: Strong roBERTa   (5-jan ptb-test) INFO-VAE[l_1_rate=0.1, l_2_mm...  \n",
       "INFO-VAE l_Rate 0.1 l_MMD 100 dec: Strong roBERTa  (5-jan ptb-test) INFO-VAE[l_1_rate=0.1, l_2_mm...  \n",
       "INFO-VAE l_Rate 0.5 l_MMD 1 dec: Strong roBERTa    (11-jan ptb) INFO-VAE[l_1_rate=0.5, l_2_mmd=1....  \n",
       "INFO-VAE l_Rate 0.5 l_MMD 10 dec: Strong roBERTa   (11-jan ptb) INFO-VAE[l_1_rate=0.5, l_2_mmd=10...  "
      ]
     },
     "execution_count": 11,
     "metadata": {},
     "output_type": "execute_result"
    }
   ],
   "source": [
    "run_df = pd.read_csv(\"/home/cbarkhof/fall-2021/analysis/final_selection_runs.csv\", index_col=0)\n",
    "run_df = run_df[run_df.image_or_language == \"language\"]\n",
    "run_df.head()"
   ]
  },
  {
   "cell_type": "code",
   "execution_count": 12,
   "metadata": {
    "scrolled": true
   },
   "outputs": [
    {
     "name": "stdout",
     "output_type": "stream",
     "text": [
      "INFO-VAE l_Rate 0.1 l_MMD 1 dec: Strong roBERTa\n",
      "(5-jan ptb-test) INFO-VAE[l_1_rate=0.1, l_2_mmd=1.0] | STRONG | Nz=32\n",
      "INFO-VAE l_Rate 0.1 l_MMD 10 dec: Strong roBERTa\n",
      "(5-jan ptb-test) INFO-VAE[l_1_rate=0.1, l_2_mmd=10.0] | STRONG | Nz=32\n",
      "INFO-VAE l_Rate 0.1 l_MMD 100 dec: Strong roBERTa\n",
      "(5-jan ptb-test) INFO-VAE[l_1_rate=0.1, l_2_mmd=100.0] | STRONG | Nz=32\n",
      "INFO-VAE l_Rate 0.5 l_MMD 1 dec: Strong roBERTa\n",
      "(11-jan ptb) INFO-VAE[l_1_rate=0.5, l_2_mmd=1.0] | STRONG | Nz=32\n",
      "INFO-VAE l_Rate 0.5 l_MMD 10 dec: Strong roBERTa\n",
      "(11-jan ptb) INFO-VAE[l_1_rate=0.5, l_2_mmd=10.0] | STRONG | Nz=32\n",
      "INFO-VAE l_Rate 0.5 l_MMD 100 dec: Strong roBERTa\n",
      "(11-jan ptb) INFO-VAE[l_1_rate=0.5, l_2_mmd=100.0] | STRONG | Nz=32\n",
      "INFO-VAE l_Rate 1 l_MMD 1 dec: Strong roBERTa\n",
      "(11-jan ptb) INFO-VAE[l_1_rate=1.0, l_2_mmd=1.0] | STRONG | Nz=32\n",
      "INFO-VAE l_Rate 1 l_MMD 10 dec: Strong roBERTa\n",
      "(11-jan ptb) INFO-VAE[l_1_rate=1.0, l_2_mmd=10.0] | STRONG | Nz=32\n",
      "INFO-VAE l_Rate 1 l_MMD 100 dec: Strong roBERTa\n",
      "(11-jan ptb) INFO-VAE[l_1_rate=1.0, l_2_mmd=100.0] | STRONG | Nz=32\n",
      "INFO-VAE l_Rate 2 l_MMD 1 dec: Strong roBERTa\n",
      "(11-jan ptb) INFO-VAE[l_1_rate=2.0, l_2_mmd=1.0] | STRONG | Nz=32\n",
      "INFO-VAE l_Rate 2 l_MMD 10 dec: Strong roBERTa\n",
      "(11-jan ptb) INFO-VAE[l_1_rate=2.0, l_2_mmd=10.0] | STRONG | Nz=32\n",
      "INFO-VAE l_Rate 2 l_MMD 100 dec: Strong roBERTa\n",
      "(11-jan ptb) INFO-VAE[l_1_rate=2.0, l_2_mmd=100.0] | STRONG | Nz=32\n",
      "BETA-VAE beta 0 dec: Strong roBERTa\n",
      "(10-jan ptb) B-VAE[b=0.0] | STRONG | Nz=32\n",
      "BETA-VAE beta 0.25 dec: Strong roBERTa\n",
      "(4-jan ptb-test) B-VAE[b=0.25] | STRONG | Nz=32\n",
      "BETA-VAE beta 0.5 dec: Strong roBERTa\n",
      "(4-jan ptb-test) B-VAE[b=0.5] | STRONG | Nz=32\n",
      "BETA-VAE beta 0.75 dec: Strong roBERTa\n",
      "(4-jan ptb-test) B-VAE[b=0.75] | STRONG | Nz=32\n",
      "BETA-VAE beta 1 dec: Strong roBERTa\n",
      "(4-jan ptb-test) B-VAE[b=1.0] | STRONG | Nz=32\n",
      "BETA-VAE beta 2 dec: Strong roBERTa\n",
      "(10-jan ptb) B-VAE[b=2.0] | STRONG | Nz=32\n",
      "FB-VAE 4 dec: Strong roBERTa\n",
      "(19-jan ptb) FB-VAE[4.0-pd=False] | STRONG | Nz=32\n",
      "FB-VAE 8 dec: Strong roBERTa\n",
      "(19-jan ptb) FB-VAE[8.0-pd=False] | STRONG | Nz=32\n",
      "FB-VAE 16 dec: Strong roBERTa\n",
      "(10-jan ptb) FB-VAE[16.0-pd=False] | STRONG | Nz=32\n",
      "FB-VAE 32 dec: Strong roBERTa\n",
      "(10-jan ptb) FB-VAE[32.0-pd=False] | STRONG | Nz=32\n",
      "FB-VAE 64 dec: Strong roBERTa\n",
      "(10-jan ptb) FB-VAE[64.0-pd=False] | STRONG | Nz=32\n"
     ]
    }
   ],
   "source": [
    "all_samples = dict()\n",
    "\n",
    "for i, (idx, row) in enumerate(run_df.iterrows()):\n",
    "    print(idx)\n",
    "    print(row.run_name)\n",
    "    \n",
    "    save_dir = f\"{EXPORT_DIR}/{row.run_name}\"\n",
    "    conditional_sample_file = f\"{save_dir}/{CONDITIONAL_SAMPLE_FILE}\"\n",
    "    sample_file = f\"{save_dir}/{SAMPLE_FILE}\"\n",
    "    \n",
    "    if not (os.path.exists(conditional_sample_file) or os.path.exists(sample_file)):\n",
    "        print(\"Samples not present for run, skipping\")\n",
    "    \n",
    "    else:\n",
    "        conditional_samples = torch.load(conditional_sample_file)\n",
    "        samples = torch.load(sample_file)\n",
    "        \n",
    "        all_samples[idx] = dict(\n",
    "            condition=conditional_samples[\"valid\"][\"original_input_ids\"].cpu(),\n",
    "            conditional_sample=conditional_samples[\"valid\"][\"cond_sample_x\"].cpu(),\n",
    "            sample=samples[\"x\"].cpu()\n",
    "        )"
   ]
  },
  {
   "cell_type": "code",
   "execution_count": 13,
   "metadata": {},
   "outputs": [
    {
     "name": "stdout",
     "output_type": "stream",
     "text": [
      "strong\n",
      "64 tensor([    0, 10998, 35954,   189,   236,     7,   517,    49,  8327, 15797,\n",
      "           10,   410,  2789,     7,     5, 30016,   278,     2,     1,     1,\n",
      "            1,     1,     1,     1,     1,     1,     1,     1,     1,     1,\n",
      "            1,     1,     1,     1,     1,     1,     1,     1,     1,     1,\n",
      "            1,     1,     1,     1,     1,     1,     1,     1,     1,     1,\n",
      "            1,     1,     1,     1,     1,     1,     1,     1,     1,     1,\n",
      "            1,     1,     1,     1])\n",
      "63 tensor([  281,   444,    25,   385,  4189,   257,    34, 11464,    15,  2396,\n",
      "         1717,     4,    29,     4, 12200, 12143,   181,   506,  6315,   784,\n",
      "         2951,   212,  1253,   102,    16,     5,   471,     9,     5,   109,\n",
      "        11192,  1933,     2,     2,  1278,     5, 22677,     8,   161,    24,\n",
      "         1411,     7,  1437,     3,    98,   705,  5810,  1321,    40,   657,\n",
      "           49, 14063,     7,  1095,    62,   454,  3859,     2,     2,     2,\n",
      "            2,     2,     2])\n",
      "63 tensor([  627,   400,  2225,   128,    29,  1437,     3, 20170, 14410,    15,\n",
      "            5,   527,    15,    10,  1437,     3,  2195,   341,     7,  2592,\n",
      "         4136,  3024,     2,     2,     2,     2,     2,     2,     2,     2,\n",
      "            2,     2,     2,     2,     2,     2,     2,     2,     2,     2,\n",
      "            2,     2,     2,     2,     2,     2,     2,     2,     2,     2,\n",
      "            2,     2,     2,     2,     2,     2,     2,     2,     2,     2,\n",
      "            2,     2,     2])\n"
     ]
    }
   ],
   "source": [
    "print(\"strong\")\n",
    "temp = all_samples[\"INFO-VAE l_Rate 0.5 l_MMD 100 dec: Strong roBERTa\"]\n",
    "print(len(temp[\"condition\"][0]), temp[\"condition\"][0])\n",
    "print(len(temp[\"conditional_sample\"][0]), temp[\"conditional_sample\"][0])\n",
    "print(len(temp[\"sample\"][0]), temp[\"sample\"][0])\n",
    "\n",
    "# print()\n",
    "# print(\"weak\")\n",
    "# temp = all_samples[\"INFO-VAE l_Rate 0.1 l_MMD 1 dec: Weak-M roBERTa\"]\n",
    "# print(len(temp[\"condition\"][0]), temp[\"condition\"][0])\n",
    "# print(len(temp[\"conditional_sample\"][0]), temp[\"conditional_sample\"][0])\n",
    "# print(len(temp[\"sample\"][0]), temp[\"sample\"][0])"
   ]
  },
  {
   "cell_type": "code",
   "execution_count": 14,
   "metadata": {},
   "outputs": [],
   "source": [
    "all_lengths = dict()\n",
    "\n",
    "for run_name, samples in all_samples.items():\n",
    "    \n",
    "    all_lengths[run_name] = dict()\n",
    "    \n",
    "    weak = False\n",
    "    if \"weak\" in run_name.lower():\n",
    "        weak = True\n",
    "    \n",
    "    for k, v in samples.items():\n",
    "        \n",
    "        # DATA SAMPLE\n",
    "        if k == \"condition\":\n",
    "            lengths = get_length_of_chunk(v, remove_start=True)\n",
    "            \n",
    "        # MODEL SAMPLE\n",
    "        else:\n",
    "            # to avoid lens > 62 only get the reasonable predictions\n",
    "            if weak:\n",
    "                # instead of remove start just chop of the first token\n",
    "                lengths = get_length_of_chunk(v[:, 1:-1], remove_start=False) \n",
    "            else:\n",
    "                lengths = get_length_of_chunk(v[:, :-1], remove_start=False)\n",
    "        \n",
    "        all_lengths[run_name][k] = lengths"
   ]
  },
  {
   "cell_type": "markdown",
   "metadata": {},
   "source": [
    "## Check order of the validation set and the conditional samples\n",
    "\n",
    "-> Should be all of the same length and same order!"
   ]
  },
  {
   "cell_type": "code",
   "execution_count": 15,
   "metadata": {},
   "outputs": [
    {
     "name": "stdout",
     "output_type": "stream",
     "text": [
      "INFO-VAE l_Rate 0.1 l_MMD 1 dec: Strong roBERTa\n",
      "[16, 34, 24, 23, 21, 15, 31, 41, 20, 32, 34, 24, 31, 13, 42, 24, 12, 37, 16, 26]\n",
      "2560\n",
      "\n",
      "INFO-VAE l_Rate 0.1 l_MMD 10 dec: Strong roBERTa\n",
      "[16, 34, 24, 23, 21, 15, 31, 41, 20, 32, 34, 24, 31, 13, 42, 24, 12, 37, 16, 26]\n",
      "2560\n",
      "\n",
      "INFO-VAE l_Rate 0.1 l_MMD 100 dec: Strong roBERTa\n",
      "[16, 34, 24, 23, 21, 15, 31, 41, 20, 32, 34, 24, 31, 13, 42, 24, 12, 37, 16, 26]\n",
      "2560\n",
      "\n",
      "INFO-VAE l_Rate 0.5 l_MMD 1 dec: Strong roBERTa\n",
      "[16, 34, 24, 23, 21, 15, 31, 41, 20, 32, 34, 24, 31, 13, 42, 24, 12, 37, 16, 26]\n",
      "2560\n",
      "\n",
      "INFO-VAE l_Rate 0.5 l_MMD 10 dec: Strong roBERTa\n",
      "[16, 34, 24, 23, 21, 15, 31, 41, 20, 32, 34, 24, 31, 13, 42, 24, 12, 37, 16, 26]\n",
      "2560\n",
      "\n",
      "INFO-VAE l_Rate 0.5 l_MMD 100 dec: Strong roBERTa\n",
      "[16, 34, 24, 23, 21, 15, 31, 41, 20, 32, 34, 24, 31, 13, 42, 24, 12, 37, 16, 26]\n",
      "2560\n",
      "\n",
      "INFO-VAE l_Rate 1 l_MMD 1 dec: Strong roBERTa\n",
      "[16, 34, 24, 23, 21, 15, 31, 41, 20, 32, 34, 24, 31, 13, 42, 24, 12, 37, 16, 26]\n",
      "2560\n",
      "\n",
      "INFO-VAE l_Rate 1 l_MMD 10 dec: Strong roBERTa\n",
      "[16, 34, 24, 23, 21, 15, 31, 41, 20, 32, 34, 24, 31, 13, 42, 24, 12, 37, 16, 26]\n",
      "2560\n",
      "\n",
      "INFO-VAE l_Rate 1 l_MMD 100 dec: Strong roBERTa\n",
      "[16, 34, 24, 23, 21, 15, 31, 41, 20, 32, 34, 24, 31, 13, 42, 24, 12, 37, 16, 26]\n",
      "2560\n",
      "\n",
      "INFO-VAE l_Rate 2 l_MMD 1 dec: Strong roBERTa\n",
      "[16, 34, 24, 23, 21, 15, 31, 41, 20, 32, 34, 24, 31, 13, 42, 24, 12, 37, 16, 26]\n",
      "2560\n",
      "\n",
      "INFO-VAE l_Rate 2 l_MMD 10 dec: Strong roBERTa\n",
      "[16, 34, 24, 23, 21, 15, 31, 41, 20, 32, 34, 24, 31, 13, 42, 24, 12, 37, 16, 26]\n",
      "2560\n",
      "\n",
      "INFO-VAE l_Rate 2 l_MMD 100 dec: Strong roBERTa\n",
      "[16, 34, 24, 23, 21, 15, 31, 41, 20, 32, 34, 24, 31, 13, 42, 24, 12, 37, 16, 26]\n",
      "2560\n",
      "\n",
      "BETA-VAE beta 0 dec: Strong roBERTa\n",
      "[16, 34, 24, 23, 21, 15, 31, 41, 20, 32, 34, 24, 31, 13, 42, 24, 12, 37, 16, 26]\n",
      "2560\n",
      "\n",
      "BETA-VAE beta 0.25 dec: Strong roBERTa\n",
      "[16, 34, 24, 23, 21, 15, 31, 41, 20, 32, 34, 24, 31, 13, 42, 24, 12, 37, 16, 26]\n",
      "2560\n",
      "\n",
      "BETA-VAE beta 0.5 dec: Strong roBERTa\n",
      "[16, 34, 24, 23, 21, 15, 31, 41, 20, 32, 34, 24, 31, 13, 42, 24, 12, 37, 16, 26]\n",
      "2560\n",
      "\n",
      "BETA-VAE beta 0.75 dec: Strong roBERTa\n",
      "[16, 34, 24, 23, 21, 15, 31, 41, 20, 32, 34, 24, 31, 13, 42, 24, 12, 37, 16, 26]\n",
      "2560\n",
      "\n",
      "BETA-VAE beta 1 dec: Strong roBERTa\n",
      "[16, 34, 24, 23, 21, 15, 31, 41, 20, 32, 34, 24, 31, 13, 42, 24, 12, 37, 16, 26]\n",
      "2560\n",
      "\n",
      "BETA-VAE beta 2 dec: Strong roBERTa\n",
      "[16, 34, 24, 23, 21, 15, 31, 41, 20, 32, 34, 24, 31, 13, 42, 24, 12, 37, 16, 26]\n",
      "2560\n",
      "\n",
      "FB-VAE 4 dec: Strong roBERTa\n",
      "[16, 34, 24, 23, 21, 15, 31, 41, 20, 32, 34, 24, 31, 13, 42, 24, 12, 37, 16, 26]\n",
      "2560\n",
      "\n",
      "FB-VAE 8 dec: Strong roBERTa\n",
      "[16, 34, 24, 23, 21, 15, 31, 41, 20, 32, 34, 24, 31, 13, 42, 24, 12, 37, 16, 26]\n",
      "2560\n",
      "\n",
      "FB-VAE 16 dec: Strong roBERTa\n",
      "[16, 34, 24, 23, 21, 15, 31, 41, 20, 32, 34, 24, 31, 13, 42, 24, 12, 37, 16, 26]\n",
      "2560\n",
      "\n",
      "FB-VAE 32 dec: Strong roBERTa\n",
      "[16, 34, 24, 23, 21, 15, 31, 41, 20, 32, 34, 24, 31, 13, 42, 24, 12, 37, 16, 26]\n",
      "2560\n",
      "\n",
      "FB-VAE 64 dec: Strong roBERTa\n",
      "[16, 34, 24, 23, 21, 15, 31, 41, 20, 32, 34, 24, 31, 13, 42, 24, 12, 37, 16, 26]\n",
      "2560\n",
      "\n",
      "[16, 34, 24, 23, 21, 15, 31, 41, 20, 32, 34, 24, 31, 13, 42, 24, 12, 37, 16, 26]\n",
      "2560\n"
     ]
    }
   ],
   "source": [
    "for run_name, lengths in all_lengths.items():\n",
    "    print(run_name)\n",
    "    print(lengths[\"condition\"][:20])\n",
    "    print(len(lengths[\"condition\"]))\n",
    "    \n",
    "    print()\n",
    "\n",
    "print(ptb_valid_lens[:20])\n",
    "print(len(ptb_valid_lens))"
   ]
  },
  {
   "cell_type": "code",
   "execution_count": 18,
   "metadata": {},
   "outputs": [],
   "source": [
    "all_lens = {\n",
    "    \"data_group\": dict(train=ptb_train_lens, valid=ptb_valid_lens),\n",
    "    \"model_groups\": all_lengths\n",
    "}\n",
    "torch.save(all_lens, \"ptb_length_analysis_data.pt\")"
   ]
  },
  {
   "cell_type": "code",
   "execution_count": 17,
   "metadata": {},
   "outputs": [
    {
     "name": "stdout",
     "output_type": "stream",
     "text": [
      "1 62\n"
     ]
    },
    {
     "data": {
      "image/png": "[encoded data removed]",
      "text/plain": [
       "<Figure size 432x288 with 1 Axes>"
      ]
     },
     "metadata": {
      "needs_background": "light"
     },
     "output_type": "display_data"
    },
    {
     "name": "stdout",
     "output_type": "stream",
     "text": [
      "1 62\n"
     ]
    },
    {
     "data": {
      "image/png": "[encoded data removed]",
      "text/plain": [
       "<Figure size 432x288 with 1 Axes>"
      ]
     },
     "metadata": {
      "needs_background": "light"
     },
     "output_type": "display_data"
    }
   ],
   "source": [
    "run_strong = \"INFO-VAE l_Rate 0.5 l_MMD 100 dec: Strong roBERTa\"\n",
    "run_weak = \"INFO-VAE l_Rate 0.1 l_MMD 1 dec: Weak-M roBERTa\"\n",
    "\n",
    "sample_type = \"conditional_sample\"\n",
    "# sample_type = \"sample\"\n",
    "\n",
    "plt.hist(all_lengths[run_strong][sample_type], bins=62)\n",
    "print(min(all_lengths[run_strong][sample_type]), max(all_lengths[run_strong][sample_type]))\n",
    "plt.title(run_strong)\n",
    "plt.show()\n",
    "\n",
    "# plt.hist(all_lengths[run_weak][sample_type], bins=62)\n",
    "# print(min(all_lengths[run_weak][sample_type]), max(all_lengths[run_weak][sample_type]))\n",
    "# plt.title(run_weak)\n",
    "# plt.show()\n",
    "\n",
    "plt.hist(ptb_valid_lens, bins=62)\n",
    "print(min(ptb_valid_lens), max(ptb_valid_lens))\n",
    "plt.title(\"ptb valid\")\n",
    "plt.show()"
   ]
  },
  {
   "cell_type": "code",
   "execution_count": null,
   "metadata": {},
   "outputs": [],
   "source": []
  }
 ],
 "metadata": {
  "kernelspec": {
   "display_name": "thesisenv",
   "language": "python",
   "name": "thesisenv"
  },
  "language_info": {
   "codemirror_mode": {
    "name": "ipython",
    "version": 3
   },
   "file_extension": ".py",
   "mimetype": "text/x-python",
   "name": "python",
   "nbconvert_exporter": "python",
   "pygments_lexer": "ipython3",
   "version": "3.6.12"
  }
 },
 "nbformat": 4,
 "nbformat_minor": 2
}
