{
 "cells": [
  {
   "cell_type": "code",
   "execution_count": 1,
   "id": "affected-spell",
   "metadata": {},
   "outputs": [],
   "source": [
    "from dataset_dataloader import ImageDataset\n",
    "from arguments import preprare_parser\n",
    "import matplotlib.pyplot as plt\n",
    "\n",
    "args = preprare_parser(jupyter=True, print_settings=False)"
   ]
  },
  {
   "cell_type": "code",
   "execution_count": 10,
   "id": "cutting-chambers",
   "metadata": {},
   "outputs": [
    {
     "name": "stdout",
     "output_type": "stream",
     "text": [
      "torch.Size([32, 1, 28, 28]) torch.Size([32])\n"
     ]
    },
    {
     "data": {
      "image/png": "[encoded data removed]",
      "text/plain": [
       "<Figure size 432x288 with 1 Axes>"
      ]
     },
     "metadata": {
      "needs_background": "light"
     },
     "output_type": "display_data"
    }
   ],
   "source": [
    "args.image_dataset_name = \"mnist\"\n",
    "train_loader = ImageDataset(args=args).train_loader()\n",
    "for X, y in train_loader:\n",
    "    print(X.shape, y.shape)\n",
    "    \n",
    "    plt.imshow(X.numpy()[0, 0, :, :], cmap='gray')\n",
    "    plt.show()\n",
    "    \n",
    "    break"
   ]
  },
  {
   "cell_type": "code",
   "execution_count": 3,
   "id": "arbitrary-chuck",
   "metadata": {},
   "outputs": [
    {
     "name": "stdout",
     "output_type": "stream",
     "text": [
      "torch.Size([32, 1, 28, 28]) torch.Size([32])\n"
     ]
    },
    {
     "data": {
      "image/png": "[encoded data removed]",
      "text/plain": [
       "<Figure size 432x288 with 1 Axes>"
      ]
     },
     "metadata": {
      "needs_background": "light"
     },
     "output_type": "display_data"
    }
   ],
   "source": [
    "args.image_dataset_name = \"bmnist\"\n",
    "train_loader = ImageDataset(args=args).train_loader()\n",
    "for X, y in train_loader:\n",
    "    print(X.shape, y.shape)\n",
    "    \n",
    "    plt.imshow(X.numpy()[0, 0, :, :], cmap='gray')\n",
    "    plt.show()\n",
    "    \n",
    "    break"
   ]
  },
  {
   "cell_type": "code",
   "execution_count": null,
   "id": "creative-times",
   "metadata": {},
   "outputs": [],
   "source": []
  }
 ],
 "metadata": {
  "kernelspec": {
   "display_name": "thesisenvlocal",
   "language": "python",
   "name": "thesisenvlocal"
  },
  "language_info": {
   "codemirror_mode": {
    "name": "ipython",
    "version": 3
   },
   "file_extension": ".py",
   "mimetype": "text/x-python",
   "name": "python",
   "nbconvert_exporter": "python",
   "pygments_lexer": "ipython3",
   "version": "3.6.10"
  }
 },
 "nbformat": 4,
 "nbformat_minor": 5
}
