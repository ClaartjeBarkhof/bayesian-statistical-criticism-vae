{
 "cells": [
  {
   "cell_type": "code",
   "execution_count": 1,
   "metadata": {},
   "outputs": [],
   "source": [
    "import os\n",
    "import sys\n",
    "sys.path.append(\"..\")\n",
    "import pickle\n",
    "\n",
    "from dataset_dataloader import ImageDataset\n",
    "from arguments import prepare_parser\n",
    "from vae_model.vae import VaeModel\n",
    "from utils import load_checkpoint_model_for_eval\n",
    "from analysis import get_n_data_samples_x_y, build_posterior_analysis_grid\n",
    "\n",
    "import torch\n",
    "\n",
    "%matplotlib inline\n",
    "import matplotlib.pyplot as plt\n",
    "\n",
    "%config InlineBackend.figure_format='retina'"
   ]
  },
  {
   "cell_type": "markdown",
   "metadata": {},
   "source": [
    "# Load relevant checkpoints"
   ]
  },
  {
   "cell_type": "code",
   "execution_count": 2,
   "metadata": {},
   "outputs": [
    {
     "name": "stdout",
     "output_type": "stream",
     "text": [
      "0 q(z|x) basic_conv_encoder - conditional_gaussian_made | p(x|z) basic_mlp_decoder - 2021-09-22-11:07:15.pt\n",
      "1 q(z|x) basic_conv_encoder - conditional_gaussian_made | p(x|z) basic_deconv_decoder - 2021-09-22-11:07:15.pt\n",
      "2 q(z|x) basic_conv_encoder - conditional_gaussian_made | p(x|z) conditional_made_decoder - 2021-09-22-11:11:15.pt\n",
      "3 q(z|x) basic_mlp_encoder - conditional_gaussian_made | p(x|z) basic_mlp_decoder - 2021-09-22-11:31:20.pt\n",
      "4 q(z|x) basic_mlp_encoder - conditional_gaussian_made | p(x|z) basic_deconv_decoder - 2021-09-22-11:48:20.pt\n",
      "5 q(z|x) basic_mlp_encoder - independent_gaussian | p(x|z) basic_mlp_decoder - 2021-09-22-11:50:42.pt\n",
      "6 q(z|x) basic_conv_encoder - independent_gaussian | p(x|z) basic_mlp_decoder - 2021-09-22-11:50:42.pt\n",
      "7 q(z|x) basic_conv_encoder - independent_gaussian | p(x|z) conditional_made_decoder - 2021-09-22-11:50:42.pt\n",
      "8 q(z|x) basic_conv_encoder - independent_gaussian | p(x|z) basic_deconv_decoder - 2021-09-22-11:50:42.pt\n",
      "9 q(z|x) basic_mlp_encoder - conditional_gaussian_made | p(x|z) conditional_made_decoder - 2021-09-22-11:50:42.pt\n",
      "10 q(z|x) basic_mlp_encoder - independent_gaussian | p(x|z) basic_deconv_decoder - 2021-09-22-12:13:19.pt\n",
      "11 q(z|x) basic_mlp_encoder - independent_gaussian | p(x|z) conditional_made_decoder - 2021-09-22-12:15:36.pt\n"
     ]
    }
   ],
   "source": [
    "checkpoint_dir = \"../run_files/checkpoints\"\n",
    "checkpoint_dict = dict()\n",
    "\n",
    "for i, c in enumerate(os.listdir(checkpoint_dir)):\n",
    "    print(i, c)\n",
    "    checkpoint_dict[i] = c"
   ]
  },
  {
   "cell_type": "markdown",
   "metadata": {},
   "source": [
    "# Posterior analysis grid"
   ]
  },
  {
   "cell_type": "code",
   "execution_count": null,
   "metadata": {
    "scrolled": false
   },
   "outputs": [
    {
     "name": "stdout",
     "output_type": "stream",
     "text": [
      "2 q(z|x) basic_conv_encoder - conditional_gaussian_made | p(x|z) conditional_made_decoder - 2021-09-22-11:11:15.pt\n",
      "best val loss 83.44\n"
     ]
    },
    {
     "ename": "IndexError",
     "evalue": "index 1 is out of bounds for dimension 0 with size 1",
     "output_type": "error",
     "traceback": [
      "\u001b[0;31m---------------------------------------------------------------------------\u001b[0m",
      "\u001b[0;31mIndexError\u001b[0m                                Traceback (most recent call last)",
      "\u001b[0;32m<ipython-input-4-d6b701aea8ca>\u001b[0m in \u001b[0;36m<module>\u001b[0;34m\u001b[0m\n\u001b[1;32m     17\u001b[0m \u001b[0;34m\u001b[0m\u001b[0m\n\u001b[1;32m     18\u001b[0m     build_posterior_analysis_grid(vae_model=vae_model, plot_name=clean_name, plot_dir=plot_dir,\n\u001b[0;32m---> 19\u001b[0;31m                                   data_X=data_X, data_y=data_y, n_sampled_reconstructions=5)\n\u001b[0m",
      "\u001b[0;32m~/fall-2021/analysis.py\u001b[0m in \u001b[0;36mbuild_posterior_analysis_grid\u001b[0;34m(vae_model, plot_name, plot_dir, data_X, data_y, n_sampled_reconstructions)\u001b[0m\n\u001b[1;32m     85\u001b[0m                 1).squeeze(1).squeeze(1)\n\u001b[1;32m     86\u001b[0m             \u001b[0;32mfor\u001b[0m \u001b[0mi\u001b[0m \u001b[0;32min\u001b[0m \u001b[0mrange\u001b[0m\u001b[0;34m(\u001b[0m\u001b[0;36m2\u001b[0m\u001b[0;34m,\u001b[0m \u001b[0mn_sampled_reconstructions\u001b[0m \u001b[0;34m+\u001b[0m \u001b[0;36m2\u001b[0m\u001b[0;34m)\u001b[0m\u001b[0;34m:\u001b[0m\u001b[0;34m\u001b[0m\u001b[0;34m\u001b[0m\u001b[0m\n\u001b[0;32m---> 87\u001b[0;31m                 \u001b[0maxs\u001b[0m\u001b[0;34m[\u001b[0m\u001b[0mdigit\u001b[0m\u001b[0;34m,\u001b[0m \u001b[0mi\u001b[0m\u001b[0;34m]\u001b[0m\u001b[0;34m.\u001b[0m\u001b[0mimshow\u001b[0m\u001b[0;34m(\u001b[0m\u001b[0mreconstructions\u001b[0m\u001b[0;34m[\u001b[0m\u001b[0mi\u001b[0m \u001b[0;34m-\u001b[0m \u001b[0;36m2\u001b[0m\u001b[0;34m,\u001b[0m \u001b[0;34m:\u001b[0m\u001b[0;34m,\u001b[0m \u001b[0;34m:\u001b[0m\u001b[0;34m]\u001b[0m\u001b[0;34m,\u001b[0m \u001b[0mcmap\u001b[0m\u001b[0;34m=\u001b[0m\u001b[0;34m\"Greys\"\u001b[0m\u001b[0;34m)\u001b[0m\u001b[0;34m\u001b[0m\u001b[0;34m\u001b[0m\u001b[0m\n\u001b[0m\u001b[1;32m     88\u001b[0m                 \u001b[0maxs\u001b[0m\u001b[0;34m[\u001b[0m\u001b[0mdigit\u001b[0m\u001b[0;34m,\u001b[0m \u001b[0mi\u001b[0m\u001b[0;34m]\u001b[0m\u001b[0;34m.\u001b[0m\u001b[0mset_title\u001b[0m\u001b[0;34m(\u001b[0m\u001b[0;34m\"Reconstruction sample\"\u001b[0m\u001b[0;34m,\u001b[0m \u001b[0msize\u001b[0m\u001b[0;34m=\u001b[0m\u001b[0;36m7\u001b[0m\u001b[0;34m)\u001b[0m\u001b[0;34m\u001b[0m\u001b[0;34m\u001b[0m\u001b[0m\n\u001b[1;32m     89\u001b[0m \u001b[0;34m\u001b[0m\u001b[0m\n",
      "\u001b[0;31mIndexError\u001b[0m: index 1 is out of bounds for dimension 0 with size 1"
     ]
    }
   ],
   "source": [
    "# PLOT SAVING\n",
    "plot_dir = \"posterior-plots\"\n",
    "os.makedirs(plot_dir, exist_ok=True)\n",
    "\n",
    "# DATA\n",
    "data_X, data_y = get_n_data_samples_x_y(image_dataset_name=\"bmnist\", N_samples=1000)\n",
    "\n",
    "# MAKE PRIOR GRID PLOTS\n",
    "for C_N in range(2, 12):\n",
    "    print(C_N, checkpoint_dict[C_N])\n",
    "    \n",
    "    checkpoint_path = f\"{checkpoint_dir}/{checkpoint_dict[C_N]}\"\n",
    "    \n",
    "    vae_model = load_checkpoint_model_for_eval(checkpoint_path)\n",
    "    \n",
    "    clean_name = checkpoint_dict[C_N].split(\"- 2021\")[0]\n",
    "    \n",
    "    build_posterior_analysis_grid(vae_model=vae_model, plot_name=clean_name, plot_dir=plot_dir,\n",
    "                                  data_X=data_X, data_y=data_y, n_sampled_reconstructions=5)"
   ]
  },
  {
   "cell_type": "code",
   "execution_count": null,
   "metadata": {},
   "outputs": [],
   "source": []
  }
 ],
 "metadata": {
  "kernelspec": {
   "display_name": "thesisenv",
   "language": "python",
   "name": "thesisenv"
  },
  "language_info": {
   "codemirror_mode": {
    "name": "ipython",
    "version": 3
   },
   "file_extension": ".py",
   "mimetype": "text/x-python",
   "name": "python",
   "nbconvert_exporter": "python",
   "pygments_lexer": "ipython3",
   "version": "3.6.12"
  }
 },
 "nbformat": 4,
 "nbformat_minor": 2
}
